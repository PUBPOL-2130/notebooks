{
 "cells": [
  {
   "cell_type": "markdown",
   "metadata": {},
   "source": [
    "<p style=\"font-size:25px; color:purple;\">Python Basics</p>"
   ]
  },
  {
   "cell_type": "code",
   "execution_count": null,
   "metadata": {},
   "outputs": [
    {
     "name": "stdout",
     "output_type": "stream",
     "text": [
      "Hello World\n"
     ]
    }
   ],
   "source": [
    "# Let's start out with printing the famous line, \"Hello World!\" using Python!\n",
    "print(\"Hello World\")"
   ]
  },
  {
   "cell_type": "code",
   "execution_count": null,
   "metadata": {},
   "outputs": [
    {
     "name": "stdout",
     "output_type": "stream",
     "text": [
      "3.13.1 (v3.13.1:06714517797, Dec  3 2024, 14:00:22) [Clang 15.0.0 (clang-1500.3.9.4)]\n"
     ]
    }
   ],
   "source": [
    "# Find out what version of python you're using! \n",
    "import sys\n",
    "\n",
    "print(sys.version)"
   ]
  },
  {
   "cell_type": "markdown",
   "metadata": {},
   "source": [
    "<p style=\"font-size:20px; color:black;\">Indentation</p>\n",
    "<l>\n",
    "What does indentation in Python indicate?\n",
    "\n",
    "\n",
    "\n"
   ]
  },
  {
   "cell_type": "code",
   "execution_count": 5,
   "metadata": {},
   "outputs": [
    {
     "name": "stdout",
     "output_type": "stream",
     "text": [
      "five greater than two\n"
     ]
    }
   ],
   "source": [
    "if 5>2:\n",
    "    print(\"five greater than two\")"
   ]
  },
  {
   "cell_type": "code",
   "execution_count": 6,
   "metadata": {},
   "outputs": [
    {
     "ename": "IndentationError",
     "evalue": "expected an indented block after 'if' statement on line 1 (142486041.py, line 2)",
     "output_type": "error",
     "traceback": [
      "\u001b[0;36m  Cell \u001b[0;32mIn[6], line 2\u001b[0;36m\u001b[0m\n\u001b[0;31m    print(\" pigs can fly\")\u001b[0m\n\u001b[0m    ^\u001b[0m\n\u001b[0;31mIndentationError\u001b[0m\u001b[0;31m:\u001b[0m expected an indented block after 'if' statement on line 1\n"
     ]
    }
   ],
   "source": [
    "if 5>2:\n",
    "print(\" pigs can fly\")"
   ]
  },
  {
   "cell_type": "code",
   "execution_count": null,
   "metadata": {},
   "outputs": [
    {
     "name": "stdout",
     "output_type": "stream",
     "text": [
      "I hate icecream\n"
     ]
    }
   ],
   "source": [
    "if 5>2:\n",
    "            print(\"I hate ice-cream\")\n"
   ]
  },
  {
   "cell_type": "markdown",
   "metadata": {},
   "source": [
    "<p style=\"font-size:20px; color:black;\">Variables</p>\n",
    "\n",
    "A variable is a named location in memory that stores a value."
   ]
  },
  {
   "cell_type": "code",
   "execution_count": null,
   "metadata": {},
   "outputs": [
    {
     "name": "stdout",
     "output_type": "stream",
     "text": [
      "Hello World\n",
      "8\n"
     ]
    }
   ],
   "source": [
    "# Creating a variable\n",
    "x = 8\n",
    "y = \"Hello World\"\n",
    "print(y)\n",
    "print(x)"
   ]
  },
  {
   "cell_type": "code",
   "execution_count": null,
   "metadata": {},
   "outputs": [
    {
     "name": "stdout",
     "output_type": "stream",
     "text": [
      "Ithaca\n"
     ]
    }
   ],
   "source": [
    "# You can over-ride the value of variable\n",
    "x = \"Ithaca\"\n",
    "print(x)"
   ]
  },
  {
   "cell_type": "code",
   "execution_count": null,
   "metadata": {},
   "outputs": [
    {
     "name": "stdout",
     "output_type": "stream",
     "text": [
      "Cornell University\n",
      "PUB-POL-2130\n",
      "Data & Governance\n"
     ]
    }
   ],
   "source": [
    "# variable naming hygiene\n",
    "myVariableName = \"Cornell University\" # Camel case\n",
    "my_variable_name = \"PUB-POL-2130\" # Snake case\n",
    "MyVariableName2 = \"Data & Governance\" # Pascal case\n",
    "# 2varnam = \"Professor\" # The script in this line will fail, do you know why?\n",
    "\n",
    "# printing values\n",
    "print(myVariableName)\n",
    "print(my_variable_name)\n",
    "print(MyVariableName2)\n",
    "# print(2varnam)\n"
   ]
  },
  {
   "cell_type": "markdown",
   "metadata": {},
   "source": [
    "<p style=\"font-size:20px; color:black;\">Comments</p>\n",
    "\n",
    "Comments are lines of code that the interpreter ignores during execution. They are used to explain the code, making it more readable for humans (like your graders!)."
   ]
  },
  {
   "cell_type": "code",
   "execution_count": null,
   "metadata": {},
   "outputs": [],
   "source": [
    "# comment\n",
    "# Use the shortcut Cmd + / to comment multiple lines\n",
    "# ''' and \"\"\"\" may be interpreted as string declaration in Python"
   ]
  },
  {
   "cell_type": "markdown",
   "metadata": {},
   "source": [
    "<p style=\"font-size:20px; color:black;\">Data Types</p>\n",
    "<l>\n",
    "Use this code snippet to create variables of different data types having the same value (11, here). Finally, print the data type of each variable."
   ]
  },
  {
   "cell_type": "code",
   "execution_count": null,
   "metadata": {},
   "outputs": [
    {
     "name": "stdout",
     "output_type": "stream",
     "text": [
      "11\n",
      "11\n",
      "11.0\n",
      "<class 'str'>\n",
      "<class 'int'>\n",
      "<class 'float'>\n"
     ]
    }
   ],
   "source": [
    "# Creating variables with specified data types\n",
    "x = str(11)\n",
    "y = int(11)\n",
    "z = float(11)\n",
    "\n",
    "# printing the variables\n",
    "print(x)\n",
    "print(y)\n",
    "print(z)\n",
    "\n",
    "# printing the data type of each variable\n",
    "print(type(x))\n",
    "print(type(y))\n",
    "print(type(z))"
   ]
  },
  {
   "cell_type": "code",
   "execution_count": null,
   "metadata": {},
   "outputs": [
    {
     "name": "stdout",
     "output_type": "stream",
     "text": [
      "11\n",
      "11\n",
      "11.0\n"
     ]
    }
   ],
   "source": [
    "# aim for efficient code\n",
    "x, y, z = str(11), int(11), float(11)\n",
    "print(x)\n",
    "print(y)\n",
    "print(z)"
   ]
  },
  {
   "cell_type": "code",
   "execution_count": 27,
   "metadata": {},
   "outputs": [
    {
     "name": "stdout",
     "output_type": "stream",
     "text": [
      "11\n",
      "11\n",
      "11.0\n",
      "11 11 11.0\n",
      "22.0\n"
     ]
    }
   ],
   "source": [
    "# if you are going to re-use x,y,z as a list\n",
    "vars = [str(11), int(11), float(11)]\n",
    "x, y, z = vars\n",
    "print(x)\n",
    "print(y)\n",
    "print(z)\n",
    "\n",
    "print(x,y,z)\n",
    "print(y+z)"
   ]
  },
  {
   "cell_type": "code",
   "execution_count": 38,
   "metadata": {},
   "outputs": [
    {
     "name": "stdout",
     "output_type": "stream",
     "text": [
      "11 11 11.0\n",
      "<class 'str'> <class 'int'> <class 'float'>\n",
      "11 11.0 11\n",
      "<class 'int'> <class 'float'> <class 'str'>\n"
     ]
    }
   ],
   "source": [
    "# converting data types\n",
    "\n",
    "print(x, y, z)\n",
    "print(type(x), type(y), type(z))\n",
    "\n",
    "a, b, c = int(x), float(y), str(int(z))\n",
    "\n",
    "print(a, b, c)\n",
    "print(type(a), type(b), type(c))\n"
   ]
  },
  {
   "cell_type": "code",
   "execution_count": 21,
   "metadata": {},
   "outputs": [
    {
     "name": "stdout",
     "output_type": "stream",
     "text": [
      "Kutti\n",
      "Singh\n",
      "KuttiSingh\n"
     ]
    }
   ],
   "source": [
    "# Syntax to declare a string, personal choice!\n",
    "x = \"Kutti\"\n",
    "X = 'Singh'\n",
    "\n",
    "# printing variable\n",
    "print(x)\n",
    "print(X)\n",
    "\n",
    "print(x + X)"
   ]
  },
  {
   "cell_type": "markdown",
   "metadata": {},
   "source": [
    "Why does the print function result in two values? How come \"Singh\" does not over-write \"Kutti\"?"
   ]
  },
  {
   "cell_type": "code",
   "execution_count": 43,
   "metadata": {},
   "outputs": [
    {
     "name": "stdout",
     "output_type": "stream",
     "text": [
      "this is the syntax\n",
      "for printing\n",
      "multiple lines\n",
      "of text\n",
      "\n"
     ]
    }
   ],
   "source": [
    "# printing multiple lines of text\n",
    "a = \"\"\"this is the syntax\n",
    "for printing\n",
    "multiple lines\n",
    "of text\n",
    "\"\"\"\n",
    "\n",
    "print(a)"
   ]
  },
  {
   "cell_type": "markdown",
   "metadata": {},
   "source": [
    "<p style=\"font-size:20px; color:black;\">Global & Local Variables</p>"
   ]
  },
  {
   "cell_type": "code",
   "execution_count": 127,
   "metadata": {},
   "outputs": [
    {
     "name": "stdout",
     "output_type": "stream",
     "text": [
      "I am taking PUBPOL-5550 in my first semester\n",
      "I am taking PUBPOL-2130 in my first semester\n"
     ]
    }
   ],
   "source": [
    "# global variable\n",
    "className = \"PUBPOL-2130\"\n",
    "\n",
    "def myfunc(): # defining function \n",
    "  # local variable, alue is valid only within the function\n",
    "  className = \"PUBPOL-5550\"\n",
    "  print(\"I am taking \" + className + \" in my first semester\")\n",
    "\n",
    "myfunc() # end of function\n",
    "\n",
    "print(\"I am taking \" + className + \" in my first semester\")\n"
   ]
  },
  {
   "cell_type": "code",
   "execution_count": 26,
   "metadata": {},
   "outputs": [
    {
     "name": "stdout",
     "output_type": "stream",
     "text": [
      "I am taking PUB-POL-5550 in my first semester\n",
      "I am taking PUB-POL-5550 in my first semester\n"
     ]
    }
   ],
   "source": [
    "# global variable\n",
    "className = \"PUB-POL-2130\"\n",
    "\n",
    "def myfunc(): # defining function \n",
    "  global className # telling the compiler that we're talking about global x\n",
    "  className = \"PUB-POL-5550\" # changing global x\n",
    "  print(\"I am taking \" + className + \" in my first semester\")\n",
    "\n",
    "myfunc() # end of function\n",
    "\n",
    "print(\"I am taking \" + className + \" in my first semester\")"
   ]
  },
  {
   "cell_type": "code",
   "execution_count": 41,
   "metadata": {},
   "outputs": [
    {
     "name": "stdout",
     "output_type": "stream",
     "text": [
      "9\n"
     ]
    }
   ],
   "source": [
    "import random\n",
    "\n",
    "print(random.randrange(1, 10))"
   ]
  },
  {
   "cell_type": "markdown",
   "metadata": {},
   "source": [
    "<p style=\"font-size:20px; color:black;\">Strings in Python</p>\n",
    "\n",
    "Strings are a fundamental data type used to represent text data. They are immutable in Python, meaning you cannot change their contents directly. If you want to modify a string, you need to create a new one."
   ]
  },
  {
   "cell_type": "code",
   "execution_count": 58,
   "metadata": {},
   "outputs": [
    {
     "name": "stdout",
     "output_type": "stream",
     "text": [
      "b\n",
      "a\n",
      "n\n",
      "a\n",
      "n\n",
      "a\n"
     ]
    }
   ],
   "source": [
    "for e in \"banana\":\n",
    "  print(e)"
   ]
  },
  {
   "cell_type": "code",
   "execution_count": 59,
   "metadata": {},
   "outputs": [
    {
     "name": "stdout",
     "output_type": "stream",
     "text": [
      "a\n",
      "5\n"
     ]
    }
   ],
   "source": [
    "f = \"candy\"\n",
    "print(f[1])\n",
    "print(len(f))"
   ]
  },
  {
   "cell_type": "code",
   "execution_count": 62,
   "metadata": {},
   "outputs": [
    {
     "name": "stdout",
     "output_type": "stream",
     "text": [
      "True\n"
     ]
    }
   ],
   "source": [
    "txt = \"The best things in life are free!\"\n",
    "print(\"free\" in txt)"
   ]
  },
  {
   "cell_type": "code",
   "execution_count": 64,
   "metadata": {},
   "outputs": [],
   "source": [
    "txt = \"The best things in life are free!\"\n",
    "if \"butter\" in txt:\n",
    "  print(\"Yes, 'free' is present.\")"
   ]
  },
  {
   "cell_type": "code",
   "execution_count": 66,
   "metadata": {},
   "outputs": [
    {
     "name": "stdout",
     "output_type": "stream",
     "text": [
      "True\n"
     ]
    }
   ],
   "source": [
    "txt = \"The best things in life are free!\"\n",
    "print(\"expensive\" not in txt)"
   ]
  },
  {
   "cell_type": "code",
   "execution_count": 67,
   "metadata": {},
   "outputs": [
    {
     "name": "stdout",
     "output_type": "stream",
     "text": [
      "No, 'expensive' is NOT present.\n"
     ]
    }
   ],
   "source": [
    "txt = \"The best things in life are free!\"\n",
    "if \"expensive\" not in txt:\n",
    "  print(\"No, 'expensive' is NOT present.\")"
   ]
  },
  {
   "cell_type": "code",
   "execution_count": 79,
   "metadata": {},
   "outputs": [
    {
     "name": "stdout",
     "output_type": "stream",
     "text": [
      ", World!   \n",
      "d! \n",
      "HELLO, WORLD!   \n",
      "hello, world!   \n",
      "Hello, World!\n",
      "Jello, World!   \n",
      "['Hello', ' World!   ']\n"
     ]
    }
   ],
   "source": [
    "b = \"Hello, World!   \"\n",
    "print(b[5:])\n",
    "print(b[-5:-2])\n",
    "\n",
    "print(b.upper())\n",
    "print(b.lower())\n",
    "\n",
    "print(b.strip())\n",
    "print(b.replace(\"H\", \"J\"))\n",
    "print(b.split(\",\"))"
   ]
  },
  {
   "cell_type": "markdown",
   "metadata": {},
   "source": [
    "<p style=\"font-size:20px; color:black;\">Concatenation</p>\n",
    "\n",
    "Concatenation is the process of joining two or more strings together to create a new string. Let's explore concatenation methods! "
   ]
  },
  {
   "cell_type": "code",
   "execution_count": null,
   "metadata": {},
   "outputs": [
    {
     "ename": "TypeError",
     "evalue": "can only concatenate str (not \"int\") to str",
     "output_type": "error",
     "traceback": [
      "\u001b[0;31m---------------------------------------------------------------------------\u001b[0m",
      "\u001b[0;31mTypeError\u001b[0m                                 Traceback (most recent call last)",
      "Cell \u001b[0;32mIn[128], line 2\u001b[0m\n\u001b[1;32m      1\u001b[0m age \u001b[38;5;241m=\u001b[39m \u001b[38;5;241m31\u001b[39m\n\u001b[0;32m----> 2\u001b[0m txt \u001b[38;5;241m=\u001b[39m \u001b[38;5;124;43m\"\u001b[39;49m\u001b[38;5;124;43mI am \u001b[39;49m\u001b[38;5;124;43m\"\u001b[39;49m\u001b[43m \u001b[49m\u001b[38;5;241;43m+\u001b[39;49m\u001b[43m \u001b[49m\u001b[43mage\u001b[49m \u001b[38;5;241m+\u001b[39m \u001b[38;5;124m\"\u001b[39m\u001b[38;5;124m years old\u001b[39m\u001b[38;5;124m\"\u001b[39m\n\u001b[1;32m      3\u001b[0m \u001b[38;5;28mprint\u001b[39m(txt)\n",
      "\u001b[0;31mTypeError\u001b[0m: can only concatenate str (not \"int\") to str"
     ]
    }
   ],
   "source": [
    "# Let's try to create a sentence from a variabe and text string!\n",
    "age = 31\n",
    "txt = \"I am \" + age + \" years old\"\n",
    "print(txt)"
   ]
  },
  {
   "cell_type": "code",
   "execution_count": null,
   "metadata": {},
   "outputs": [
    {
     "name": "stdout",
     "output_type": "stream",
     "text": [
      "I am 31 years old\n"
     ]
    }
   ],
   "source": [
    "# Concatenation using placeholders\n",
    "age = 31\n",
    "txt = f\"I am {age} years old\"\n",
    "print(txt)\n",
    "\n",
    "# Why did this code block work while the previous one failed? "
   ]
  },
  {
   "cell_type": "code",
   "execution_count": null,
   "metadata": {},
   "outputs": [
    {
     "name": "stdout",
     "output_type": "stream",
     "text": [
      "The job pays $22.00 per hour\n",
      "You will earn $330 per week\n"
     ]
    }
   ],
   "source": [
    "# Concatenation operation using modifiers\n",
    "price = 22\n",
    "txt = f\"The job pays ${price:.2f} per hour\"\n",
    "earn = f\"You will earn ${price*15} per week\"\n",
    "print(txt)\n",
    "print(earn)"
   ]
  },
  {
   "cell_type": "code",
   "execution_count": 135,
   "metadata": {},
   "outputs": [
    {
     "ename": "SyntaxError",
     "evalue": "invalid syntax (1573434571.py, line 2)",
     "output_type": "error",
     "traceback": [
      "\u001b[0;36m  Cell \u001b[0;32mIn[135], line 2\u001b[0;36m\u001b[0m\n\u001b[0;31m    txt = \"This is a \"Data & Governance\" class\" # add escape characters to fix this script\u001b[0m\n\u001b[0m                      ^\u001b[0m\n\u001b[0;31mSyntaxError\u001b[0m\u001b[0;31m:\u001b[0m invalid syntax\n"
     ]
    }
   ],
   "source": [
    "# What if you want to quote something within a string? How do you tell the interpreter which part is the quote versus the string? \n",
    "txt = \"This is a \"Data & Governance\" class\" # add escape characters to fix this script\n",
    "print(txt)"
   ]
  },
  {
   "cell_type": "markdown",
   "metadata": {},
   "source": [
    "<p style=\"font-size:20px; color:black;\">Booleans</p>\n",
    "\n",
    "Booleans are a data type that represents one of two values: True or False. Let's explore ways of using Boolean values."
   ]
  },
  {
   "cell_type": "code",
   "execution_count": 136,
   "metadata": {},
   "outputs": [
    {
     "name": "stdout",
     "output_type": "stream",
     "text": [
      "True\n",
      "True\n"
     ]
    }
   ],
   "source": [
    "# Confirming how values are read by the interpreter\n",
    "print(bool(\"PUBPOL\"))\n",
    "print(bool(2130))"
   ]
  },
  {
   "cell_type": "code",
   "execution_count": 105,
   "metadata": {},
   "outputs": [
    {
     "data": {
      "text/plain": [
       "True"
      ]
     },
     "execution_count": 105,
     "metadata": {},
     "output_type": "execute_result"
    }
   ],
   "source": [
    "bool(\"abc\")\n",
    "# bool(0)\n",
    "# bool(123)\n",
    "# bool([\"apple\", \"cherry\", \"banana\"])"
   ]
  },
  {
   "cell_type": "code",
   "execution_count": null,
   "metadata": {},
   "outputs": [
    {
     "name": "stdout",
     "output_type": "stream",
     "text": [
      "False\n"
     ]
    }
   ],
   "source": [
    "# Why does this script return the Boolean value \"False\"?\n",
    "class myclass():\n",
    "  def __len__(self):\n",
    "    return 0\n",
    "\n",
    "myobj = myclass()\n",
    "print(bool(myobj))"
   ]
  },
  {
   "cell_type": "code",
   "execution_count": null,
   "metadata": {},
   "outputs": [
    {
     "name": "stdout",
     "output_type": "stream",
     "text": [
      "YES!\n"
     ]
    }
   ],
   "source": [
    "# Conditional execution\n",
    "def myFunction() :\n",
    "  return True\n",
    "\n",
    "if myFunction():\n",
    "  print(\"YES!\")\n",
    "else:\n",
    "  print(\"NO!\")"
   ]
  },
  {
   "cell_type": "code",
   "execution_count": null,
   "metadata": {},
   "outputs": [
    {
     "name": "stdout",
     "output_type": "stream",
     "text": [
      "True\n"
     ]
    }
   ],
   "source": [
    "# Confirming data type\n",
    "x = 200\n",
    "print(isinstance(x, int))"
   ]
  },
  {
   "cell_type": "code",
   "execution_count": null,
   "metadata": {},
   "outputs": [
    {
     "name": "stdout",
     "output_type": "stream",
     "text": [
      "True\n"
     ]
    }
   ],
   "source": [
    "# Comparisons\n",
    "print(10 > 9)"
   ]
  },
  {
   "cell_type": "markdown",
   "metadata": {},
   "source": [
    "<p style=\"font-size:20px; color:black;\">Operators in Python</p>\n",
    "\n",
    "Operators in Python are used to perform operations in Python. Operations, and hence operators are of the following types :\n",
    "+ Arithmetic operators\n",
    "+ Assignment operators\n",
    "+ Comparison operators\n",
    "+ Logical operators\n",
    "+ Identity operators\n",
    "+ Membership operators\n",
    "+ Bitwise operators\n",
    "\n",
    "Explore Python operators! "
   ]
  },
  {
   "cell_type": "code",
   "execution_count": 122,
   "metadata": {},
   "outputs": [
    {
     "name": "stdout",
     "output_type": "stream",
     "text": [
      "2\n",
      "Brooks is a College in Cornell University!\n",
      "True\n"
     ]
    },
    {
     "data": {
      "text/plain": [
       "True"
      ]
     },
     "execution_count": 122,
     "metadata": {},
     "output_type": "execute_result"
    }
   ],
   "source": [
    "# Examples of each operator type\n",
    "# Execute this block of code to identify which operator is of which type!\n",
    "print(5//2)\n",
    "\n",
    "cornell = [\"brooks\", \"ilr\", \"dyson\"]\n",
    "if \"brooks\" in cornell:\n",
    "    print(\"Brooks is a College in Cornell University!\")\n",
    "\n",
    "print(bool(5 != 4))\n",
    "\n",
    "not(x < 5 and x < 10)"
   ]
  },
  {
   "cell_type": "markdown",
   "metadata": {},
   "source": [
    "<p style=\"font-size:20px; color:black;\">Lists</p>\n",
    "\n",
    "Lists are used to store multiple values in a single variable, e.g. the Cornell list above, stores the values \"brooks\", \"ilr\" and \"dyson\" in a single variable, \"cornell\", in the form of a list. While lists CAN be of multiple data types, they are USUALY of one data type. \n",
    "\n",
    "A list is a collection (array) and there are 4 types of collections in Python. Identify the differences across these 4 collection types:\n",
    "+ Lists\n",
    "+ Tuples\n",
    "+ Set\n",
    "+ Dictionary"
   ]
  },
  {
   "cell_type": "code",
   "execution_count": null,
   "metadata": {},
   "outputs": [
    {
     "name": "stdout",
     "output_type": "stream",
     "text": [
      "3\n",
      "4\n"
     ]
    }
   ],
   "source": [
    "cornell = [\"brooks\", \"ilr\", \"dyson\"]\n",
    "print(len(cornell))\n",
    "\n",
    "cornell2 = list((\"PUBPOL-2130\", \"Undergraduate Program\", \"Public Policy\", \"Jeb E. Brooks\"))\n",
    "print(len(cornell2))\n",
    "\n",
    "# Did you notice the difference in syntax used to create these two lists? \n",
    "# What is the data type of these list? What is the data type of lists in general? "
   ]
  },
  {
   "cell_type": "code",
   "execution_count": 126,
   "metadata": {},
   "outputs": [
    {
     "name": "stdout",
     "output_type": "stream",
     "text": [
      "['Public Policy', 'Jeb E. Brooks']\n"
     ]
    }
   ],
   "source": [
    "# Accessing Lists\n",
    "# We played with accessing elements of strings using indices, do the same with lists! For example:\n",
    "cornell2 = list((\"PUBPOL-2130\", \"Undergraduate Program\", \"Public Policy\", \"Jeb E. Brooks\"))\n",
    "print(cornell2[2:])"
   ]
  }
 ],
 "metadata": {
  "kernelspec": {
   "display_name": "Python 3",
   "language": "python",
   "name": "python3"
  },
  "language_info": {
   "codemirror_mode": {
    "name": "ipython",
    "version": 3
   },
   "file_extension": ".py",
   "mimetype": "text/x-python",
   "name": "python",
   "nbconvert_exporter": "python",
   "pygments_lexer": "ipython3",
   "version": "3.13.1"
  }
 },
 "nbformat": 4,
 "nbformat_minor": 2
}
