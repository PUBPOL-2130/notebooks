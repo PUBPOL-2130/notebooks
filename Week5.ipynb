{
  "cells": [
    {
      "cell_type": "markdown",
      "metadata": {
        "colab_type": "text",
        "id": "view-in-github"
      },
      "source": [
        "<a href=\"https://colab.research.google.com/github/PUBPOL-2130/notebooks/blob/main/Week5.ipynb\" target=\"_parent\"><img src=\"https://colab.research.google.com/assets/colab-badge.svg\" alt=\"Open In Colab\"/></a>"
      ]
    },
    {
      "cell_type": "code",
      "execution_count": null,
      "id": "6beea860-984e-402e-b389-aacee4ec52f6",
      "metadata": {
        "id": "6beea860-984e-402e-b389-aacee4ec52f6"
      },
      "outputs": [],
      "source": [
        "!pip install -q geopandas networkx"
      ]
    },
    {
      "cell_type": "code",
      "execution_count": null,
      "id": "8eb8fd4e-da4f-4f7e-a764-84c69b478893",
      "metadata": {
        "id": "8eb8fd4e-da4f-4f7e-a764-84c69b478893"
      },
      "outputs": [],
      "source": [
        "%config InlineBackend.figure_formats = [\"svg\"]\n",
        "import base64\n",
        "import io\n",
        "import json\n",
        "import requests\n",
        "\n",
        "import pandas as pd; pd.set_option('display.max_rows', 500)\n",
        "import geopandas as gpd\n",
        "import matplotlib.pyplot as plt\n",
        "import networkx as nx\n",
        "\n",
        "from shapely import Point"
      ]
    },
    {
      "cell_type": "markdown",
      "id": "ccab8940-a621-4f63-acc3-06263f8b1d3a",
      "metadata": {
        "id": "ccab8940-a621-4f63-acc3-06263f8b1d3a"
      },
      "source": [
        "# Week 5: Graphs, flows, and arms"
      ]
    },
    {
      "cell_type": "markdown",
      "id": "47a3e0d6-01ac-4a94-8af1-a594b813121c",
      "metadata": {
        "id": "47a3e0d6-01ac-4a94-8af1-a594b813121c"
      },
      "source": [
        "### Fetching SIPRI flow data\n",
        "\n",
        "This is a case study in real-world data munging.  There is extensive pre-processing to do to make the data useable.  We've chosen to show it to you in this notebook so that you get a realistic sense of the data challenges of working with a new dataset by reading through the notebook.  (Of course, you can also just click through it and everything should work.)"
      ]
    },
    {
      "cell_type": "markdown",
      "id": "FUCKg6ZrIiKn",
      "metadata": {
        "id": "FUCKg6ZrIiKn"
      },
      "source": [
        "We're going to be working with a dataset from SIPRI (the Stockholm International Peace Research Institute) that tracks how arms and weaponry move around the world.\n",
        "\n",
        "They have created a unit of weaponry called TIV (\"trend indicator value\"), which is an attempt to measure comparable amounts of **military capability**. It's some mix of cost and lethality that is designed to make it possible to compare arms flows across type and time.\n",
        "\n",
        "For more on TIV, see the SIPRI fact sheet [\"Measuring International Arms Transfers\"](https://www.sipri.org/sites/default/files/files/FS/SIPRIFS1212.pdf)."
      ]
    },
    {
      "cell_type": "markdown",
      "id": "QcEBO-hTJpkY",
      "metadata": {
        "id": "QcEBO-hTJpkY"
      },
      "source": [
        "SIPRI doesn't intend for users to grab their full dataset all at once, but we've figured out how to pull the whole CSV without any filters.  This might take a minute or more to run.  If it times out, try it again!"
      ]
    },
    {
      "cell_type": "markdown",
      "id": "1c90fc67",
      "metadata": {},
      "source": [
        "**Note: We have received reports of errors in the next cell. Some of these errors are due to the fact that the SIPRI data may have gone offline. If you are encountering errors, you can use a backup version of the data.**\n",
        "\n",
        "Please set the following variable `download_raw_data` to `False` if you want to use a backup version of the data."
      ]
    },
    {
      "cell_type": "code",
      "execution_count": null,
      "id": "fa6d56ca",
      "metadata": {},
      "outputs": [],
      "source": [
        "# set the following variable to false if using backup data\n",
        "download_raw_data=False"
      ]
    },
    {
      "cell_type": "code",
      "execution_count": null,
      "id": "f3f8c05f-0f29-497c-863c-6464cafe6c56",
      "metadata": {
        "id": "f3f8c05f-0f29-497c-863c-6464cafe6c56"
      },
      "outputs": [],
      "source": [
        "if download_raw_data:\n",
        "    raw_data = requests.post(\n",
        "        \"https://github.com/PUBPOL-2130/notebooks/blob/main/data/sipri_arms_transfers.json\",\n",
        "        json={\"filters\": []},\n",
        "    ).json()"
      ]
    },
    {
      "cell_type": "markdown",
      "id": "suhyJDFUJ2BE",
      "metadata": {
        "id": "suhyJDFUJ2BE"
      },
      "source": [
        "Next, it turns out to be encoded in base 64, and we have to convert it to a more standard format.  Base 64 is a pretty nonstandard format, often used because it can encompass special characters, so it's important to notice the need to translate it or subsequent manipulations won't work as expected.\n",
        "\n",
        "When you run the next cell, we'll examine the first 15 lines of the decoded file, which turns out to be a text header that needs to be chopped off the CSV for the rest of our work.  So we split at the carriage return (`split(\"\\n\")`) before continuing."
      ]
    },
    {
      "cell_type": "code",
      "execution_count": null,
      "id": "95b13bad-4900-4d74-8fb3-d582a0a60f76",
      "metadata": {
        "colab": {
          "base_uri": "https://localhost:8080/"
        },
        "id": "95b13bad-4900-4d74-8fb3-d582a0a60f76",
        "outputId": "5b17274d-bda6-4334-8ac7-33d168803ef2"
      },
      "outputs": [],
      "source": [
        "if download_raw_data:\n",
        "    csv_lines = base64.b64decode(raw_data[\"bytes\"]).decode(\"iso-8859-1\").split(\"\\n\")\n",
        "    csv_lines[:15]"
      ]
    },
    {
      "cell_type": "code",
      "execution_count": null,
      "id": "96a2f37a-2d1c-4b5f-81f1-481e12d086c9",
      "metadata": {
        "colab": {
          "base_uri": "https://localhost:8080/"
        },
        "id": "96a2f37a-2d1c-4b5f-81f1-481e12d086c9",
        "outputId": "01916c6b-f8e0-430f-a327-964861b81d64"
      },
      "outputs": [],
      "source": [
        "if download_raw_data:\n",
        "    first_line_index = next(idx for idx, line in enumerate(csv_lines) if line.startswith(\"Recipient,\"))\n",
        "    first_line_index"
      ]
    },
    {
      "cell_type": "markdown",
      "id": "lhTc99UBKqP-",
      "metadata": {
        "id": "lhTc99UBKqP-"
      },
      "source": [
        "Let's make the dataframe!  It's got a huge amount of information about the weapons, when ordered, whether new or second-hand, and comments about the conflict context."
      ]
    },
    {
      "cell_type": "code",
      "execution_count": null,
      "id": "8f89972d-2dda-4bdb-9116-ae97030205ce",
      "metadata": {
        "colab": {
          "base_uri": "https://localhost:8080/",
          "height": 895
        },
        "id": "8f89972d-2dda-4bdb-9116-ae97030205ce",
        "outputId": "97b9d573-1422-45df-88ef-d293ac607691"
      },
      "outputs": [],
      "source": [
        "if download_raw_data:\n",
        "    arms_df = pd.read_csv(io.StringIO(\"\\n\".join(csv_lines[first_line_index:])))\n",
        "    arms_df.to_csv(\"fulldata.csv\")\n",
        "    arms_df\n",
        "else:\n",
        "    arms_df = pd.read_json('https://github.com/PUBPOL-2130/notebooks/blob/main/data/sipri_arms_transfers.json?raw=true')\n",
        "    arms_df.to_csv(\"fulldata.csv\")\n",
        "    arms_df"
      ]
    },
    {
      "cell_type": "code",
      "execution_count": null,
      "id": "7d1ac82c-78e0-49a6-af26-dfa0a06a4601",
      "metadata": {
        "colab": {
          "base_uri": "https://localhost:8080/",
          "height": 597
        },
        "id": "7d1ac82c-78e0-49a6-af26-dfa0a06a4601",
        "outputId": "061515c6-699b-4c02-d619-7b9ed0857324"
      },
      "outputs": [],
      "source": [
        "arms_df.groupby([\"Recipient\", \"Supplier\", \"Year of order\"]).count()"
      ]
    },
    {
      "cell_type": "markdown",
      "id": "KNlrcqF3K-zt",
      "metadata": {
        "id": "KNlrcqF3K-zt"
      },
      "source": [
        "We can narrow down what we're looking at.  The next cell lets you toggle between looking for (a) [Mi-17s](https://en.wikipedia.org/wiki/Mil_Mi-17) that do not come from Russia/USSR, or (b) second-hand weapons.  Try it both ways."
      ]
    },
    {
      "cell_type": "code",
      "execution_count": null,
      "id": "2fa88f11-449a-4b18-9cce-4da851e60e0a",
      "metadata": {
        "colab": {
          "base_uri": "https://localhost:8080/",
          "height": 1000
        },
        "id": "2fa88f11-449a-4b18-9cce-4da851e60e0a",
        "outputId": "5d6b3ded-cb7f-44df-9f01-4757ba6fd308"
      },
      "outputs": [],
      "source": [
        "arms_df[(arms_df[\"Weapon designation\"] == \"Mi-17\") & (arms_df[\"Supplier\"] != \"Russia\") & (arms_df[\"Supplier\"] != \"Soviet Union\")]\n",
        "# arms_df[arms_df[\"status\"] == \"Second hand\"]"
      ]
    },
    {
      "cell_type": "markdown",
      "id": "oRQ427uULv77",
      "metadata": {
        "id": "oRQ427uULv77"
      },
      "source": [
        "What other statuses are possible?"
      ]
    },
    {
      "cell_type": "code",
      "execution_count": null,
      "id": "594f1f43-25c2-4a70-91a7-d8e4edc77bf2",
      "metadata": {
        "colab": {
          "base_uri": "https://localhost:8080/"
        },
        "id": "594f1f43-25c2-4a70-91a7-d8e4edc77bf2",
        "outputId": "0a194912-ae11-473d-bbab-dd8cea76b757"
      },
      "outputs": [],
      "source": [
        "arms_df[\"status\"].unique()"
      ]
    },
    {
      "cell_type": "code",
      "execution_count": null,
      "id": "19fc6835-313f-4da7-847d-38232e05d4ab",
      "metadata": {
        "colab": {
          "base_uri": "https://localhost:8080/",
          "height": 490
        },
        "id": "19fc6835-313f-4da7-847d-38232e05d4ab",
        "outputId": "a8c80a70-df08-4e34-b39c-b8b339a7e784"
      },
      "outputs": [],
      "source": [
        "arms_df[\"Weapon designation\"].value_counts()"
      ]
    },
    {
      "cell_type": "markdown",
      "id": "3a341af3-e54b-485c-85db-c5e36976c9e3",
      "metadata": {
        "id": "3a341af3-e54b-485c-85db-c5e36976c9e3"
      },
      "source": [
        "# Mapping transfers\n",
        "\n",
        "\n",
        "Visualizing the SIFRI dataset presents several problems:\n",
        "\n",
        "* Recipients and suppliers are _usually_ countries, but this does not always hold. Notice that the dataset includes non-state actors (such as the [Houthi rebels](https://en.wikipedia.org/wiki/Houthis) or the [Mujahideen](https://en.wikipedia.org/wiki/Afghan_mujahideen)).  We will need one lat/long location per actor, so we'll try to find an appropriate capital city.\n",
        "* This dataset goes back to the 1940s, so it references countries that no longer exist (such as [Biafra](https://en.wikipedia.org/wiki/Biafra) and [Yugoslavia](https://en.wikipedia.org/wiki/Yugoslavia)).\n",
        "* There is some variability in names. For instance, \"Ivory Coast\" and \"Cote d'Ivoire\" are two different names for the same country.\n",
        "\n",
        "For visualization purposes, we'll map these special cases to the nearest equivalent contemporary states. For instance, we'll map South Vietnam to Vietnam; Saigon (the former capital of South Vietnam) is now Ho Chi Minh City (the current capital of Vietnam). We'll exclude flows to or from entities that do not clearly correspond to a single region (for instance, the United Nations)."
      ]
    },
    {
      "cell_type": "markdown",
      "id": "-BRgzQcrMsLP",
      "metadata": {
        "id": "-BRgzQcrMsLP"
      },
      "source": [
        "The following dictionary associating SIPRI states to modern states was made by hand and represents a lot of labor!  You should at least glance through it to get a sense of some of the nitty-gritty involved here.  Note the comments at the end about non-obvious decisions (a good practice when cleaning data, so you'll know what you were thinking later on!) and the explicit list of exceptions."
      ]
    },
    {
      "cell_type": "code",
      "execution_count": null,
      "id": "eX5TufWIGWr-",
      "metadata": {
        "id": "eX5TufWIGWr-"
      },
      "outputs": [],
      "source": [
        "capitals_map = {\n",
        "    \"ANC (South Africa)*\": \"South Africa\",\n",
        "    \"Anti-Castro rebels (Cuba)*\": \"Cuba\",\n",
        "    \"Amal (Lebanon)*\": \"Lebanon\",\n",
        "    \"Armas (Guatemala)*\": \"Guatemala\",\n",
        "    \"Contras (Nicaragua)*\": \"Nicaragua\",\n",
        "    \"Darfur rebels (Sudan)*\": \"Sudan\",\n",
        "    \"ELF (Ethiopia)*\": \"Ethiopia\",\n",
        "    \"EPLF (Ethiopia)*\": \"Ethiopia\",\n",
        "    \"FRELIMO (Portugal)*\": \"Portugal\",\n",
        "    \"Haiti rebels*\": \"Haiti\",\n",
        "    \"Hezbollah (Lebanon)*\": \"Lebanon\",\n",
        "    \"Houthi rebels (Yemen)*\": \"Yemen\",\n",
        "    \"Indonesia rebels*\": \"Indonesia\",\n",
        "    \"Khmer Rouge (Cambodia)*\": \"Cambodia\",\n",
        "    \"Kurdistan Regional Government (Iraq)*\": \"Iraq\",\n",
        "    \"LF (Lebanon)*\": \"Lebanon\",\n",
        "    \"LRA (Uganda)*\": \"Uganda\",\n",
        "    \"LTTE (Sri Lanka)*\": \"Sri Lanka\",\n",
        "    \"Libya GNC\": \"Libya\",\n",
        "    \"Libya HoR*\": \"Libya\",\n",
        "    \"Congo\": \"Congo (Brazzaville)\",\n",
        "    \"DR Congo\": \"Congo (Kinshasa)\",\n",
        "    \"MNLF (Philippines)*\": \"Philippines\",\n",
        "    \"MPLA (Portugal)*\": \"Portugal\",\n",
        "    \"MTA (Myanmar)*\": \"Myanmar\",\n",
        "    \"Micronesia\": \"Federated States of Micronesia\",\n",
        "    \"Mujahedin (Afghanistan)*\": \"Afghanistan\",\n",
        "    \"NLA (Macedonia)*\": \"North Macedonia\",\n",
        "    \"NTC (Libya)*\": \"Libya\",\n",
        "    \"Northern Alliance (Afghanistan)*\": \"Afghanistan\",\n",
        "    \"Northern Cyprus\": \"Cyprus\",\n",
        "    \"PAIGC (Portugal)*\": \"Portugal\",\n",
        "    \"PIJ (Israel/Palestine)*\": \"Israel\",\n",
        "    \"PKK (Turkiye)*\": \"Turkey\",\n",
        "    \"PLO (Israel)*\": \"Israel\",\n",
        "    \"PRC (Israel/Palestine)*\": \"Israel\",\n",
        "    \"Pathet Lao (Laos)*\": \"Laos\",\n",
        "    \"Provisional IRA (UK)*\": \"United Kingdom\",\n",
        "    \"RPF (Rwanda)*\": \"Rwanda\",\n",
        "    \"RUF (Sierra Leone)*\": \"United Kingdom\",\n",
        "    \"SLA (Lebanon)*\": \"Lebanon\",\n",
        "    \"SNA (Somalia)*\": \"Somalia\",\n",
        "    \"SPLA (Sudan)*\": \"Sudan\",\n",
        "    \"Southern rebels (Yemen)*\": \"Yemen\",\n",
        "    \"Syria rebels*\": \"Syria\",\n",
        "    \"Turkiye\": \"Turkey\",\n",
        "    \"UAE\": \"United Arab Emirates\",\n",
        "    \"UIC (Somalia)*\": \"Somalia\",\n",
        "    \"UNITA (Angola)*\": \"Angola\",\n",
        "    \"Ukraine Rebels*\": \"Ukraine\",\n",
        "    \"United States\": \"United States of America\",\n",
        "    \"United Wa State (Myanmar)*\": \"Myanmar\",\n",
        "    \"Viet Minh (France)*\": \"France\",\n",
        "    \"Viet Nam\": \"Vietnam\",\n",
        "    \"ZAPU (Zimbabwe)*\": \"Zimbabwe\",\n",
        "    \"GUNT (Chad)*\": \"Chad\",\n",
        "    \"FAN (Chad)*\": \"Chad\",\n",
        "    \"FMLN (El Salvador)*\": \"El Salvador\",\n",
        "    \"Gambia\": \"The Gambia\",\n",
        "    \"Lebanon Palestinian rebels*\": \"Lebanon\",\n",
        "    \"Cote d'Ivoire\": \"Ivory Coast\",\n",
        "    \"Bahamas\": \"The Bahamas\",\n",
        "    \"FNLA (Angola)*\": \"Angola\",\n",
        "    \"Cabo Verde\": \"Cape Verde\",\n",
        "    \"Timor-Leste\": \"East Timor\",\n",
        "    \"Saint Vincent\": \"Saint Vincent and the Grenadines\",\n",
        "    \"Guinea-Bissau\": \"Guinea Bissau\",\n",
        "    \"South Vietnam\": \"Vietnam\",  # Saigon is now Ho Chi Minh City\n",
        "    \"Viet Cong (South Vietnam)*\": \"Vietnam\",\n",
        "    \"Hamas (Palestine)*\": \"Palestine\",\n",
        "    \"Soviet Union\": \"Russia\",\n",
        "    \"NATO**\": \"Belgium\",  # NATO headquarters in Brussels\n",
        "    'European Union**': \"Belgium\",  # EU headquarters in Brussels\n",
        "    \"OSCE**\": \"Austria\",  # secretariat in Vienna\n",
        "    \"Yemen Arab Republic (North Yemen)\": \"Yemen\",  # same capital as Yemen (Sanaa)\n",
        "    \"North Yemen\": \"Yemen\",  # same capital as Yemen (Sanaa)\n",
        "    \"Czechoslovakia\": \"Czechia\",  # same capital as the modern Czech Republic (Prague)\n",
        "    \"Yugoslavia\": \"Serbia\",  # same capital as Serbia (Belgrade)\n",
        "    \"East Germany (GDR)\": \"Germany\",  # for large-scale flow maps, approximate East Berlin with Berlin\n",
        "    \"Western Sahara\": \"Morocco\",  # largely under Moroccan occupation,\n",
        "}\n",
        "\n",
        "exclude_flows = {\n",
        "    \"nan\",\n",
        "    \"unknown rebel group*\",\n",
        "    \"unknown recipient(s)\",\n",
        "    'unknown supplier(s)',\n",
        "    \"United Nations**\",\n",
        "    \"Regional Security System**\",\n",
        "    \"African Union**\",\n",
        "    '0.25',\n",
        "    '3',\n",
        "}\n"
      ]
    },
    {
      "cell_type": "markdown",
      "id": "OKh47rW3NfUx",
      "metadata": {
        "id": "OKh47rW3NfUx"
      },
      "source": [
        "Even more exceptions!  These lat/longs were added by hand."
      ]
    },
    {
      "cell_type": "code",
      "execution_count": null,
      "id": "5a6b7f7f-67e0-4de6-a999-281b4efcbbe2",
      "metadata": {
        "id": "5a6b7f7f-67e0-4de6-a999-281b4efcbbe2"
      },
      "outputs": [],
      "source": [
        "# (long, lat) coordinates for capitals of entities not included in the places shapefile.\n",
        "# Several of these entities are countries that no longer exist.\n",
        "extra_capitals = {\n",
        "    \"Biafra\": (\"Enugu\", 7.5139, 6.4483),  # 1967 capital (now part of Nigeria)\n",
        "    \"Bosnia-Herzegovina\": (\"Sarajevo\", 18.4131, 43.8563),\n",
        "    \"South Yemen\": (\"Aden\", 45.0176, 12.7906),\n",
        "    \"Katanga\": (\"Lubumbashi\", 27.5026, -11.6876),\n",
        "    \"South Sudan\": (\"Juba\",  31.5825, 4.8539),\n",
        "    \"Palestine\": (\"East Jerusalem\", 35.217018, 31.771959),\n",
        "    \"Aruba\": (\"Oranjestad\", -70.0353, 12.5227),\n",
        "}"
      ]
    },
    {
      "cell_type": "markdown",
      "id": "A-k4WO9gNpL5",
      "metadata": {
        "id": "A-k4WO9gNpL5"
      },
      "source": [
        "...and put into a format that's suitable for adding to the capitals list we're making.  Note the CRS (coordinate reference system) specified."
      ]
    },
    {
      "cell_type": "code",
      "execution_count": null,
      "id": "102e5fad-8ddd-4f63-8df0-843a235f03ae",
      "metadata": {
        "colab": {
          "base_uri": "https://localhost:8080/",
          "height": 300
        },
        "id": "102e5fad-8ddd-4f63-8df0-843a235f03ae",
        "outputId": "4cc5ce4c-b07e-478f-8254-3123c57eb819"
      },
      "outputs": [],
      "source": [
        "extra_capitals_gdf = gpd.GeoDataFrame(\n",
        "    [\n",
        "        {\n",
        "            \"adm0name\": entity,\n",
        "            \"name\": capital,\n",
        "            \"longitude\": long,\n",
        "            \"latitude\": lat,\n",
        "            \"geometry\": Point(long, lat),\n",
        "        }\n",
        "        for entity, (capital, long, lat) in extra_capitals.items()\n",
        "    ],\n",
        "    crs=\"epsg:4326\",\n",
        ").set_index(\"adm0name\")\n",
        "extra_capitals_gdf"
      ]
    },
    {
      "cell_type": "markdown",
      "id": "obd_2kL5N5Qo",
      "metadata": {
        "id": "obd_2kL5N5Qo"
      },
      "source": [
        "Next we're going to read in a simple shapefile from a cartographic society that gives locations for major world cities and identifies which ones are capital cities.  Note even more special-case handling:  some countries have more than one capital!  (South Africa famously has three.)"
      ]
    },
    {
      "cell_type": "code",
      "execution_count": null,
      "id": "G-_9MuCqBGvi",
      "metadata": {
        "id": "G-_9MuCqBGvi"
      },
      "outputs": [],
      "source": [
        "places_gdf = gpd.read_file(\"https://naciscdn.org/naturalearth/110m/cultural/ne_110m_populated_places_simple.zip\")\n",
        "capitals_gdf = places_gdf[places_gdf[\"adm0cap\"] == 1].set_index(\"adm0name\")\n",
        "# force each nation to have exactly one capital\n",
        "capitals_gdf = capitals_gdf[~capitals_gdf[\"name\"].isin([\"Sucre\", \"Yamoussoukro\", \"Bloemfontein\", \"Pretoria\"])][[\"name\", \"latitude\", \"longitude\", \"geometry\"]]\n",
        "capitals_gdf = gpd.GeoDataFrame(pd.concat([capitals_gdf, extra_capitals_gdf]), crs=\"epsg:4326\")"
      ]
    },
    {
      "cell_type": "code",
      "execution_count": null,
      "id": "dfd10ad7-1769-4eee-ab48-9f565acff986",
      "metadata": {
        "colab": {
          "base_uri": "https://localhost:8080/",
          "height": 1000
        },
        "id": "dfd10ad7-1769-4eee-ab48-9f565acff986",
        "outputId": "f45c32d4-7b74-49ef-b4bc-499ef3fa60ed"
      },
      "outputs": [],
      "source": [
        "capitals_gdf.tail(100)"
      ]
    },
    {
      "cell_type": "markdown",
      "id": "CVdjHrJ2IZWA",
      "metadata": {
        "id": "CVdjHrJ2IZWA"
      },
      "source": [
        "Hopefully this dataset gives you many ideas of things you could analyze.\n",
        "\n",
        "Here are just a few...\n",
        "* Study arms flows connected to a protracted conflict (e.g., Israel–Palestine)\n",
        "* Pick a small window of time, like 1-2 years, and do a deeper look at that snapshot.\n",
        "* The USSR collapsed circa 1991.  Do you see an immediate impact on arms flows?\n",
        "* Consider second-hand arms sales.  How does weaponry \"trickle down\" from rich exporters to first and then second recipients.\n",
        "* How does the popularity and regionality of a particular weapon (e.g., the Mi-17) change over time?"
      ]
    },
    {
      "cell_type": "markdown",
      "id": "d3455de0-39e8-4139-9ec9-934eeac69b52",
      "metadata": {
        "id": "d3455de0-39e8-4139-9ec9-934eeac69b52"
      },
      "source": [
        "# Introduction to graphs"
      ]
    },
    {
      "cell_type": "markdown",
      "id": "91UMYmhnPImH",
      "metadata": {
        "id": "91UMYmhnPImH"
      },
      "source": [
        "To make a visual that shows the movement, a natural data object is a **graph**, in the sense of discrete mathematics.  A graph is made up of vertices (also called nodes), with some of them connected by edges.  The edges can be weighted, and can have a direction.  So a flow can be represented as a weighted directed edge from vertex $v$ to vertex $w$."
      ]
    },
    {
      "cell_type": "markdown",
      "id": "n7IYblmiPl7P",
      "metadata": {
        "id": "n7IYblmiPl7P"
      },
      "source": [
        "We'll set this up with a dataframe giving only a limited number of attributes per state, then a secondary dataframe grouping by year."
      ]
    },
    {
      "cell_type": "code",
      "execution_count": null,
      "id": "CW4aF-8sHBYk",
      "metadata": {
        "id": "CW4aF-8sHBYk"
      },
      "outputs": [],
      "source": [
        "flowmap_arms_df = arms_df[~arms_df[\"Supplier\"].isin(exclude_flows) & ~arms_df[\"Recipient\"].isin(exclude_flows)].rename(\n",
        "    columns={\n",
        "        \"Year of order\": \"order_year\",\n",
        "        \"Recipient\": \"recipient\",\n",
        "        \"Supplier\": \"supplier\",\n",
        "        \"SIPRI TIV for total order\": \"order_sipri_tiv\"\n",
        "    }\n",
        ")\n",
        "flowmap_arms_df[\"order_year\"] = flowmap_arms_df[\"order_year\"].astype(int)\n",
        "flowmap_arms_df = flowmap_arms_df[flowmap_arms_df[\"order_year\"] >= 1950]"
      ]
    },
    {
      "cell_type": "code",
      "execution_count": null,
      "id": "EmUj-trNX5X0",
      "metadata": {
        "colab": {
          "base_uri": "https://localhost:8080/",
          "height": 490
        },
        "id": "EmUj-trNX5X0",
        "outputId": "35f3cd56-e55e-4bd9-cad7-78b3b8fb2e30"
      },
      "outputs": [],
      "source": [
        "orders_by_year_df = flowmap_arms_df.groupby([\"order_year\", \"recipient\", \"supplier\"]).sum()[\"order_sipri_tiv\"]\n",
        "orders_by_year_df"
      ]
    },
    {
      "cell_type": "markdown",
      "id": "50ad357f-d4cf-49f8-89da-4a8a156c10eb",
      "metadata": {
        "id": "50ad357f-d4cf-49f8-89da-4a8a156c10eb"
      },
      "source": [
        "## Example\n",
        "Let's visualize arms flows to and from the U.S. in a particular year by constructing a graph."
      ]
    },
    {
      "cell_type": "code",
      "execution_count": null,
      "id": "4f57d69f-e7ef-4db3-b969-8512cc1eed8b",
      "metadata": {
        "id": "4f57d69f-e7ef-4db3-b969-8512cc1eed8b"
      },
      "outputs": [],
      "source": [
        "year = 1980\n",
        "country = \"United States\""
      ]
    },
    {
      "cell_type": "code",
      "execution_count": null,
      "id": "697e8e26-4694-4192-955f-f2ca190ea26d",
      "metadata": {
        "colab": {
          "base_uri": "https://localhost:8080/",
          "height": 363
        },
        "id": "697e8e26-4694-4192-955f-f2ca190ea26d",
        "outputId": "e9be727c-cafa-4002-e6ed-803b19343952"
      },
      "outputs": [],
      "source": [
        "filtered_orders_df = orders_by_year_df[year].reset_index()\n",
        "filtered_orders_df = filtered_orders_df[\n",
        "    (filtered_orders_df[\"recipient\"] == \"United States\")\n",
        "    | (filtered_orders_df[\"supplier\"] == \"United States\")\n",
        "]\n",
        "filtered_orders_df.head(10)"
      ]
    },
    {
      "cell_type": "markdown",
      "id": "T43h4EEkP5vW",
      "metadata": {
        "id": "T43h4EEkP5vW"
      },
      "source": [
        "We're going to use a basic graph library in Python called NetworkX.  We imported it above as `nx`.  Our graph will have directed edges FROM the supplier TO the recipient of an arms shipment."
      ]
    },
    {
      "cell_type": "code",
      "execution_count": null,
      "id": "7be0fb62-0d96-4cd1-8de3-a1ec7d057222",
      "metadata": {
        "id": "7be0fb62-0d96-4cd1-8de3-a1ec7d057222"
      },
      "outputs": [],
      "source": [
        "orders_graph = nx.DiGraph()\n",
        "\n",
        "for _, row in filtered_orders_df.iterrows():\n",
        "    orders_graph.add_edge(\n",
        "        row.supplier,\n",
        "        row.recipient,\n",
        "        weight=row.order_sipri_tiv,\n",
        "    )"
      ]
    },
    {
      "cell_type": "markdown",
      "id": "_18zLz42QL0O",
      "metadata": {
        "id": "_18zLz42QL0O"
      },
      "source": [
        "Where did the U.S. send arms that year?  (or receive from!)"
      ]
    },
    {
      "cell_type": "code",
      "execution_count": null,
      "id": "c918c850-f674-42ff-94ca-6dc739e31ac8",
      "metadata": {
        "colab": {
          "base_uri": "https://localhost:8080/"
        },
        "id": "c918c850-f674-42ff-94ca-6dc739e31ac8",
        "outputId": "af40a337-782c-49e6-9707-8273a342f950"
      },
      "outputs": [],
      "source": [
        "orders_graph.edges"
      ]
    },
    {
      "cell_type": "markdown",
      "id": "kAHTz-ikQU8s",
      "metadata": {
        "id": "kAHTz-ikQU8s"
      },
      "source": [
        "Next we'll make a static map.  You can play around with thickness and color of the directed edges."
      ]
    },
    {
      "cell_type": "code",
      "execution_count": null,
      "id": "c5c2bd8f-fd6f-49da-90ce-b5bbd572a696",
      "metadata": {
        "id": "c5c2bd8f-fd6f-49da-90ce-b5bbd572a696"
      },
      "outputs": [],
      "source": [
        "def cast_point(p):\n",
        "    return (p.xy[0][0], p.xy[1][0])"
      ]
    },
    {
      "cell_type": "code",
      "execution_count": null,
      "id": "9010cdcb-0917-4553-a384-3477824500f4",
      "metadata": {
        "colab": {
          "base_uri": "https://localhost:8080/",
          "height": 518
        },
        "id": "9010cdcb-0917-4553-a384-3477824500f4",
        "outputId": "d9215fa8-f525-4fa8-958a-13951c2e900b"
      },
      "outputs": [],
      "source": [
        "fig, ax = plt.subplots(figsize=(20, 40))\n",
        "ax.axis(\"off\")\n",
        "places_gdf.plot(ax=ax, edgecolor=\"0.1\", linewidth=1, color=\"#e1f1fd\", alpha=0.5)\n",
        "\n",
        "pos = dict(capitals_gdf.geometry)\n",
        "\n",
        "for edge in orders_graph.edges(data='weight'):\n",
        "    if edge[0] in exclude_flows or edge[1] in exclude_flows:\n",
        "        continue\n",
        "\n",
        "    edge_pos = {\n",
        "        edge[0]: cast_point(pos[capitals_map.get(edge[0], edge[0])]),\n",
        "        edge[1]: cast_point(pos[capitals_map.get(edge[1], edge[1])]),\n",
        "    }\n",
        "    nx.draw_networkx_edges(orders_graph, edge_pos, edgelist=[edge], width=0.001 * edge[2], ax=ax, edge_color=\"blue\")"
      ]
    },
    {
      "cell_type": "markdown",
      "id": "MKeY3WeQ7VbN",
      "metadata": {
        "id": "MKeY3WeQ7VbN"
      },
      "source": [
        "## Advanced flow visualizations with FlowmapBlue"
      ]
    },
    {
      "cell_type": "markdown",
      "id": "jdFgp9tSQq2U",
      "metadata": {
        "id": "jdFgp9tSQq2U"
      },
      "source": [
        "Now we'll use a very cool package called FlowmapBlue to create beautiful and interactive flowmaps."
      ]
    },
    {
      "cell_type": "code",
      "execution_count": null,
      "id": "618a031d-8d8f-4ec7-9a55-2d12a4482869",
      "metadata": {
        "colab": {
          "base_uri": "https://localhost:8080/"
        },
        "id": "618a031d-8d8f-4ec7-9a55-2d12a4482869",
        "outputId": "e278bfc7-6b6e-462d-a4b8-01baf4bfd6ec"
      },
      "outputs": [],
      "source": [
        "!pip install \"git+https://github.com/PUBPOL-2130/notebooks#egg=pubpol2130&subdirectory=lib\""
      ]
    },
    {
      "cell_type": "markdown",
      "id": "HKGepJ8TgXCb",
      "metadata": {
        "id": "HKGepJ8TgXCb"
      },
      "source": [
        "This line will pop up a dialog asking for permission to generate Google Sheets credentials using your Google login.  If you're doing this in Colab, it should be particularly seamless."
      ]
    },
    {
      "cell_type": "code",
      "execution_count": null,
      "id": "21cd7541-d5d8-4f9a-8b35-47f0f8741b7e",
      "metadata": {
        "id": "21cd7541-d5d8-4f9a-8b35-47f0f8741b7e"
      },
      "outputs": [],
      "source": [
        "from pubpol2130 import google_sheets_credentials, generate_flow_sheet"
      ]
    },
    {
      "cell_type": "code",
      "execution_count": null,
      "id": "79X9WVImGyj2",
      "metadata": {
        "colab": {
          "base_uri": "https://localhost:8080/",
          "height": 206
        },
        "id": "79X9WVImGyj2",
        "outputId": "c8c43fa5-9a3a-42b6-90bd-baf0e7eea085"
      },
      "outputs": [],
      "source": [
        "flowmap_locations_df = pd.DataFrame(\n",
        "    [\n",
        "        {\n",
        "            \"id\": loc,\n",
        "            \"name\": loc,\n",
        "            \"lat\": capitals_gdf.loc[capitals_map.get(loc, loc), \"latitude\"],\n",
        "            \"lon\": capitals_gdf.loc[capitals_map.get(loc, loc), \"longitude\"],\n",
        "        }\n",
        "        for loc in set(flowmap_arms_df[\"supplier\"]) | set(flowmap_arms_df[\"recipient\"])\n",
        "    ]\n",
        ")\n",
        "flowmap_locations_df.head(5)"
      ]
    },
    {
      "cell_type": "markdown",
      "id": "e930579a-1390-4526-9f59-3a6fde0fc153",
      "metadata": {
        "id": "e930579a-1390-4526-9f59-3a6fde0fc153"
      },
      "source": [
        "If you don't want to go through the whole Google permissions thing, read this [Medium article](https://medium.com/@a.marenkov/how-to-get-credentials-for-google-sheets-456b7e88c430) for info about getting credentials."
      ]
    },
    {
      "cell_type": "code",
      "execution_count": null,
      "id": "d7a72881-9b68-42b4-8155-22ca29d7f387",
      "metadata": {
        "id": "d7a72881-9b68-42b4-8155-22ca29d7f387"
      },
      "outputs": [],
      "source": [
        "sheet_creds = google_sheets_credentials()"
      ]
    },
    {
      "cell_type": "code",
      "execution_count": null,
      "id": "W1gzHp_7GKGa",
      "metadata": {
        "colab": {
          "base_uri": "https://localhost:8080/"
        },
        "id": "W1gzHp_7GKGa",
        "outputId": "ebc49fae-eec3-49aa-d08d-0ba88845c3da"
      },
      "outputs": [],
      "source": [
        "flow_sheet = generate_flow_sheet(\n",
        "    sheet_creds=sheet_creds,\n",
        "    locations_df=flowmap_locations_df,\n",
        "    created_by_name=\"\",  # YOUR NAME HERE\n",
        "    created_by_email=\"\", # YOUR EMAIL HERE\n",
        "    data_source_name=\"SIPRI Arms Transfers Database\",\n",
        "    data_source_url=\"https://www.sipri.org/databases/armstransfers\",\n",
        "    incoming_tooltip=\"Inbound arms transfers (TIV)\",\n",
        "    outgoing_tooltip=\"Outbound arms transfers (TIV)\",\n",
        "    flow_tooltip=\"Arms transfer (TIV)\",\n",
        "    total_unit=\"TIVs\",\n",
        "    sheet_title=\"PUBPOL 2130: SIPRI arms transfers (orders over time)\",\n",
        "    flow_title=\"SIPRI Arms Transfers Database: orders over time\",\n",
        "    flows={\n",
        "        f\"Year: {year}\": year_df.reset_index().rename(columns={\n",
        "            \"supplier\": \"origin\",\n",
        "            \"recipient\": \"dest\",\n",
        "            \"order_sipri_tiv\": \"count\",\n",
        "        })\n",
        "        for year, year_df in orders_by_year_df.groupby(level=0)\n",
        "    }\n",
        ")"
      ]
    },
    {
      "cell_type": "code",
      "execution_count": null,
      "id": "0bc235d2-56d4-4009-8dd6-ecfce9909b3c",
      "metadata": {
        "colab": {
          "base_uri": "https://localhost:8080/"
        },
        "id": "0bc235d2-56d4-4009-8dd6-ecfce9909b3c",
        "outputId": "916b6213-40b8-491f-ee0d-3a089a200247"
      },
      "outputs": [],
      "source": [
        "print(flow_sheet.url)"
      ]
    },
    {
      "cell_type": "code",
      "execution_count": null,
      "id": "d1e048a9-4fc8-43fb-8bfa-3ecc2140c44d",
      "metadata": {
        "colab": {
          "base_uri": "https://localhost:8080/"
        },
        "id": "d1e048a9-4fc8-43fb-8bfa-3ecc2140c44d",
        "outputId": "eade16c8-3bee-49a1-ef8d-71f960e4711d"
      },
      "outputs": [],
      "source": [
        "print(f\"https://www.flowmap.blue/{flow_sheet.url.split('/')[-1]}\")"
      ]
    },
    {
      "cell_type": "markdown",
      "id": "0MdeYNGYiLu7",
      "metadata": {
        "id": "0MdeYNGYiLu7"
      },
      "source": [
        "#Homework 4, due Tuesday March 4, 1:25pm\n",
        "\n",
        "Your homework this week starts with creating a flowmap.  Then you should (1) choose a question about arms flows, (2) read a SIPRI background paper connected to that topic, and (3) make a data product (typically a plot, like in previous weeks) to illustrate a key fact of your choice.\n",
        "\n",
        "To access SIPRI's background papers, go to their [publications page](https://www.sipri.org/publications) and put \"SIPRI background papers\" in the publication type, and use the keyword to get closer to your topic.  (Note that most of these are regional rather than related to particular weapons.)"
      ]
    }
  ],
  "metadata": {
    "colab": {
      "include_colab_link": true,
      "provenance": []
    },
    "kernelspec": {
      "display_name": "Python 3 (ipykernel)",
      "language": "python",
      "name": "python3"
    },
    "language_info": {
      "codemirror_mode": {
        "name": "ipython",
        "version": 3
      },
      "file_extension": ".py",
      "mimetype": "text/x-python",
      "name": "python",
      "nbconvert_exporter": "python",
      "pygments_lexer": "ipython3",
      "version": "3.13.0"
    }
  },
  "nbformat": 4,
  "nbformat_minor": 5
}
