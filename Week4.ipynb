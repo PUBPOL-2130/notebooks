{
  "cells": [
    {
      "cell_type": "markdown",
      "metadata": {
        "id": "view-in-github",
        "colab_type": "text"
      },
      "source": [
        "<a href=\"https://colab.research.google.com/github/PUBPOL-2130/notebooks/blob/main/Week4.ipynb\" target=\"_parent\"><img src=\"https://colab.research.google.com/assets/colab-badge.svg\" alt=\"Open In Colab\"/></a>"
      ]
    },
    {
      "cell_type": "markdown",
      "id": "a3e587da-66c9-4a26-ac30-9b9d059d32b2",
      "metadata": {
        "id": "a3e587da-66c9-4a26-ac30-9b9d059d32b2"
      },
      "source": [
        "# Week 4: the Modifiable Areal Unit Problem (MAUP) and change over time"
      ]
    },
    {
      "cell_type": "code",
      "execution_count": null,
      "id": "3fe3f168-6f25-4f4d-831f-0cf4e43f1a42",
      "metadata": {
        "id": "3fe3f168-6f25-4f4d-831f-0cf4e43f1a42"
      },
      "outputs": [],
      "source": [
        "!pip -q install maup census"
      ]
    },
    {
      "cell_type": "code",
      "execution_count": null,
      "id": "0bd8a506-e499-47f1-8c69-aa6cf0c2a7af",
      "metadata": {
        "id": "0bd8a506-e499-47f1-8c69-aa6cf0c2a7af"
      },
      "outputs": [],
      "source": [
        "%config InlineBackend.figure_formats = [\"retina\"]\n",
        "\n",
        "import matplotlib.pyplot as plt\n",
        "import maup\n",
        "import pandas as pd\n",
        "import geopandas as gpd\n",
        "\n",
        "from math import isnan\n",
        "from census import Census\n",
        "from collections import Counter"
      ]
    },
    {
      "cell_type": "markdown",
      "id": "6f2f7271-2f84-4f18-b333-ee6d8d8d603c",
      "metadata": {
        "id": "6f2f7271-2f84-4f18-b333-ee6d8d8d603c"
      },
      "source": [
        "## Introduction to Census blocks"
      ]
    },
    {
      "cell_type": "code",
      "execution_count": null,
      "id": "ddfab922-8ccf-4915-a2d6-a7bb9dc9a308",
      "metadata": {
        "id": "ddfab922-8ccf-4915-a2d6-a7bb9dc9a308"
      },
      "outputs": [],
      "source": [
        "state_fips = \"36\"    # New York\n",
        "county_fips = \"047\"\n",
        "county_name = \"Kings County\"  # Also known as Brooklyn"
      ]
    },
    {
      "cell_type": "code",
      "execution_count": null,
      "id": "700b97dc-4361-405a-9b00-a172badd6474",
      "metadata": {
        "id": "700b97dc-4361-405a-9b00-a172badd6474"
      },
      "outputs": [],
      "source": [
        "census = Census(\"\", year=2020)"
      ]
    },
    {
      "cell_type": "code",
      "execution_count": null,
      "id": "1ff1fefe-21c4-480c-b5d9-baf45bd609f6",
      "metadata": {
        "id": "1ff1fefe-21c4-480c-b5d9-baf45bd609f6"
      },
      "outputs": [],
      "source": [
        "# now we load the block shapefile from the Census website\n",
        "block_gdf = gpd.read_file(f\"https://www2.census.gov/geo/tiger/TIGER2024/TABBLOCK20/tl_2024_{state_fips}_tabblock20.zip\")\n",
        "block_gdf = block_gdf.to_crs(\"EPSG:2263\").set_index(\"GEOID20\")"
      ]
    },
    {
      "cell_type": "code",
      "execution_count": null,
      "id": "5335ee25-54b7-40eb-a940-16c9f526768d",
      "metadata": {
        "id": "5335ee25-54b7-40eb-a940-16c9f526768d"
      },
      "outputs": [],
      "source": [
        "# and create a counties and blocks geodataframe\n",
        "county_block_gdf = block_gdf[block_gdf.COUNTYFP20 == county_fips]"
      ]
    },
    {
      "cell_type": "code",
      "execution_count": null,
      "id": "5f4356f7-c1a8-41a0-afb3-677c255a5e45",
      "metadata": {
        "id": "5f4356f7-c1a8-41a0-afb3-677c255a5e45"
      },
      "outputs": [],
      "source": [
        "# plot the blocks of our county, for visual inspection\n",
        "fig, ax = plt.subplots(figsize=(40, 20))\n",
        "ax.set_title(f\"{county_name} (blocks)\", fontsize=18)\n",
        "ax.axis('off')\n",
        "county_block_gdf.plot(ax=ax, edgecolor=\"0.1\", linewidth=1, color=\"#e1f1fd\")\n",
        "plt.axis('off')\n",
        "plt.show()"
      ]
    },
    {
      "cell_type": "markdown",
      "id": "76aed710-1e72-4731-aa2f-e275f1c8b8b9",
      "metadata": {
        "id": "76aed710-1e72-4731-aa2f-e275f1c8b8b9",
        "tags": []
      },
      "source": [
        "### Block-level population data"
      ]
    },
    {
      "cell_type": "code",
      "execution_count": null,
      "id": "c372daac-c15e-4969-b931-164c0c519e73",
      "metadata": {
        "id": "c372daac-c15e-4969-b931-164c0c519e73"
      },
      "outputs": [],
      "source": [
        "# P1 is the TOTPOP table from the Decennial Census -- let's pick out race columns\n",
        "p1_population_columns = {\n",
        "    \"P1_003N\": \"white\",\t      # White alone\n",
        "    \"P1_004N\": \"black\",\t      # Black or African American alone\n",
        "    \"P1_005N\": \"amin\",        # American Indian and Alaska Native alone\n",
        "    \"P1_006N\": \"asian\",       # Asian alone\n",
        "    \"P1_007N\": \"nhpi\",        # Native Hawaiian and Other Pacific Islander alone\n",
        "    \"P1_008N\": \"other\",       # Some Other Race alone\n",
        "    \"P1_009N\": \"two_or_more\", # Two or more races\n",
        "}"
      ]
    },
    {
      "cell_type": "code",
      "execution_count": null,
      "id": "7d5d450e-60f3-4027-96c1-9726f1d7bd47",
      "metadata": {
        "id": "7d5d450e-60f3-4027-96c1-9726f1d7bd47"
      },
      "outputs": [],
      "source": [
        "# census.pl is a wrapper around the Decennial (PL) API\n",
        "block_populations = census.pl.get(\n",
        "    (\"NAME\", *p1_population_columns),\n",
        "    geo={\n",
        "        \"for\": \"block:*\",\n",
        "        \"in\": f\"county:{county_fips} state:{state_fips}\",\n",
        "    }\n",
        ")"
      ]
    },
    {
      "cell_type": "code",
      "execution_count": null,
      "id": "2a9f8bf9-9933-496a-b0c9-b6aaa127e634",
      "metadata": {
        "id": "2a9f8bf9-9933-496a-b0c9-b6aaa127e634"
      },
      "outputs": [],
      "source": [
        "# now let's make sure we're using human-readable columns, as chosen above\n",
        "race_df = pd.DataFrame(block_populations).rename(\n",
        "    columns={\"NAME\": \"name\", **p1_population_columns}\n",
        ")"
      ]
    },
    {
      "cell_type": "code",
      "execution_count": null,
      "id": "0fb6e54d-f1dd-417a-a84c-06f132163a1b",
      "metadata": {
        "id": "0fb6e54d-f1dd-417a-a84c-06f132163a1b"
      },
      "outputs": [],
      "source": [
        "# this pulls those columns into a list called categories\n",
        "categories = list(p1_population_columns.values())"
      ]
    },
    {
      "cell_type": "code",
      "execution_count": null,
      "id": "60c0f49f-0052-4292-ab8c-8ba0254e3887",
      "metadata": {
        "id": "60c0f49f-0052-4292-ab8c-8ba0254e3887"
      },
      "outputs": [],
      "source": [
        "# this constructs the 15-digit complete GEOID by concatenating the pieces describing different hierarchical levels\n",
        "race_df[\"GEOID20\"] = (\n",
        "    race_df[\"state\"]\n",
        "    + race_df[\"county\"]\n",
        "    + race_df[\"tract\"]\n",
        "    + race_df[\"block\"]\n",
        ")\n",
        "race_df = race_df.set_index(\"GEOID20\").drop(columns=[\"name\", \"state\", \"county\", \"tract\", \"block\"])"
      ]
    },
    {
      "cell_type": "code",
      "execution_count": null,
      "id": "35714f4d-466b-4bee-b31b-37b14b54f2ee",
      "metadata": {
        "id": "35714f4d-466b-4bee-b31b-37b14b54f2ee"
      },
      "outputs": [],
      "source": [
        "# here we create a new column called \"total\" that sums over the race categories\n",
        "race_df[\"total\"] = race_df[categories].sum(axis=1)"
      ]
    },
    {
      "cell_type": "code",
      "execution_count": null,
      "id": "e030a0ba-cdbb-4b6c-a3ba-e3afa26e7688",
      "metadata": {
        "id": "e030a0ba-cdbb-4b6c-a3ba-e3afa26e7688"
      },
      "outputs": [],
      "source": [
        "# let's see the dataframe\n",
        "race_df"
      ]
    },
    {
      "cell_type": "code",
      "execution_count": null,
      "id": "5bada678-8bf6-4659-aed2-ffd9db9ae02e",
      "metadata": {
        "id": "5bada678-8bf6-4659-aed2-ffd9db9ae02e"
      },
      "outputs": [],
      "source": [
        "# now we'll create a copy of the dataframe that is based on percents rather than counts\n",
        "race_with_pcts_df = race_df.copy()\n",
        "\n",
        "for col in categories:\n",
        "    race_with_pcts_df[f\"{col}_pct\"] = (100 * race_df[col] / race_df[\"total\"]).fillna(0)"
      ]
    },
    {
      "cell_type": "code",
      "execution_count": null,
      "id": "3e375777-1118-4086-be69-ecc9c5afd5a7",
      "metadata": {
        "id": "3e375777-1118-4086-be69-ecc9c5afd5a7"
      },
      "outputs": [],
      "source": [
        "race_with_pcts_df"
      ]
    },
    {
      "cell_type": "markdown",
      "id": "8GaTDipuR1JO",
      "metadata": {
        "id": "8GaTDipuR1JO"
      },
      "source": [
        "That view shows that some blocks have zero people, while others have hundreds.  Let's get a sense of the largest and smallest."
      ]
    },
    {
      "cell_type": "code",
      "execution_count": null,
      "id": "Oq8_h4rgPl6r",
      "metadata": {
        "id": "Oq8_h4rgPl6r"
      },
      "outputs": [],
      "source": [
        "# sorts by total population, largest to smallest\n",
        "race_with_pcts_df.sort_values(\"total\",ascending=False)"
      ]
    },
    {
      "cell_type": "code",
      "execution_count": null,
      "id": "424ca256-7227-42e3-a07d-d90386db6906",
      "metadata": {
        "id": "424ca256-7227-42e3-a07d-d90386db6906"
      },
      "outputs": [],
      "source": [
        "# now we'll create a geodataframe with race and filter out the zero-population blocks\n",
        "county_block_with_race_gdf = county_block_gdf.join(race_with_pcts_df)\n",
        "county_block_with_race_populated_gdf = county_block_with_race_gdf[county_block_with_race_gdf.total > 0]"
      ]
    },
    {
      "cell_type": "code",
      "execution_count": null,
      "id": "4027a70b-3108-40d2-95f6-fae35007d401",
      "metadata": {
        "id": "4027a70b-3108-40d2-95f6-fae35007d401"
      },
      "outputs": [],
      "source": [
        "# here are some choropleth style parameters for the plots below\n",
        "choropleth_style = dict(\n",
        "    edgecolor=\"0.1\",\n",
        "    linewidth=0.2,\n",
        "    cmap=\"Blues\",\n",
        "    legend=True,\n",
        "    legend_kwds={'shrink': 0.4},\n",
        ")"
      ]
    },
    {
      "cell_type": "code",
      "execution_count": null,
      "id": "5dfda296-61ea-47f8-ae79-939511803f72",
      "metadata": {
        "id": "5dfda296-61ea-47f8-ae79-939511803f72"
      },
      "outputs": [],
      "source": [
        "fig, ax = plt.subplots(figsize=(40, 20))\n",
        "ax.axis('off')\n",
        "ax.set_title(f\"{county_name} BPOP/TOTPOP (block level)\", fontsize=18)\n",
        "county_block_with_race_populated_gdf.plot(\n",
        "    ax=ax,\n",
        "    column=\"black_pct\",\n",
        "    vmin=0,\n",
        "    vmax=100,\n",
        "    **choropleth_style,\n",
        ")\n",
        "plt.show()"
      ]
    },
    {
      "cell_type": "markdown",
      "id": "211d1ec8-981e-4c62-afe9-41741f19e773",
      "metadata": {
        "id": "211d1ec8-981e-4c62-afe9-41741f19e773"
      },
      "source": [
        "## Scale effects: blocks vs. tracts"
      ]
    },
    {
      "cell_type": "code",
      "execution_count": null,
      "id": "287ea8ef-9631-42b1-a943-2104e09cb7c6",
      "metadata": {
        "id": "287ea8ef-9631-42b1-a943-2104e09cb7c6"
      },
      "outputs": [],
      "source": [
        "tract_gdf = gpd.read_file(f\"https://www2.census.gov/geo/tiger/TIGER2024/TRACT/tl_2024_{state_fips}_tract.zip\")\n",
        "tract_gdf = tract_gdf.to_crs(\"EPSG:2263\").set_index(\"GEOID\")"
      ]
    },
    {
      "cell_type": "code",
      "execution_count": null,
      "id": "02c56390-f696-49ba-8d6f-e24e736af0b3",
      "metadata": {
        "id": "02c56390-f696-49ba-8d6f-e24e736af0b3"
      },
      "outputs": [],
      "source": [
        "county_tract_gdf = tract_gdf[tract_gdf.COUNTYFP == county_fips]"
      ]
    },
    {
      "cell_type": "markdown",
      "id": "n47Uf93jUVFM",
      "metadata": {
        "id": "n47Uf93jUVFM"
      },
      "source": [
        "We know that tracts are larger, and now let's draw the map to see how much."
      ]
    },
    {
      "cell_type": "code",
      "execution_count": null,
      "id": "37b474f4-b0e7-4a74-b633-53586ada7e46",
      "metadata": {
        "id": "37b474f4-b0e7-4a74-b633-53586ada7e46"
      },
      "outputs": [],
      "source": [
        "fig, ax = plt.subplots(figsize=(40, 20))\n",
        "ax.axis('off')\n",
        "ax.set_title(f\"{county_name} (tracts)\", fontsize=18)\n",
        "county_tract_gdf.plot(ax=ax, edgecolor=\"0.1\", linewidth=1, color=\"#e1f1fd\")\n",
        "plt.axis('off')\n",
        "plt.show()"
      ]
    },
    {
      "cell_type": "code",
      "execution_count": null,
      "id": "9002c30e-4323-4c2d-a520-6a923e117264",
      "metadata": {
        "id": "9002c30e-4323-4c2d-a520-6a923e117264"
      },
      "outputs": [],
      "source": [
        "# just to see what is in the dataframe, here's the first row.\n",
        "county_tract_gdf.iloc[0]"
      ]
    },
    {
      "cell_type": "code",
      "execution_count": null,
      "id": "1a6be1b8-b4e2-4c5d-ae1a-d51804a69361",
      "metadata": {
        "id": "1a6be1b8-b4e2-4c5d-ae1a-d51804a69361"
      },
      "outputs": [],
      "source": [
        "# to get the tract GEOID, we take digits 1-10 of the full 15-digit identifier\n",
        "county_block_with_race_gdf[\"tract\"] = county_block_with_race_gdf.index.str.slice(0, 11)"
      ]
    },
    {
      "cell_type": "code",
      "execution_count": null,
      "id": "944cd61f-ed15-415f-90ec-e2aebe6dc27f",
      "metadata": {
        "id": "944cd61f-ed15-415f-90ec-e2aebe6dc27f"
      },
      "outputs": [],
      "source": [
        "# now we'll group the block data by tract, to produce tract totals\n",
        "county_tract_race_df = county_block_with_race_gdf[[*categories, \"total\", \"tract\"]].groupby(\"tract\").sum()\n",
        "county_tract_race_df"
      ]
    },
    {
      "cell_type": "code",
      "execution_count": null,
      "id": "b424c153-e9f8-4c2e-a348-2e1ce09668b1",
      "metadata": {
        "id": "b424c153-e9f8-4c2e-a348-2e1ce09668b1"
      },
      "outputs": [],
      "source": [
        "# joining the race data, at the tract level\n",
        "county_tract_with_race_gdf = county_tract_gdf.join(county_tract_race_df)\n",
        "county_tract_with_race_gdf"
      ]
    },
    {
      "cell_type": "code",
      "execution_count": null,
      "id": "988730cd-9e9a-46f8-88bc-ebf10ee81287",
      "metadata": {
        "id": "988730cd-9e9a-46f8-88bc-ebf10ee81287"
      },
      "outputs": [],
      "source": [
        "# recomputing percents at the tract level\n",
        "for col in categories:\n",
        "    county_tract_with_race_gdf[f\"{col}_pct\"] = (100 * county_tract_with_race_gdf[col] / county_tract_with_race_gdf[\"total\"]).fillna(0)"
      ]
    },
    {
      "cell_type": "markdown",
      "id": "3NJuaQXQVFqC",
      "metadata": {
        "id": "3NJuaQXQVFqC"
      },
      "source": [
        "Now when we plot the tract-level choropleth, we expect smoother colors because some of the variation gets averaged out."
      ]
    },
    {
      "cell_type": "code",
      "execution_count": null,
      "id": "d891e440-250d-46f3-95fe-e6fdc862940d",
      "metadata": {
        "id": "d891e440-250d-46f3-95fe-e6fdc862940d"
      },
      "outputs": [],
      "source": [
        "fig, ax = plt.subplots(figsize=(40, 20))\n",
        "ax.axis('off')\n",
        "ax.set_title(f\"{county_name} Black population % (tracts)\", fontsize=18)\n",
        "county_tract_with_race_gdf.plot(\n",
        "    ax=ax,\n",
        "    column=\"asian_pct\",\n",
        "    vmin=0,\n",
        "    vmax=100,\n",
        "    **choropleth_style,\n",
        ")\n",
        "plt.show()"
      ]
    },
    {
      "cell_type": "markdown",
      "id": "T0RidGErV0Xm",
      "metadata": {
        "id": "T0RidGErV0Xm"
      },
      "source": [
        "Now let's look at the race groups one by one.  The color scale is the same for the blocks and tracts, but it's different from one group to another -- the darkest color is the highest level observed.  "
      ]
    },
    {
      "cell_type": "code",
      "execution_count": null,
      "id": "0a52e245-87bc-42f4-96fc-2a55c7c3546f",
      "metadata": {
        "id": "0a52e245-87bc-42f4-96fc-2a55c7c3546f"
      },
      "outputs": [],
      "source": [
        "for col in categories:\n",
        "    fig, axes = plt.subplots(1, 2, figsize=(15, 8))\n",
        "    axes[0].axis('off')\n",
        "    axes[0].set_title(f\"{col} % (blocks)\", fontsize=18)\n",
        "\n",
        "    vmax = county_block_with_race_populated_gdf[f\"{col}_pct\"].quantile(.999)\n",
        "\n",
        "    county_block_with_race_populated_gdf.plot(\n",
        "        ax=axes[0],\n",
        "        column=f\"{col}_pct\",\n",
        "        vmin=0,\n",
        "        vmax=vmax,\n",
        "        **choropleth_style,\n",
        "    )\n",
        "\n",
        "    axes[1].axis('off')\n",
        "    axes[1].set_title(f\"{col} % (tracts)\", fontsize=18)\n",
        "    county_tract_with_race_gdf.plot(\n",
        "        ax=axes[1],\n",
        "        column=f\"{col}_pct\",\n",
        "        vmin=0,\n",
        "        vmax=vmax,\n",
        "        **choropleth_style,\n",
        "    )\n",
        "\n",
        "    plt.show()"
      ]
    },
    {
      "cell_type": "markdown",
      "id": "0fc2bedb-6476-439d-a3c0-2374cf2b638c",
      "metadata": {
        "id": "0fc2bedb-6476-439d-a3c0-2374cf2b638c"
      },
      "source": [
        "## Exploring the American Community Survey (ACS)"
      ]
    },
    {
      "cell_type": "markdown",
      "id": "9pVIbTyqWihV",
      "metadata": {
        "id": "9pVIbTyqWihV"
      },
      "source": [
        "The ACS has much richer socio-economic variables.  We'll start by making a tract-level dataframe that includes the median age and the median income.\n",
        "\n",
        "Remember you can find detailed information on ACS variables from the [API documentation](https://www.census.gov/programs-surveys/acs/data/data-via-api.html), the [table shells](https://www.census.gov/programs-surveys/acs/technical-documentation/table-shells.html), or our [Google spreadsheet](https://docs.google.com/spreadsheets/u/1/d/1DtGNarbQLaJdtMiINQ7brQ-Y6zawBkkBkp0VGSENsZw/edit?usp=sharing)."
      ]
    },
    {
      "cell_type": "code",
      "execution_count": null,
      "id": "cc8842e8-1974-47a1-934c-0461bca12e75",
      "metadata": {
        "id": "cc8842e8-1974-47a1-934c-0461bca12e75"
      },
      "outputs": [],
      "source": [
        "# Estimate!!Median age --!!Total:\n",
        "median_age_column = \"B01002_001E\"\n",
        "\n",
        "# Estimate!!Median income in the past 12 months --!!Total:\n",
        "median_income_column = \"B06011_001E\""
      ]
    },
    {
      "cell_type": "code",
      "execution_count": null,
      "id": "beff0e24-8275-405f-bf9a-aca5e0f3b68b",
      "metadata": {
        "id": "beff0e24-8275-405f-bf9a-aca5e0f3b68b"
      },
      "outputs": [],
      "source": [
        "county_tract_acs_df = pd.DataFrame(\n",
        "    census.acs5.get(\n",
        "        (median_age_column, median_income_column),\n",
        "        geo={\n",
        "            \"for\": \"tract:*\",\n",
        "            \"in\": f\"county:{county_fips} state:{state_fips}\",\n",
        "        },\n",
        "        year=2023,\n",
        "    )\n",
        ")\n",
        "county_tract_acs_df[\"GEOID20\"] = (\n",
        "    county_tract_acs_df[\"state\"]\n",
        "    + county_tract_acs_df[\"county\"]\n",
        "    + county_tract_acs_df[\"tract\"]\n",
        ")\n",
        "county_tract_acs_df = county_tract_acs_df.set_index(\"GEOID20\").drop(\n",
        "    columns=[\"state\", \"county\", \"tract\"]\n",
        ").rename(\n",
        "    columns={\n",
        "        median_age_column: \"median_age\",\n",
        "        median_income_column: \"median_income\",\n",
        "    }\n",
        ")\n",
        "county_tract_acs_df"
      ]
    },
    {
      "cell_type": "markdown",
      "id": "2SN8PDqPXAon",
      "metadata": {
        "id": "2SN8PDqPXAon"
      },
      "source": [
        "Something very strange has happened!  there's a tract with negative values in the millions.  This is sometimes called a \"sentinel value,\" which is dummy data used to flag when something doesn't fit.  (It's an alternative to `NaN`, or \"not a number.\")"
      ]
    },
    {
      "cell_type": "code",
      "execution_count": null,
      "id": "vsJI8OtuXI30",
      "metadata": {
        "id": "vsJI8OtuXI30"
      },
      "outputs": [],
      "source": [
        "# how many of these are negative?\n",
        "print('median age negative in',(county_tract_acs_df[\"median_age\"]<0).sum(),'tracts')\n",
        "print('median income negative in',(county_tract_acs_df[\"median_income\"]<0).sum(),'tracts')"
      ]
    },
    {
      "cell_type": "code",
      "execution_count": null,
      "id": "b3747514-5ff2-4d93-85a9-f1bc1b2ae4c7",
      "metadata": {
        "id": "b3747514-5ff2-4d93-85a9-f1bc1b2ae4c7"
      },
      "outputs": [],
      "source": [
        "county_tract_with_acs_gdf = county_tract_with_race_gdf.join(county_tract_acs_df)"
      ]
    },
    {
      "cell_type": "code",
      "execution_count": null,
      "id": "f929b569-834f-4869-8b4d-e8a29a78f474",
      "metadata": {
        "id": "f929b569-834f-4869-8b4d-e8a29a78f474"
      },
      "outputs": [],
      "source": [
        "# we'll use the vmin parameter to avoid plotting those negatives\n",
        "\n",
        "fig, axes = plt.subplots(1, 2, figsize=(15, 8))\n",
        "axes[0].axis('off')\n",
        "axes[0].set_title(f\"{county_name}: median age\", fontsize=18)\n",
        "\n",
        "county_tract_with_acs_gdf.plot(\n",
        "    ax=axes[0],\n",
        "    column=\"median_age\",\n",
        "    **choropleth_style,\n",
        "    vmin=0,\n",
        ")\n",
        "\n",
        "axes[1].axis('off')\n",
        "axes[1].set_title(f\"{county_name}: median income ($)\", fontsize=18)\n",
        "county_tract_with_acs_gdf.plot(\n",
        "    ax=axes[1],\n",
        "    column=\"median_income\",\n",
        "    **choropleth_style,\n",
        "    vmin=0,\n",
        ")\n",
        "\n",
        "plt.show()"
      ]
    }
  ],
  "metadata": {
    "colab": {
      "provenance": [],
      "include_colab_link": true
    },
    "kernelspec": {
      "display_name": "Python 3 (ipykernel)",
      "language": "python",
      "name": "python3"
    },
    "language_info": {
      "codemirror_mode": {
        "name": "ipython",
        "version": 3
      },
      "file_extension": ".py",
      "mimetype": "text/x-python",
      "name": "python",
      "nbconvert_exporter": "python",
      "pygments_lexer": "ipython3",
      "version": "3.10.2"
    }
  },
  "nbformat": 4,
  "nbformat_minor": 5
}