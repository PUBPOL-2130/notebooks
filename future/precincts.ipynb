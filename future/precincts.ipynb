{
  "cells": [
    {
      "cell_type": "markdown",
      "metadata": {
        "id": "view-in-github",
        "colab_type": "text"
      },
      "source": [
        "<a href=\"https://colab.research.google.com/github/PUBPOL-2130/notebooks/blob/main/future/precincts.ipynb\" target=\"_parent\"><img src=\"https://colab.research.google.com/assets/colab-badge.svg\" alt=\"Open In Colab\"/></a>"
      ]
    },
    {
      "cell_type": "markdown",
      "id": "ed047c8d-5b87-4025-ab50-b379e7cd62ff",
      "metadata": {
        "id": "ed047c8d-5b87-4025-ab50-b379e7cd62ff"
      },
      "source": [
        "## Introduction to precincts"
      ]
    },
    {
      "cell_type": "markdown",
      "id": "MXPxiG9OeKkP",
      "metadata": {
        "id": "MXPxiG9OeKkP"
      },
      "source": [
        "Here, we'll pull in a precinct shapefile.  (Currently sourced to Ben Rosenblatt, [link](https://www.benjrosenblatt.com/new-york-2022-election-district-level-data).)  The point of using precincts is to be able to join election results."
      ]
    },
    {
      "cell_type": "code",
      "execution_count": null,
      "id": "aaf3679f-38ba-45bc-9c19-4154cde0f4e4",
      "metadata": {
        "id": "aaf3679f-38ba-45bc-9c19-4154cde0f4e4"
      },
      "outputs": [],
      "source": [
        "!curl -OL https://github.com/PUBPOL-2130/notebooks/raw/refs/heads/main/data/week3-NY-precincts.zip\n",
        "!unzip week3-NY-precincts.zip"
      ]
    },
    {
      "cell_type": "code",
      "source": [
        "!curl -OL \"https://github.com/PUBPOL-2130/notebooks/raw/refs/heads/main/data/week4_36_county_block_gdf.zip\"\n",
        "!curl -OL \"https://github.com/PUBPOL-2130/notebooks/raw/refs/heads/main/data/week4_36_county_block_with_race_gdf.zip\"\n",
        "!curl -OL \"https://github.com/PUBPOL-2130/notebooks/raw/refs/heads/main/data/week4_36_county_block_with_race_populated_gdf.zip\"\n",
        "!curl -OL \"https://github.com/PUBPOL-2130/notebooks/raw/refs/heads/main/data/week4_36_county_tract_gdf.zip\"\n",
        "!curl -OL \"https://github.com/PUBPOL-2130/notebooks/raw/refs/heads/main/data/week4_36_county_tract_with_acs_gdf.zip\"\n",
        "\n",
        "\n",
        "!unzip week4_36_county_block_gdf.zip\n",
        "!unzip week4_36_county_block_with_race_gdf.zip\n",
        "!unzip week4_36_county_block_with_race_populated_gdf.zip\n",
        "!unzip week4_36_county_tract_gdf.zip\n",
        "!unzip week4_36_county_tract_with_acs_gdf.zip"
      ],
      "metadata": {
        "id": "D0kAMA7qOgrD"
      },
      "id": "D0kAMA7qOgrD",
      "execution_count": null,
      "outputs": []
    },
    {
      "cell_type": "code",
      "execution_count": null,
      "id": "87d0c43c-13b1-44c1-b63d-3e6b839c4565",
      "metadata": {
        "id": "87d0c43c-13b1-44c1-b63d-3e6b839c4565"
      },
      "outputs": [],
      "source": [
        "ny_precinct_gdf = gpd.read_file(\"week3-NY-precincts\")"
      ]
    },
    {
      "cell_type": "code",
      "execution_count": null,
      "id": "b047577d-5238-4cce-823c-67623315d2e5",
      "metadata": {
        "id": "b047577d-5238-4cce-823c-67623315d2e5"
      },
      "outputs": [],
      "source": [
        "ny_precinct_gdf"
      ]
    },
    {
      "cell_type": "code",
      "execution_count": null,
      "id": "d91c0d98-f417-41a0-a1a0-07b9eb955a7b",
      "metadata": {
        "id": "d91c0d98-f417-41a0-a1a0-07b9eb955a7b"
      },
      "outputs": [],
      "source": [
        "sen_columns = [col for col in ny_precinct_gdf if col.startswith(\"USSen_\")]"
      ]
    },
    {
      "cell_type": "code",
      "execution_count": null,
      "id": "819bf4f5-6a5c-4c47-8d66-b79d9d740ace",
      "metadata": {
        "id": "819bf4f5-6a5c-4c47-8d66-b79d9d740ace"
      },
      "outputs": [],
      "source": [
        "ny_precinct_gdf[\"USSen_total\"] = ny_precinct_gdf[sen_columns].sum(axis=1)\n",
        "sen_columns.append(\"USSen_total\")"
      ]
    },
    {
      "cell_type": "code",
      "execution_count": null,
      "id": "1d6daddc-86bc-4562-b367-1753ac72c20a",
      "metadata": {
        "id": "1d6daddc-86bc-4562-b367-1753ac72c20a"
      },
      "outputs": [],
      "source": [
        "# there was an invalid geometry error in this shapefile, and this was a quick fix\n",
        "county_precinct_gdf = ny_precinct_gdf[ny_precinct_gdf.CountyFP == county_fips]\n",
        "county_precinct_gdf.geometry = county_precinct_gdf.geometry.buffer(0)"
      ]
    },
    {
      "cell_type": "markdown",
      "id": "H5cMib9WfrLJ",
      "metadata": {
        "id": "H5cMib9WfrLJ"
      },
      "source": [
        "OK, now we'll take a look at the votes by party.  Chuck Schumer ran on both the Dem and Working Parties line; Joe Pinion challenged him as both a Republican and Constitutional Party nominee; and Diane Sare picked up a handful of votes on the LaRouche Party line.  (Look up Lyndon LaRouche, it's quite a story!)"
      ]
    },
    {
      "cell_type": "code",
      "execution_count": null,
      "id": "aee2964b-1fca-45c6-91a8-f74f2bdb8ab8",
      "metadata": {
        "id": "aee2964b-1fca-45c6-91a8-f74f2bdb8ab8"
      },
      "outputs": [],
      "source": [
        "county_precinct_gdf"
      ]
    },
    {
      "cell_type": "code",
      "execution_count": null,
      "id": "17c34363-a20b-4c64-ad07-c8bc813fdc0f",
      "metadata": {
        "id": "17c34363-a20b-4c64-ad07-c8bc813fdc0f"
      },
      "outputs": [],
      "source": [
        "fig, ax = plt.subplots(figsize=(40, 20))\n",
        "ax.set_title(f\"{county_name} (precincts)\", fontsize=18)\n",
        "ax.axis('off')\n",
        "county_precinct_gdf.plot(ax=ax, edgecolor=\"0.1\", linewidth=1, color=\"#e1f1fd\")\n",
        "plt.axis('off')\n",
        "plt.show()"
      ]
    },
    {
      "cell_type": "markdown",
      "id": "gIHLtsQHg42j",
      "metadata": {
        "id": "gIHLtsQHg42j"
      },
      "source": [
        "The MAUP package will let us query the blocks and figure out what precinct they are in.  That way, we can take stats on the blocks and aggregate them up to precincts -- this will let us compare race to voting."
      ]
    },
    {
      "cell_type": "code",
      "execution_count": null,
      "id": "2268462e-4b33-45d2-8d5c-321656eaab05",
      "metadata": {
        "id": "2268462e-4b33-45d2-8d5c-321656eaab05"
      },
      "outputs": [],
      "source": [
        "# maup.assign will take each block and figure out what precinct it is in\n",
        "block_to_precinct_assignment = maup.assign(county_block_gdf, county_precinct_gdf)\n",
        "block_to_precinct_assignment = block_to_precinct_assignment[~pd.isna(block_to_precinct_assignment)].astype(int)\n",
        "block_to_precinct_assignment"
      ]
    },
    {
      "cell_type": "code",
      "execution_count": null,
      "id": "44f1ac87-434c-4be8-983f-6967a7c5d019",
      "metadata": {
        "id": "44f1ac87-434c-4be8-983f-6967a7c5d019"
      },
      "outputs": [],
      "source": [
        "pop_weights = (\n",
        "    county_block_with_race_populated_gdf[\"total\"]\n",
        "    / block_to_precinct_assignment.map(county_block_with_race_populated_gdf[\"total\"].groupby(block_to_precinct_assignment).sum())\n",
        ").fillna(0)"
      ]
    },
    {
      "cell_type": "code",
      "execution_count": null,
      "id": "9f744cb0-0be1-49fa-b6f3-a0527ea03de3",
      "metadata": {
        "id": "9f744cb0-0be1-49fa-b6f3-a0527ea03de3"
      },
      "outputs": [],
      "source": [
        "pop_weights"
      ]
    },
    {
      "cell_type": "code",
      "execution_count": null,
      "id": "9313e919-a49e-4747-88ff-4c10174cc639",
      "metadata": {
        "id": "9313e919-a49e-4747-88ff-4c10174cc639"
      },
      "outputs": [],
      "source": [
        "aggregated_votes_df = maup.prorate(block_to_precinct_assignment, county_precinct_gdf[sen_columns], weights=pop_weights)"
      ]
    },
    {
      "cell_type": "code",
      "execution_count": null,
      "id": "d9801d8f-5dbc-4dfc-aaa8-5cbe519c78cb",
      "metadata": {
        "id": "d9801d8f-5dbc-4dfc-aaa8-5cbe519c78cb"
      },
      "outputs": [],
      "source": [
        "aggregated_votes_df"
      ]
    },
    {
      "cell_type": "code",
      "execution_count": null,
      "id": "8b633e35-97f4-4be0-89ae-ca05f5d8eb7c",
      "metadata": {
        "id": "8b633e35-97f4-4be0-89ae-ca05f5d8eb7c"
      },
      "outputs": [],
      "source": [
        "county_block_with_election_gdf = county_block_with_race_gdf.join(aggregated_votes_df[[\"USSen_DEM\",\"USSen_WOR\",\"USSen_total\"]])\n",
        "county_block_with_election_gdf[\"sen_demwor_pct\"] = (\n",
        "    100 * (county_block_with_election_gdf[\"USSen_DEM\"]+county_block_with_election_gdf[\"USSen_WOR\"])\n",
        "    / county_block_with_election_gdf[\"USSen_total\"]\n",
        ")"
      ]
    },
    {
      "cell_type": "code",
      "execution_count": null,
      "id": "77f7fa9d-bf80-4f86-b1ab-18e58d9e445c",
      "metadata": {
        "id": "77f7fa9d-bf80-4f86-b1ab-18e58d9e445c"
      },
      "outputs": [],
      "source": [
        "fig, ax = plt.subplots(figsize=(20, 10))\n",
        "ax.axis('off')\n",
        "ax.set_title(f\"{county_name} 2022 Senate Dem+WorkingFam % (disaggregated to blocks)\", fontsize=18)\n",
        "county_block_with_election_gdf[~pd.isna(county_block_with_election_gdf[\"sen_demwor_pct\"])].plot(\n",
        "    ax=ax,\n",
        "    column=\"sen_demwor_pct\",\n",
        "    vmin=0,\n",
        "    vmax=100,\n",
        "    **choropleth_style,\n",
        ")\n",
        "county_precinct_gdf.boundary.plot(\n",
        "    ax=ax,\n",
        "    edgecolor=\"0.1\",\n",
        "    linewidth=1.5,\n",
        ")\n",
        "plt.show()"
      ]
    },
    {
      "cell_type": "code",
      "execution_count": null,
      "id": "9af7240f-27a9-4b70-a9ec-93b655eb06bd",
      "metadata": {
        "id": "9af7240f-27a9-4b70-a9ec-93b655eb06bd"
      },
      "outputs": [],
      "source": [
        "aggregated_votes_df[\"tract\"] = aggregated_votes_df.index.str.slice(0, 11)"
      ]
    },
    {
      "cell_type": "code",
      "execution_count": null,
      "id": "76028dbf-a13c-45ea-9616-d762bd701a59",
      "metadata": {
        "id": "76028dbf-a13c-45ea-9616-d762bd701a59"
      },
      "outputs": [],
      "source": [
        "aggregated_tract_votes_df = aggregated_votes_df.groupby(\"tract\")[sen_columns].sum()\n",
        "aggregated_tract_votes_df"
      ]
    },
    {
      "cell_type": "code",
      "execution_count": null,
      "id": "8033f3f3-9c73-47ab-913e-b645b4b33667",
      "metadata": {
        "id": "8033f3f3-9c73-47ab-913e-b645b4b33667"
      },
      "outputs": [],
      "source": [
        "aggregated_tract_votes_df[\"sen_demwor_pct\"] = (\n",
        "    100 * aggregated_tract_votes_df[[\"USSen_DEM\",\"USSen_WOR\"]].sum(axis=1)\n",
        "    / aggregated_tract_votes_df[\"USSen_total\"]\n",
        ")"
      ]
    },
    {
      "cell_type": "code",
      "execution_count": null,
      "id": "91d43d66-5f06-40d6-b219-3ff4ffa47c1b",
      "metadata": {
        "id": "91d43d66-5f06-40d6-b219-3ff4ffa47c1b"
      },
      "outputs": [],
      "source": [
        "fig, ax = plt.subplots(figsize=(20, 10))\n",
        "ax.axis('off')\n",
        "ax.set_title(f\"{county_name} 2022 Senate Dem+WorkingFam % (aggregated up to tracts)\", fontsize=18)\n",
        "county_tract_gdf.join(aggregated_tract_votes_df).plot(\n",
        "    ax=ax,\n",
        "    column=\"sen_demwor_pct\",\n",
        "    vmin=0,\n",
        "    vmax=100,\n",
        "    **choropleth_style,\n",
        ")\n",
        "plt.show()"
      ]
    },
    {
      "cell_type": "markdown",
      "id": "_KesYI19oOGU",
      "metadata": {
        "id": "_KesYI19oOGU"
      },
      "source": [
        "Kind of interesting that the southern half of Brooklyn doesn't seem to have supported Chuck Schumer.  Let's see if that's predicted by age or income."
      ]
    },
    {
      "cell_type": "code",
      "execution_count": null,
      "id": "40f77b93-749f-472c-b618-3915035feb92",
      "metadata": {
        "id": "40f77b93-749f-472c-b618-3915035feb92"
      },
      "outputs": [],
      "source": [
        "fig, axes = plt.subplots(1, 3, figsize=(15, 8))\n",
        "axes[0].axis('off')\n",
        "axes[0].set_title(f\"{county_name}: median age\", fontsize=10)\n",
        "\n",
        "county_tract_with_acs_gdf.plot(\n",
        "    ax=axes[0],\n",
        "    column=\"median_age\",\n",
        "    vmin=0,\n",
        "    **choropleth_style,\n",
        ")\n",
        "\n",
        "axes[1].axis('off')\n",
        "axes[1].set_title(f\"{county_name}: median income ($)\", fontsize=10)\n",
        "county_tract_with_acs_gdf.plot(\n",
        "    ax=axes[1],\n",
        "    column=\"median_income\",\n",
        "    vmin=0,\n",
        "    **choropleth_style,\n",
        ")\n",
        "\n",
        "axes[2].axis('off')\n",
        "axes[2].set_title(f\"{county_name}: 2022 Senate Dem+WF %\", fontsize=10)\n",
        "county_tract_gdf.join(aggregated_tract_votes_df).plot(\n",
        "    ax=axes[2],\n",
        "    column=\"sen_demwor_pct\",\n",
        "    **choropleth_style,\n",
        ")\n",
        "plt.show()"
      ]
    },
    {
      "cell_type": "markdown",
      "id": "ZPXyRLeroXvk",
      "metadata": {
        "id": "ZPXyRLeroXvk"
      },
      "source": [
        "Not really -- how about race?"
      ]
    },
    {
      "cell_type": "code",
      "execution_count": null,
      "id": "LKZIx7Von5Ie",
      "metadata": {
        "id": "LKZIx7Von5Ie"
      },
      "outputs": [],
      "source": [
        "fig, axes = plt.subplots(1, 2, figsize=(15, 8))\n",
        "axes[0].axis('off')\n",
        "axes[0].set_title(f\"{county_name}: WPOP/TOTPOP\", fontsize=10)\n",
        "\n",
        "county_tract_with_acs_gdf.plot(\n",
        "    ax=axes[0],\n",
        "    column=\"white_pct\",\n",
        "    vmin=0,\n",
        "    **choropleth_style,\n",
        ")\n",
        "\n",
        "\n",
        "\n",
        "axes[1].axis('off')\n",
        "axes[1].set_title(f\"{county_name}: 2022 Senate Dem+WF %\", fontsize=10)\n",
        "county_tract_gdf.join(aggregated_tract_votes_df).plot(\n",
        "    ax=axes[1],\n",
        "    column=\"sen_demwor_pct\",\n",
        "    **choropleth_style,\n",
        ")\n",
        "plt.show()"
      ]
    }
  ],
  "metadata": {
    "colab": {
      "provenance": [],
      "include_colab_link": true
    },
    "kernelspec": {
      "display_name": "Python 3 (ipykernel)",
      "language": "python",
      "name": "python3"
    },
    "language_info": {
      "codemirror_mode": {
        "name": "ipython",
        "version": 3
      },
      "file_extension": ".py",
      "mimetype": "text/x-python",
      "name": "python",
      "nbconvert_exporter": "python",
      "pygments_lexer": "ipython3",
      "version": "3.10.2"
    }
  },
  "nbformat": 4,
  "nbformat_minor": 5
}