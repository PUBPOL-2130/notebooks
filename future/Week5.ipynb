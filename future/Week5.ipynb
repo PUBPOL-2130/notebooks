{
 "cells": [
  {
   "cell_type": "code",
   "execution_count": null,
   "id": "6beea860-984e-402e-b389-aacee4ec52f6",
   "metadata": {},
   "outputs": [],
   "source": [
    "!pip install -q geopandas networkx"
   ]
  },
  {
   "cell_type": "code",
   "execution_count": null,
   "id": "8eb8fd4e-da4f-4f7e-a764-84c69b478893",
   "metadata": {
    "id": "8eb8fd4e-da4f-4f7e-a764-84c69b478893"
   },
   "outputs": [],
   "source": [
    "%config InlineBackend.figure_formats = [\"svg\"]\n",
    "import base64\n",
    "import io\n",
    "import json\n",
    "import requests\n",
    "\n",
    "import pandas as pd; pd.set_option('display.max_rows', 500)\n",
    "import geopandas as gpd\n",
    "import matplotlib.pyplot as plt\n",
    "import networkx as nx\n",
    "\n",
    "from shapely import Point"
   ]
  },
  {
   "cell_type": "markdown",
   "id": "ccab8940-a621-4f63-acc3-06263f8b1d3a",
   "metadata": {},
   "source": [
    "# Week 5: weapons flows"
   ]
  },
  {
   "cell_type": "markdown",
   "id": "47a3e0d6-01ac-4a94-8af1-a594b813121c",
   "metadata": {},
   "source": [
    "### Fetching SIPRI flow data\n",
    "\n",
    "This is a case study in real-world data munging... [more here about the weird format]"
   ]
  },
  {
   "cell_type": "code",
   "execution_count": null,
   "id": "f3f8c05f-0f29-497c-863c-6464cafe6c56",
   "metadata": {
    "id": "f3f8c05f-0f29-497c-863c-6464cafe6c56"
   },
   "outputs": [],
   "source": [
    "raw_data = requests.post(\n",
    "    \"https://atbackend.sipri.org/api/p/trades/trade-register-csv/\",\n",
    "    json={\"filters\": []},\n",
    ").json()"
   ]
  },
  {
   "cell_type": "code",
   "execution_count": null,
   "id": "95b13bad-4900-4d74-8fb3-d582a0a60f76",
   "metadata": {
    "colab": {
     "base_uri": "https://localhost:8080/"
    },
    "id": "95b13bad-4900-4d74-8fb3-d582a0a60f76",
    "outputId": "451d616e-6180-44e6-e1be-56bde39de1ab"
   },
   "outputs": [],
   "source": [
    "csv_lines = base64.b64decode(raw_data[\"bytes\"]).decode(\"iso-8859-1\").split(\"\\n\")\n",
    "csv_lines[:15]"
   ]
  },
  {
   "cell_type": "code",
   "execution_count": null,
   "id": "96a2f37a-2d1c-4b5f-81f1-481e12d086c9",
   "metadata": {
    "colab": {
     "base_uri": "https://localhost:8080/"
    },
    "id": "96a2f37a-2d1c-4b5f-81f1-481e12d086c9",
    "outputId": "47600439-e72e-452f-eba8-2b0bd1562ab7"
   },
   "outputs": [],
   "source": [
    "first_line_index = next(idx for idx, line in enumerate(csv_lines) if line.startswith(\"Recipient,\"))\n",
    "first_line_index"
   ]
  },
  {
   "cell_type": "code",
   "execution_count": null,
   "id": "8f89972d-2dda-4bdb-9116-ae97030205ce",
   "metadata": {
    "colab": {
     "base_uri": "https://localhost:8080/",
     "height": 563
    },
    "id": "8f89972d-2dda-4bdb-9116-ae97030205ce",
    "outputId": "aba28869-7d16-4d53-b41e-db8c894aa501"
   },
   "outputs": [],
   "source": [
    "arms_df = pd.read_csv(io.StringIO(\"\\n\".join(csv_lines[first_line_index:])))\n",
    "arms_df"
   ]
  },
  {
   "cell_type": "markdown",
   "id": "952beecb-1a90-4ea7-b34f-491f453f4287",
   "metadata": {
    "id": "952beecb-1a90-4ea7-b34f-491f453f4287"
   },
   "source": [
    "For more on the SIPRI TIV (trend indicator value), see the SIPRI fact sheet [\"Measuring International Arms Transfers\"](https://www.sipri.org/sites/default/files/files/FS/SIPRIFS1212.pdf)."
   ]
  },
  {
   "cell_type": "code",
   "execution_count": null,
   "id": "7d1ac82c-78e0-49a6-af26-dfa0a06a4601",
   "metadata": {
    "colab": {
     "base_uri": "https://localhost:8080/",
     "height": 490
    },
    "id": "7d1ac82c-78e0-49a6-af26-dfa0a06a4601",
    "outputId": "c5f7a736-8354-4335-b9d2-73b282be93c4"
   },
   "outputs": [],
   "source": [
    "arms_df.groupby([\"Recipient\", \"Supplier\", \"Year of order\"]).count()"
   ]
  },
  {
   "cell_type": "code",
   "execution_count": null,
   "id": "2fa88f11-449a-4b18-9cce-4da851e60e0a",
   "metadata": {
    "colab": {
     "base_uri": "https://localhost:8080/",
     "height": 615
    },
    "id": "2fa88f11-449a-4b18-9cce-4da851e60e0a",
    "outputId": "609f8ab5-ece4-4e26-b918-ac8990c9c90f"
   },
   "outputs": [],
   "source": [
    "# arms_df[(arms_df[\"Weapon designation\"] == \"Mi-17\") & (arms_df[\"Supplier\"] != \"Russia\") & (arms_df[\"Supplier\"] != \"Soviet Union\")]\n",
    "arms_df[arms_df[\"status\"] == \"Second hand\"]"
   ]
  },
  {
   "cell_type": "code",
   "execution_count": null,
   "id": "594f1f43-25c2-4a70-91a7-d8e4edc77bf2",
   "metadata": {},
   "outputs": [],
   "source": [
    "arms_df[\"status\"].unique()"
   ]
  },
  {
   "cell_type": "code",
   "execution_count": null,
   "id": "19fc6835-313f-4da7-847d-38232e05d4ab",
   "metadata": {
    "colab": {
     "base_uri": "https://localhost:8080/",
     "height": 490
    },
    "id": "19fc6835-313f-4da7-847d-38232e05d4ab",
    "outputId": "a1f80ee2-3896-4fbd-bc97-aafcd3fdf820"
   },
   "outputs": [],
   "source": [
    "arms_df[\"Weapon designation\"].value_counts()"
   ]
  },
  {
   "cell_type": "markdown",
   "id": "3a341af3-e54b-485c-85db-c5e36976c9e3",
   "metadata": {},
   "source": [
    "## Postprocessing: mapping actors to places\n",
    "\n",
    "Visualizing the SIFRI dataset presents several problems:\n",
    "\n",
    "* Recipients and suppliers are _usually_ countries, but this does not always hold. Notice that the dataset includes non-state actors (such as the [Houthi rebels](https://en.wikipedia.org/wiki/Houthis) or the [Mujahedin](https://en.wikipedia.org/wiki/Afghan_mujahideen)).\n",
    "* This dataset goes back to the 1940s, so it references countries that no longer exist (such as [Biafra](https://en.wikipedia.org/wiki/Biafra) and [Yugoslavia](https://en.wikipedia.org/wiki/Yugoslavia)).\n",
    "* There is some naming variation betwen the SIFRI dataset and the shapefile of capital cities we'll use for visualization. For instance, Ivory Coast and Cote d'Ivoire are two different names for the same country.\n",
    "\n",
    "For visualization purposes, we'll map these special cases to the nearest equivalent contemporary states. For instance, we'll map South Vietnam to Vietnam; Saigon (the former capital of South Vietnam) is now Ho Chi Minh City (the current capital of Vietnam). We'll exclude flows to or from entities that do not clearly correspond to a single region (for instance, the United Nations)."
   ]
  },
  {
   "cell_type": "code",
   "execution_count": null,
   "id": "eX5TufWIGWr-",
   "metadata": {
    "id": "eX5TufWIGWr-"
   },
   "outputs": [],
   "source": [
    "capitals_map = {\n",
    "    \"ANC (South Africa)*\": \"South Africa\",\n",
    "    \"Anti-Castro rebels (Cuba)*\": \"Cuba\",\n",
    "    \"Amal (Lebanon)*\": \"Lebanon\",\n",
    "    \"Armas (Guatemala)*\": \"Guatemala\",\n",
    "    \"Contras (Nicaragua)*\": \"Nicaragua\",\n",
    "    \"Darfur rebels (Sudan)*\": \"Sudan\",\n",
    "    \"ELF (Ethiopia)*\": \"Ethiopia\",\n",
    "    \"EPLF (Ethiopia)*\": \"Ethiopia\",\n",
    "    \"FRELIMO (Portugal)*\": \"Portugal\",\n",
    "    \"Haiti rebels*\": \"Haiti\",\n",
    "    \"Hezbollah (Lebanon)*\": \"Lebanon\",\n",
    "    \"Houthi rebels (Yemen)*\": \"Yemen\",\n",
    "    \"Indonesia rebels*\": \"Indonesia\",\n",
    "    \"Khmer Rouge (Cambodia)*\": \"Cambodia\",\n",
    "    \"Kurdistan Regional Government (Iraq)*\": \"Iraq\",\n",
    "    \"LF (Lebanon)*\": \"Lebanon\",\n",
    "    \"LRA (Uganda)*\": \"Uganda\",\n",
    "    \"LTTE (Sri Lanka)*\": \"Sri Lanka\",\n",
    "    \"Libya GNC\": \"Libya\",\n",
    "    \"Libya HoR*\": \"Libya\",\n",
    "    \"Congo\": \"Congo (Brazzaville)\",\n",
    "    \"DR Congo\": \"Congo (Kinshasa)\",\n",
    "    \"MNLF (Philippines)*\": \"Philippines\",\n",
    "    \"MPLA (Portugal)*\": \"Portugal\",\n",
    "    \"MTA (Myanmar)*\": \"Myanmar\",\n",
    "    \"Micronesia\": \"Federated States of Micronesia\",\n",
    "    \"Mujahedin (Afghanistan)*\": \"Afghanistan\",\n",
    "    \"NLA (Macedonia)*\": \"North Macedonia\",\n",
    "    \"NTC (Libya)*\": \"Libya\",\n",
    "    \"Northern Alliance (Afghanistan)*\": \"Afghanistan\",\n",
    "    \"Northern Cyprus\": \"Cyprus\",\n",
    "    \"PAIGC (Portugal)*\": \"Portugal\",\n",
    "    \"PIJ (Israel/Palestine)*\": \"Israel\",\n",
    "    \"PKK (Turkiye)*\": \"Turkey\",\n",
    "    \"PLO (Israel)*\": \"Israel\",\n",
    "    \"PRC (Israel/Palestine)*\": \"Israel\",\n",
    "    \"Pathet Lao (Laos)*\": \"Laos\",\n",
    "    \"Provisional IRA (UK)*\": \"United Kingdom\",\n",
    "    \"RPF (Rwanda)*\": \"Rwanda\",\n",
    "    \"RUF (Sierra Leone)*\": \"United Kingdom\",\n",
    "    \"SLA (Lebanon)*\": \"Lebanon\",\n",
    "    \"SNA (Somalia)*\": \"Somalia\",\n",
    "    \"SPLA (Sudan)*\": \"Sudan\",\n",
    "    \"Southern rebels (Yemen)*\": \"Yemen\",\n",
    "    \"Syria rebels*\": \"Syria\",\n",
    "    \"Turkiye\": \"Turkey\",\n",
    "    \"UAE\": \"United Arab Emirates\",\n",
    "    \"UIC (Somalia)*\": \"Somalia\",\n",
    "    \"UNITA (Angola)*\": \"Angola\",\n",
    "    \"Ukraine Rebels*\": \"Ukraine\",\n",
    "    \"United States\": \"United States of America\",\n",
    "    \"United Wa State (Myanmar)*\": \"Myanmar\",\n",
    "    \"Viet Minh (France)*\": \"France\",\n",
    "    \"Viet Nam\": \"Vietnam\",\n",
    "    \"ZAPU (Zimbabwe)*\": \"Zimbabwe\",\n",
    "    \"GUNT (Chad)*\": \"Chad\",\n",
    "    \"FAN (Chad)*\": \"Chad\",\n",
    "    \"FMLN (El Salvador)*\": \"El Salvador\",\n",
    "    \"Gambia\": \"The Gambia\",\n",
    "    \"Lebanon Palestinian rebels*\": \"Lebanon\",\n",
    "    \"Cote d'Ivoire\": \"Ivory Coast\",\n",
    "    \"Bahamas\": \"The Bahamas\",\n",
    "    \"FNLA (Angola)*\": \"Angola\",\n",
    "    \"Cabo Verde\": \"Cape Verde\",\n",
    "    \"Timor-Leste\": \"East Timor\",\n",
    "    \"Saint Vincent\": \"Saint Vincent and the Grenadines\",\n",
    "    \"Guinea-Bissau\": \"Guinea Bissau\",\n",
    "    \"South Vietnam\": \"Vietnam\",  # Saigon is now Ho Chi Minh City\n",
    "    \"Viet Cong (South Vietnam)*\": \"Vietnam\",\n",
    "    \"Hamas (Palestine)*\": \"Palestine\",\n",
    "    \"Soviet Union\": \"Russia\",\n",
    "    \"NATO**\": \"Belgium\",  # NATO headquarters in Brussels\n",
    "    'European Union**': \"Belgium\",  # EU headquarters in Brussels\n",
    "    \"OSCE**\": \"Austria\",  # secretariat in Vienna\n",
    "    \"Yemen Arab Republic (North Yemen)\": \"Yemen\",  # same capital as Yemen (Sanaa)\n",
    "    \"North Yemen\": \"Yemen\",  # same capital as Yemen (Sanaa)\n",
    "    \"Czechoslovakia\": \"Czechia\",  # same capital as the modern Czech Republic (Prague)\n",
    "    \"Yugoslavia\": \"Serbia\",  # same capital as Serbia (Belgrade)\n",
    "    \"East Germany (GDR)\": \"Germany\",  # for large-scale flow maps, approximate East Berlin with Berlin\n",
    "    \"Western Sahara\": \"Morocco\",  # largely under Moroccan occupation,\n",
    "}\n",
    "\n",
    "exclude_flows = {\n",
    "    \"nan\",\n",
    "    \"unknown rebel group*\",\n",
    "    \"unknown recipient(s)\",\n",
    "    'unknown supplier(s)',\n",
    "    \"United Nations**\",\n",
    "    \"Regional Security System**\",\n",
    "    \"African Union**\",\n",
    "    '0.25',\n",
    "    '3',\n",
    "}\n"
   ]
  },
  {
   "cell_type": "code",
   "execution_count": null,
   "id": "5a6b7f7f-67e0-4de6-a999-281b4efcbbe2",
   "metadata": {},
   "outputs": [],
   "source": [
    "# (long, lat) coordinates for capitals of entities not included in the places shapefile.\n",
    "# Several of these entities are countries that no longer exist.\n",
    "extra_capitals = {  \n",
    "    \"Biafra\": (\"Enugu\", 7.5139, 6.4483),  # 1967 capital (now part of Nigeria)\n",
    "    \"Bosnia-Herzegovina\": (\"Sarajevo\", 18.4131, 43.8563),  \n",
    "    \"South Yemen\": (\"Aden\", 45.0176, 12.7906),\n",
    "    \"Katanga\": (\"Lubumbashi\", 27.5026, -11.6876),\n",
    "    \"South Sudan\": (\"Juba\",  31.5825, 4.8539),\n",
    "    \"Palestine\": (\"East Jerusalem\", 35.217018, 31.771959),\n",
    "    \"Aruba\": (\"Oranjestad\", -70.0353, 12.5227),\n",
    "}"
   ]
  },
  {
   "cell_type": "code",
   "execution_count": null,
   "id": "102e5fad-8ddd-4f63-8df0-843a235f03ae",
   "metadata": {},
   "outputs": [],
   "source": [
    "extra_capitals_gdf = gpd.GeoDataFrame(\n",
    "    [\n",
    "        {\n",
    "            \"adm0name\": entity,\n",
    "            \"name\": capital,\n",
    "            \"longitude\": long, \n",
    "            \"latitude\": lat,\n",
    "            \"geometry\": Point(long, lat),\n",
    "        }\n",
    "        for entity, (capital, long, lat) in extra_capitals.items()\n",
    "    ],\n",
    "    crs=\"epsg:4326\",\n",
    ").set_index(\"adm0name\")\n",
    "extra_capitals_gdf"
   ]
  },
  {
   "cell_type": "code",
   "execution_count": null,
   "id": "G-_9MuCqBGvi",
   "metadata": {
    "id": "G-_9MuCqBGvi"
   },
   "outputs": [],
   "source": [
    "places_gdf = gpd.read_file(\"https://naciscdn.org/naturalearth/110m/cultural/ne_110m_populated_places_simple.zip\")\n",
    "capitals_gdf = places_gdf[places_gdf[\"adm0cap\"] == 1].set_index(\"adm0name\")\n",
    "# force each nation to have exactly one capital\n",
    "capitals_gdf = capitals_gdf[~capitals_gdf[\"name\"].isin([\"Sucre\", \"Yamoussoukro\", \"Bloemfontein\", \"Pretoria\"])][[\"name\", \"latitude\", \"longitude\", \"geometry\"]]\n",
    "capitals_gdf = gpd.GeoDataFrame(pd.concat([capitals_gdf, extra_capitals_gdf]), crs=\"epsg:4326\")"
   ]
  },
  {
   "cell_type": "code",
   "execution_count": null,
   "id": "dfd10ad7-1769-4eee-ab48-9f565acff986",
   "metadata": {},
   "outputs": [],
   "source": [
    "capitals_gdf.tail(20)"
   ]
  },
  {
   "cell_type": "markdown",
   "id": "CVdjHrJ2IZWA",
   "metadata": {
    "id": "CVdjHrJ2IZWA"
   },
   "source": [
    "ideas:\n",
    "* pick a protracted conflict (e.g. Israel–Palestine)\n",
    "* pick a year or two\n",
    "* analyze the immediate effects of the collapse of the USSR on arms flows\n",
    "* analyze secondhand arms sales (in the context of the Cold War?) – how are arms recycled?\n",
    "* analyze the popularity and regionality of a particular arm (e.g. the Mi-17) over time"
   ]
  },
  {
   "cell_type": "markdown",
   "id": "d3455de0-39e8-4139-9ec9-934eeac69b52",
   "metadata": {},
   "source": [
    "## Introduction to graphs"
   ]
  },
  {
   "cell_type": "code",
   "execution_count": null,
   "id": "CW4aF-8sHBYk",
   "metadata": {
    "id": "CW4aF-8sHBYk"
   },
   "outputs": [],
   "source": [
    "flowmap_arms_df = arms_df[~arms_df[\"Supplier\"].isin(exclude_flows) & ~arms_df[\"Recipient\"].isin(exclude_flows)].rename(\n",
    "    columns={\n",
    "        \"Year of order\": \"order_year\",\n",
    "        \"Recipient\": \"recipient\",\n",
    "        \"Supplier\": \"supplier\",\n",
    "        \"SIPRI TIV for total order\": \"order_sipri_tiv\"\n",
    "    }\n",
    ")\n",
    "flowmap_arms_df[\"order_year\"] = flowmap_arms_df[\"order_year\"].astype(int)\n",
    "flowmap_arms_df = flowmap_arms_df[flowmap_arms_df[\"order_year\"] >= 1950]"
   ]
  },
  {
   "cell_type": "code",
   "execution_count": null,
   "id": "EmUj-trNX5X0",
   "metadata": {
    "colab": {
     "base_uri": "https://localhost:8080/",
     "height": 490
    },
    "id": "EmUj-trNX5X0",
    "outputId": "213fc416-20e4-4a53-fcc8-77566f634e51"
   },
   "outputs": [],
   "source": [
    "orders_by_year_df = flowmap_arms_df.groupby([\"order_year\", \"recipient\", \"supplier\"]).sum()[\"order_sipri_tiv\"]\n",
    "orders_by_year_df"
   ]
  },
  {
   "cell_type": "markdown",
   "id": "50ad357f-d4cf-49f8-89da-4a8a156c10eb",
   "metadata": {},
   "source": [
    "Let's visualize arms flows to and from the U.S. in a particular year by constructing a graph."
   ]
  },
  {
   "cell_type": "code",
   "execution_count": null,
   "id": "4f57d69f-e7ef-4db3-b969-8512cc1eed8b",
   "metadata": {},
   "outputs": [],
   "source": [
    "year = 1980\n",
    "country = \"United States\""
   ]
  },
  {
   "cell_type": "code",
   "execution_count": null,
   "id": "697e8e26-4694-4192-955f-f2ca190ea26d",
   "metadata": {},
   "outputs": [],
   "source": [
    "filtered_orders_df = orders_by_year_df[year].reset_index()\n",
    "filtered_orders_df = filtered_orders_df[\n",
    "    (filtered_orders_df[\"recipient\"] == \"United States\")\n",
    "    | (filtered_orders_df[\"supplier\"] == \"United States\")\n",
    "]\n",
    "filtered_orders_df.head(10)"
   ]
  },
  {
   "cell_type": "code",
   "execution_count": null,
   "id": "7be0fb62-0d96-4cd1-8de3-a1ec7d057222",
   "metadata": {},
   "outputs": [],
   "source": [
    "orders_graph = nx.DiGraph()\n",
    "\n",
    "for _, row in filtered_orders_df.iterrows():\n",
    "    orders_graph.add_edge(\n",
    "        row.supplier,\n",
    "        row.recipient,\n",
    "        weight=row.order_sipri_tiv,\n",
    "    )"
   ]
  },
  {
   "cell_type": "code",
   "execution_count": null,
   "id": "c918c850-f674-42ff-94ca-6dc739e31ac8",
   "metadata": {},
   "outputs": [],
   "source": [
    "orders_graph.edges"
   ]
  },
  {
   "cell_type": "code",
   "execution_count": null,
   "id": "c5c2bd8f-fd6f-49da-90ce-b5bbd572a696",
   "metadata": {},
   "outputs": [],
   "source": [
    "def cast_point(p):\n",
    "    return (p.xy[0][0], p.xy[1][0])"
   ]
  },
  {
   "cell_type": "code",
   "execution_count": null,
   "id": "9010cdcb-0917-4553-a384-3477824500f4",
   "metadata": {},
   "outputs": [],
   "source": [
    "fig, ax = plt.subplots(figsize=(20, 40))\n",
    "ax.axis(\"off\")\n",
    "places_gdf.plot(ax=ax, edgecolor=\"0.1\", linewidth=1, color=\"#e1f1fd\", alpha=0.5)\n",
    "\n",
    "pos = dict(capitals_gdf.geometry)\n",
    "\n",
    "for edge in orders_graph.edges(data='weight'):\n",
    "    if edge[0] in exclude_flows or edge[1] in exclude_flows:\n",
    "        continue\n",
    "\n",
    "    edge_pos = {\n",
    "        edge[0]: cast_point(pos[capitals_map.get(edge[0], edge[0])]),\n",
    "        edge[1]: cast_point(pos[capitals_map.get(edge[1], edge[1])]),\n",
    "    }\n",
    "    nx.draw_networkx_edges(orders_graph, edge_pos, edgelist=[edge], width=0.001 * edge[2], ax=ax, edge_color=\"red\")"
   ]
  },
  {
   "cell_type": "markdown",
   "id": "MKeY3WeQ7VbN",
   "metadata": {
    "id": "MKeY3WeQ7VbN"
   },
   "source": [
    "## Advanced flow visualizations with FlowmapBlue"
   ]
  },
  {
   "cell_type": "code",
   "execution_count": null,
   "id": "618a031d-8d8f-4ec7-9a55-2d12a4482869",
   "metadata": {},
   "outputs": [],
   "source": [
    "!pip install \"git+https://github.com/PUBPOL-2130/notebooks#egg=pubpol2130&subdirectory=lib\""
   ]
  },
  {
   "cell_type": "code",
   "execution_count": null,
   "id": "21cd7541-d5d8-4f9a-8b35-47f0f8741b7e",
   "metadata": {},
   "outputs": [],
   "source": [
    "from pubpol2130 import google_sheets_credentials, generate_flow_sheet"
   ]
  },
  {
   "cell_type": "code",
   "execution_count": null,
   "id": "79X9WVImGyj2",
   "metadata": {
    "colab": {
     "base_uri": "https://localhost:8080/",
     "height": 1000
    },
    "id": "79X9WVImGyj2",
    "outputId": "22f70e06-a9cb-44d1-b45a-84f4641753da"
   },
   "outputs": [],
   "source": [
    "flowmap_locations_df = pd.DataFrame(\n",
    "    [\n",
    "        {\n",
    "            \"id\": loc,\n",
    "            \"name\": loc,\n",
    "            \"lat\": capitals_gdf.loc[capitals_map.get(loc, loc), \"latitude\"],\n",
    "            \"lon\": capitals_gdf.loc[capitals_map.get(loc, loc), \"longitude\"],\n",
    "        }\n",
    "        for loc in set(flowmap_arms_df[\"supplier\"]) | set(flowmap_arms_df[\"recipient\"])\n",
    "    ]\n",
    ")\n",
    "flowmap_locations_df.head(5)"
   ]
  },
  {
   "cell_type": "markdown",
   "id": "e930579a-1390-4526-9f59-3a6fde0fc153",
   "metadata": {},
   "source": [
    "**(TODO: instructions for an API key here?)**"
   ]
  },
  {
   "cell_type": "code",
   "execution_count": null,
   "id": "d7a72881-9b68-42b4-8155-22ca29d7f387",
   "metadata": {},
   "outputs": [],
   "source": [
    "sheet_creds = google_sheets_credentials()"
   ]
  },
  {
   "cell_type": "code",
   "execution_count": null,
   "id": "W1gzHp_7GKGa",
   "metadata": {
    "colab": {
     "base_uri": "https://localhost:8080/"
    },
    "id": "W1gzHp_7GKGa",
    "outputId": "fc8ddb20-32db-460d-8ac3-c130f4849386"
   },
   "outputs": [],
   "source": [
    "flow_sheet = generate_flow_sheet(\n",
    "    sheet_creds=sheet_creds,\n",
    "    locations_df=flowmap_locations_df,\n",
    "    created_by_name=\"\",  # YOUR NAME HERE\n",
    "    created_by_email=\"\", # YOUR EMAIL HERE\n",
    "    data_source_name=\"SIPRI Arms Transfers Database\",\n",
    "    data_source_url=\"https://www.sipri.org/databases/armstransfers\",\n",
    "    incoming_tooltip=\"Inbound arms transfers (TIV)\",\n",
    "    outgoing_tooltip=\"Outbound arms transfers (TIV)\",\n",
    "    flow_tooltip=\"Arms transfer (TIV)\",\n",
    "    total_unit=\"TIVs\",\n",
    "    sheet_title=\"PUBPOL 2130: SIPRI arms transfers (orders over time)\",\n",
    "    flow_title=\"SIPRI Arms Transfers Database: orders over time\",\n",
    "    flows={\n",
    "        f\"Year: {year}\": year_df.reset_index().rename(columns={\n",
    "            \"supplier\": \"origin\",\n",
    "            \"recipient\": \"dest\",\n",
    "            \"order_sipri_tiv\": \"count\",\n",
    "        })\n",
    "        for year, year_df in orders_by_year_df.groupby(level=0)\n",
    "    }\n",
    ")"
   ]
  },
  {
   "cell_type": "code",
   "execution_count": null,
   "id": "0bc235d2-56d4-4009-8dd6-ecfce9909b3c",
   "metadata": {},
   "outputs": [],
   "source": [
    "print(flow_sheet.url)"
   ]
  },
  {
   "cell_type": "code",
   "execution_count": null,
   "id": "d1e048a9-4fc8-43fb-8bfa-3ecc2140c44d",
   "metadata": {
    "id": "tJ-KhN6nXRmT"
   },
   "outputs": [],
   "source": [
    "print(f\"https://www.flowmap.blue/{flow_sheet.url.split('/')[-1]}\")"
   ]
  }
 ],
 "metadata": {
  "colab": {
   "provenance": []
  },
  "kernelspec": {
   "display_name": "Python 3 (ipykernel)",
   "language": "python",
   "name": "python3"
  },
  "language_info": {
   "codemirror_mode": {
    "name": "ipython",
    "version": 3
   },
   "file_extension": ".py",
   "mimetype": "text/x-python",
   "name": "python",
   "nbconvert_exporter": "python",
   "pygments_lexer": "ipython3",
   "version": "3.10.2"
  }
 },
 "nbformat": 4,
 "nbformat_minor": 5
}
