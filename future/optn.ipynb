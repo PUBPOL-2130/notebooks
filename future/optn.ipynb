{
 "cells": [
  {
   "cell_type": "code",
   "execution_count": null,
   "id": "59b33a45-d87c-4e50-b36a-2712138d9961",
   "metadata": {},
   "outputs": [],
   "source": [
    "%config InlineBackend.figure_formats = [\"retina\"]"
   ]
  },
  {
   "cell_type": "code",
   "execution_count": null,
   "id": "6504e191-49ae-4e60-9ad9-85fcb8fc933c",
   "metadata": {},
   "outputs": [],
   "source": [
    "!pip install -q geopy seaborn statsmodels"
   ]
  },
  {
   "cell_type": "code",
   "execution_count": null,
   "id": "c958cb3f-3562-49a8-892f-8f6246a1c5ec",
   "metadata": {},
   "outputs": [],
   "source": [
    "import sqlite3\n",
    "\n",
    "import geopandas as gpd\n",
    "import matplotlib.pyplot as plt\n",
    "import numpy as np\n",
    "import pandas as pd\n",
    "import seaborn as sns\n",
    "\n",
    "from functools import partial\n",
    "\n",
    "from geopy import distance\n",
    "from shapely.geometry import Point"
   ]
  },
  {
   "cell_type": "code",
   "execution_count": null,
   "id": "b1fce928-c90e-4b41-a636-ecc275862d4a",
   "metadata": {},
   "outputs": [],
   "source": [
    "optn_df = pd.read_sql(\"SELECT * FROM optn\", sqlite3.connect(\"../../preprocessing/outputs/optn_reduced.sqlite3\"))\n",
    "optn_df[\"deceased_donor\"] = optn_df[\"deceased_donor\"].astype(bool)\n",
    "optn_df[\"succeeded_1_year\"] = optn_df[\"succeeded_1_year\"].astype(bool)"
   ]
  },
  {
   "cell_type": "code",
   "execution_count": null,
   "id": "ebebe1f2-f869-4aca-bb74-5bbb1312de84",
   "metadata": {},
   "outputs": [],
   "source": [
    "optn_df"
   ]
  },
  {
   "cell_type": "code",
   "execution_count": null,
   "id": "9c053096-aba6-4818-ac84-896f39db341a",
   "metadata": {},
   "outputs": [],
   "source": [
    "def transplant_distance_miles(row):\n",
    "    return distance.distance(\n",
    "        (row[\"donor_lat\"], row[\"donor_lon\"]),\n",
    "        (row[\"transplant_lat\"], row[\"transplant_lon\"])\n",
    "    ).miles"
   ]
  },
  {
   "cell_type": "code",
   "execution_count": null,
   "id": "11bfaa1b-1b1e-4809-a1df-21663bec7ff0",
   "metadata": {},
   "outputs": [],
   "source": [
    "optn_df[\"distance_miles\"] = optn_df.apply(transplant_distance_miles, axis=1)"
   ]
  },
  {
   "cell_type": "code",
   "execution_count": null,
   "id": "bc1d1872-e49e-4603-85f5-1c477f6d8865",
   "metadata": {},
   "outputs": [],
   "source": [
    "optn_df"
   ]
  },
  {
   "cell_type": "code",
   "execution_count": null,
   "id": "df1eaad0-1170-4b57-84e4-c84993e6a7f6",
   "metadata": {},
   "outputs": [],
   "source": [
    "organs = [\"Liver\", \"Kidney\"]"
   ]
  },
  {
   "cell_type": "code",
   "execution_count": null,
   "id": "fff47559-a69a-4f14-b0b2-20de74c5baf6",
   "metadata": {},
   "outputs": [],
   "source": [
    "optn_df[\"organ\"].value_counts()"
   ]
  },
  {
   "cell_type": "code",
   "execution_count": null,
   "id": "871099b7-0333-4998-927f-231f160c5d7f",
   "metadata": {},
   "outputs": [],
   "source": [
    "fig, ax = plt.subplots(figsize=(18, 6))\n",
    "for organ in organs:\n",
    "    optn_df[(optn_df[\"distance_miles\"] > 0) & (optn_df[\"organ\"] == organ.lower())].hist(\n",
    "        \"preservation_hours\", ax=ax, alpha=0.8, bins=range(0, 49), density=True, label=organ,\n",
    "    )\n",
    "\n",
    "ax.set_title(\"Cold ischemic time by organ\")\n",
    "ax.set_xlabel(\"Cold ischemic time (hours)\")\n",
    "ax.set_ylabel(\"Freq\")\n",
    "plt.legend()\n",
    "plt.show()"
   ]
  },
  {
   "cell_type": "code",
   "execution_count": null,
   "id": "8f1e9fcf-f1b4-429b-9be7-df0f84b2b72d",
   "metadata": {},
   "outputs": [],
   "source": [
    "for organ in organs:\n",
    "    fig, ax = plt.subplots(figsize=(12, 6))\n",
    "    optn_df[(optn_df[\"distance_miles\"] > 0) & (optn_df[\"organ\"] == organ.lower())].hist(\n",
    "        \"distance_miles\", ax=ax, bins=range(0, 2500, 50),density=True, label=organ,\n",
    "    )\n",
    "\n",
    "    ax.set_title(f\"{organ} transit distance\")\n",
    "    ax.set_xlabel(\"Distance (miles)\")\n",
    "    ax.set_ylabel(\"Freq\")\n",
    "    plt.show()"
   ]
  },
  {
   "cell_type": "code",
   "execution_count": null,
   "id": "2605a833-bf7a-4d68-8c0d-5c122debe394",
   "metadata": {},
   "outputs": [],
   "source": [
    "for organ in organs:\n",
    "    fig, ax = plt.subplots(figsize=(12, 6))\n",
    "    optn_df[(optn_df[\"distance_miles\"] > 0) & (optn_df[\"organ\"] == organ.lower())].plot.scatter(\n",
    "        y=\"preservation_hours\", x=\"distance_miles\", ax=ax, s=0.2,\n",
    "    )\n",
    "    ax.set_title(f\"{organ} cold ischemic time vs. transit distance\")\n",
    "    ax.set_xlabel(\"Distance (miles)\")\n",
    "    ax.set_ylabel(\"Cold ischemic time (hours)\")\n",
    "    plt.show()"
   ]
  },
  {
   "cell_type": "code",
   "execution_count": null,
   "id": "2d3058d5-02f1-43a9-a433-95c3b17d54d9",
   "metadata": {},
   "outputs": [],
   "source": [
    "for organ in organs:\n",
    "    joint_df = optn_df[\n",
    "        (optn_df[\"distance_miles\"] > 0) & \n",
    "        (optn_df[\"organ\"] == organ.lower()) &\n",
    "        (optn_df[\"distance_miles\"] <= 2000)\n",
    "    ]\n",
    "    ax = sns.kdeplot(\n",
    "        data=joint_df,\n",
    "        x=\"distance_miles\",\n",
    "        y=\"preservation_hours\",\n",
    "        fill=True,\n",
    "    )\n",
    "    ax.set_title(f\"{organ} cold ischemic time vs. transit distance\")\n",
    "    ax.set_xlabel(\"Distance (miles)\")\n",
    "    ax.set_ylabel(\"Cold ischemic time (hours)\")\n",
    "    plt.show()"
   ]
  },
  {
   "cell_type": "code",
   "execution_count": null,
   "id": "1eb8ebc4-71ff-4d43-8657-f51762e11063",
   "metadata": {},
   "outputs": [],
   "source": [
    "for organ in organs:\n",
    "    success_df = optn_df[\n",
    "        (optn_df[\"distance_miles\"] > 0) & \n",
    "        (optn_df[\"organ\"] == organ.lower())\n",
    "    ].sample(frac=0.2)\n",
    "    ax = sns.regplot(\n",
    "        data=success_df,\n",
    "        x=success_df[\"distance_miles\"],\n",
    "        y=success_df[\"succeeded_1_year\"],\n",
    "        logistic=True,\n",
    "    )\n",
    "    ax.set_title(f\"{organ} p(success) by transit distance\")\n",
    "    ax.set_xlabel(\"Distance (miles)\")\n",
    "    ax.set_ylabel(\"p(success)\")\n",
    "    plt.show()"
   ]
  },
  {
   "cell_type": "code",
   "execution_count": null,
   "id": "5ba448be-04c6-4a6a-8a63-fe5d65a91209",
   "metadata": {},
   "outputs": [],
   "source": [
    "for organ in organs:\n",
    "    success_df = optn_df[(optn_df[\"organ\"] == organ.lower())].sample(frac=0.2)\n",
    "    ax = sns.regplot(\n",
    "        data=success_df,\n",
    "        x=success_df[\"preservation_hours\"],\n",
    "        y=success_df[\"succeeded_1_year\"],\n",
    "        logistic=True,\n",
    "    )\n",
    "    ax.set_title(f\"{organ} p(success) by cold ischemic time\")\n",
    "    ax.set_xlabel(\"Cold ischemic time (hours)\")\n",
    "    ax.set_ylabel(\"p(success)\")\n",
    "    plt.show()"
   ]
  },
  {
   "cell_type": "markdown",
   "id": "5e9469b6-2115-4ba9-8142-ff50e6b7d35b",
   "metadata": {},
   "source": [
    "## Transplant volume by Census region/division"
   ]
  },
  {
   "cell_type": "code",
   "execution_count": null,
   "id": "71b3c522-1072-4616-8210-f8a218a14bd6",
   "metadata": {},
   "outputs": [],
   "source": [
    "region_gdf = gpd.read_file(\"https://www2.census.gov/geo/tiger/GENZ2018/shp/cb_2018_us_region_500k.zip\")"
   ]
  },
  {
   "cell_type": "code",
   "execution_count": null,
   "id": "e9aae327-8f0b-48ae-b9dc-c0702073111f",
   "metadata": {},
   "outputs": [],
   "source": [
    "division_gdf = gpd.read_file(\"https://www2.census.gov/geo/tiger/GENZ2018/shp/cb_2018_us_division_500k.zip\")"
   ]
  },
  {
   "cell_type": "code",
   "execution_count": null,
   "id": "b41f8110-9400-4874-ab5c-cbde54aab3ba",
   "metadata": {},
   "outputs": [],
   "source": [
    "def loc_to_label(row, label_gdf, prefix, cache=None):\n",
    "    coords = (row[f\"{prefix}_lon\"], row[f\"{prefix}_lat\"])\n",
    "    if cache and coords in cache:\n",
    "        return cache[coords]\n",
    "\n",
    "    p = Point(*coords)\n",
    "    matches = label_gdf.iloc[label_gdf.sindex.query(p, predicate=\"intersects\")]\n",
    "    if not len(matches):\n",
    "        return \"N/A\"\n",
    "    \n",
    "    assert len(matches) == 1\n",
    "    cache[coords] = matches.iloc[0][\"NAME\"]\n",
    "    return matches.iloc[0][\"NAME\"]"
   ]
  },
  {
   "cell_type": "code",
   "execution_count": null,
   "id": "1eb38e5f-4694-4b2f-abc6-5b64e08a77a9",
   "metadata": {},
   "outputs": [],
   "source": [
    "region_cache = {}\n",
    "optn_df[\"transplant_census_region\"] = optn_df.apply(\n",
    "    partial(loc_to_label, label_gdf=region_gdf, prefix=\"transplant\", cache=region_cache),\n",
    "    axis=1,\n",
    ")\n",
    "optn_df[\"donor_census_region\"] = optn_df.apply(\n",
    "    partial(loc_to_label, label_gdf=region_gdf, prefix=\"donor\", cache=region_cache),\n",
    "    axis=1,\n",
    ")"
   ]
  },
  {
   "cell_type": "code",
   "execution_count": null,
   "id": "c58c54e8-1248-4d69-8f44-8350db6af98a",
   "metadata": {},
   "outputs": [],
   "source": [
    "division_cache = {}\n",
    "optn_df[\"transplant_census_division\"] = optn_df.apply(\n",
    "    partial(loc_to_label, label_gdf=division_gdf, prefix=\"transplant\", cache=division_cache),\n",
    "    axis=1,\n",
    ")\n",
    "optn_df[\"donor_census_division\"] = optn_df.apply(\n",
    "    partial(loc_to_label, label_gdf=division_gdf, prefix=\"donor\", cache=division_cache),\n",
    "    axis=1,\n",
    ")"
   ]
  },
  {
   "cell_type": "code",
   "execution_count": null,
   "id": "f8c72489-4fe5-4f64-84d8-167e755eb3ec",
   "metadata": {},
   "outputs": [],
   "source": [
    "optn_df"
   ]
  },
  {
   "cell_type": "code",
   "execution_count": null,
   "id": "2b335b58-82f6-40c5-88d0-d92ec13bc522",
   "metadata": {},
   "outputs": [],
   "source": [
    "pd.crosstab(optn_df[\"transplant_census_region\"], optn_df[\"donor_census_region\"])"
   ]
  },
  {
   "cell_type": "code",
   "execution_count": null,
   "id": "663c6c0d-2fc7-4901-ab9c-2e8d2d6571cf",
   "metadata": {},
   "outputs": [],
   "source": [
    "pd.crosstab(optn_df[\"transplant_census_division\"], optn_df[\"donor_census_division\"])"
   ]
  }
 ],
 "metadata": {
  "kernelspec": {
   "display_name": "Python 3 (ipykernel)",
   "language": "python",
   "name": "python3"
  },
  "language_info": {
   "codemirror_mode": {
    "name": "ipython",
    "version": 3
   },
   "file_extension": ".py",
   "mimetype": "text/x-python",
   "name": "python",
   "nbconvert_exporter": "python",
   "pygments_lexer": "ipython3",
   "version": "3.12.9"
  }
 },
 "nbformat": 4,
 "nbformat_minor": 5
}
