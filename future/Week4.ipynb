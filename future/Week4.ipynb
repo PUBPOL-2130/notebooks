{
  "cells": [
    {
      "cell_type": "markdown",
      "metadata": {
        "id": "view-in-github",
        "colab_type": "text"
      },
      "source": [
        "<a href=\"https://colab.research.google.com/github/PUBPOL-2130/notebooks/blob/main/future/Week4.ipynb\" target=\"_parent\"><img src=\"https://colab.research.google.com/assets/colab-badge.svg\" alt=\"Open In Colab\"/></a>"
      ]
    },
    {
      "cell_type": "markdown",
      "id": "a3e587da-66c9-4a26-ac30-9b9d059d32b2",
      "metadata": {
        "id": "a3e587da-66c9-4a26-ac30-9b9d059d32b2"
      },
      "source": [
        "# Week 4: the Modifiable Areal Unit Problem (MAUP) and change over time"
      ]
    },
    {
      "cell_type": "code",
      "execution_count": null,
      "id": "3fe3f168-6f25-4f4d-831f-0cf4e43f1a42",
      "metadata": {
        "id": "3fe3f168-6f25-4f4d-831f-0cf4e43f1a42"
      },
      "outputs": [],
      "source": [
        "!pip -q install maup census"
      ]
    },
    {
      "cell_type": "code",
      "execution_count": null,
      "id": "0bd8a506-e499-47f1-8c69-aa6cf0c2a7af",
      "metadata": {
        "id": "0bd8a506-e499-47f1-8c69-aa6cf0c2a7af"
      },
      "outputs": [],
      "source": [
        "%config InlineBackend.figure_formats = [\"retina\"]\n",
        "\n",
        "import matplotlib.pyplot as plt\n",
        "import maup\n",
        "import pandas as pd\n",
        "import geopandas as gpd\n",
        "\n",
        "from math import isnan\n",
        "from census import Census\n",
        "from collections import Counter"
      ]
    },
    {
      "cell_type": "markdown",
      "id": "6f2f7271-2f84-4f18-b333-ee6d8d8d603c",
      "metadata": {
        "id": "6f2f7271-2f84-4f18-b333-ee6d8d8d603c"
      },
      "source": [
        "## Introduction to Census blocks"
      ]
    },
    {
      "cell_type": "code",
      "execution_count": null,
      "id": "ddfab922-8ccf-4915-a2d6-a7bb9dc9a308",
      "metadata": {
        "id": "ddfab922-8ccf-4915-a2d6-a7bb9dc9a308"
      },
      "outputs": [],
      "source": [
        "state_fips = \"36\"    # New York\n",
        "county_fips = \"047\"\n",
        "county_name = \"Kings County\"  # Also known as Brooklyn"
      ]
    },
    {
      "cell_type": "code",
      "execution_count": null,
      "id": "700b97dc-4361-405a-9b00-a172badd6474",
      "metadata": {
        "id": "700b97dc-4361-405a-9b00-a172badd6474"
      },
      "outputs": [],
      "source": [
        "census = Census(\"\", year=2020)"
      ]
    },
    {
      "cell_type": "code",
      "execution_count": null,
      "id": "1ff1fefe-21c4-480c-b5d9-baf45bd609f6",
      "metadata": {
        "id": "1ff1fefe-21c4-480c-b5d9-baf45bd609f6"
      },
      "outputs": [],
      "source": [
        "# now we load the block shapefile from the Census website\n",
        "block_gdf = gpd.read_file(f\"https://www2.census.gov/geo/tiger/TIGER2024/TABBLOCK20/tl_2024_{state_fips}_tabblock20.zip\")\n",
        "block_gdf = block_gdf.to_crs(\"EPSG:2263\").set_index(\"GEOID20\")"
      ]
    },
    {
      "cell_type": "code",
      "execution_count": null,
      "id": "5335ee25-54b7-40eb-a940-16c9f526768d",
      "metadata": {
        "id": "5335ee25-54b7-40eb-a940-16c9f526768d"
      },
      "outputs": [],
      "source": [
        "# and create a counties and blocks geodataframe\n",
        "county_block_gdf = block_gdf[block_gdf.COUNTYFP20 == county_fips]"
      ]
    },
    {
      "cell_type": "code",
      "execution_count": null,
      "id": "5f4356f7-c1a8-41a0-afb3-677c255a5e45",
      "metadata": {
        "id": "5f4356f7-c1a8-41a0-afb3-677c255a5e45"
      },
      "outputs": [],
      "source": [
        "# plot the blocks of our county, for visual inspection\n",
        "fig, ax = plt.subplots(figsize=(40, 20))\n",
        "ax.set_title(f\"{county_name} (blocks)\", fontsize=18)\n",
        "ax.axis('off')\n",
        "county_block_gdf.plot(ax=ax, edgecolor=\"0.1\", linewidth=1, color=\"#e1f1fd\")\n",
        "plt.axis('off')\n",
        "plt.show()"
      ]
    },
    {
      "cell_type": "markdown",
      "id": "76aed710-1e72-4731-aa2f-e275f1c8b8b9",
      "metadata": {
        "id": "76aed710-1e72-4731-aa2f-e275f1c8b8b9",
        "tags": []
      },
      "source": [
        "### Block-level population data"
      ]
    },
    {
      "cell_type": "code",
      "execution_count": null,
      "id": "c372daac-c15e-4969-b931-164c0c519e73",
      "metadata": {
        "id": "c372daac-c15e-4969-b931-164c0c519e73"
      },
      "outputs": [],
      "source": [
        "# P1 is the TOTPOP table from the Decennial Census -- let's pick out race columns\n",
        "p1_population_columns = {\n",
        "    \"P1_003N\": \"white\",\t      # White alone\n",
        "    \"P1_004N\": \"black\",\t      # Black or African American alone\n",
        "    \"P1_005N\": \"amin\",        # American Indian and Alaska Native alone\n",
        "    \"P1_006N\": \"asian\",       # Asian alone\n",
        "    \"P1_007N\": \"nhpi\",        # Native Hawaiian and Other Pacific Islander alone\n",
        "    \"P1_008N\": \"other\",       # Some Other Race alone\n",
        "    \"P1_009N\": \"two_or_more\", # Two or more races\n",
        "}"
      ]
    },
    {
      "cell_type": "code",
      "execution_count": null,
      "id": "7d5d450e-60f3-4027-96c1-9726f1d7bd47",
      "metadata": {
        "id": "7d5d450e-60f3-4027-96c1-9726f1d7bd47"
      },
      "outputs": [],
      "source": [
        "# census.pl is a wrapper around the Decennial (PL) API\n",
        "block_populations = census.pl.get(\n",
        "    (\"NAME\", *p1_population_columns),\n",
        "    geo={\n",
        "        \"for\": \"block:*\",\n",
        "        \"in\": f\"county:{county_fips} state:{state_fips}\",\n",
        "    }\n",
        ")"
      ]
    },
    {
      "cell_type": "code",
      "execution_count": null,
      "id": "2a9f8bf9-9933-496a-b0c9-b6aaa127e634",
      "metadata": {
        "id": "2a9f8bf9-9933-496a-b0c9-b6aaa127e634"
      },
      "outputs": [],
      "source": [
        "# now let's make sure we're using human-readable columns, as chosen above\n",
        "race_df = pd.DataFrame(block_populations).rename(\n",
        "    columns={\"NAME\": \"name\", **p1_population_columns}\n",
        ")"
      ]
    },
    {
      "cell_type": "code",
      "execution_count": null,
      "id": "0fb6e54d-f1dd-417a-a84c-06f132163a1b",
      "metadata": {
        "id": "0fb6e54d-f1dd-417a-a84c-06f132163a1b"
      },
      "outputs": [],
      "source": [
        "# this pulls those columns into a list called categories\n",
        "categories = list(p1_population_columns.values())"
      ]
    },
    {
      "cell_type": "code",
      "execution_count": null,
      "id": "60c0f49f-0052-4292-ab8c-8ba0254e3887",
      "metadata": {
        "id": "60c0f49f-0052-4292-ab8c-8ba0254e3887"
      },
      "outputs": [],
      "source": [
        "# this constructs the 15-digit complete GEOID by concatenating the pieces describing different hierarchical levels\n",
        "race_df[\"GEOID20\"] = (\n",
        "    race_df[\"state\"]\n",
        "    + race_df[\"county\"]\n",
        "    + race_df[\"tract\"]\n",
        "    + race_df[\"block\"]\n",
        ")\n",
        "race_df = race_df.set_index(\"GEOID20\").drop(columns=[\"name\", \"state\", \"county\", \"tract\", \"block\"])"
      ]
    },
    {
      "cell_type": "code",
      "execution_count": null,
      "id": "35714f4d-466b-4bee-b31b-37b14b54f2ee",
      "metadata": {
        "id": "35714f4d-466b-4bee-b31b-37b14b54f2ee"
      },
      "outputs": [],
      "source": [
        "# here we create a new column called \"total\" that sums over the race categories\n",
        "race_df[\"total\"] = race_df[categories].sum(axis=1)"
      ]
    },
    {
      "cell_type": "code",
      "execution_count": null,
      "id": "e030a0ba-cdbb-4b6c-a3ba-e3afa26e7688",
      "metadata": {
        "id": "e030a0ba-cdbb-4b6c-a3ba-e3afa26e7688"
      },
      "outputs": [],
      "source": [
        "# let's see the dataframe\n",
        "race_df"
      ]
    },
    {
      "cell_type": "code",
      "execution_count": null,
      "id": "5bada678-8bf6-4659-aed2-ffd9db9ae02e",
      "metadata": {
        "id": "5bada678-8bf6-4659-aed2-ffd9db9ae02e"
      },
      "outputs": [],
      "source": [
        "# now we'll create a copy of the dataframe that is based on percents rather than counts\n",
        "race_with_pcts_df = race_df.copy()\n",
        "\n",
        "for col in categories:\n",
        "    race_with_pcts_df[f\"{col}_pct\"] = (100 * race_df[col] / race_df[\"total\"]).fillna(0)"
      ]
    },
    {
      "cell_type": "code",
      "execution_count": null,
      "id": "3e375777-1118-4086-be69-ecc9c5afd5a7",
      "metadata": {
        "id": "3e375777-1118-4086-be69-ecc9c5afd5a7"
      },
      "outputs": [],
      "source": [
        "race_with_pcts_df"
      ]
    },
    {
      "cell_type": "markdown",
      "id": "8GaTDipuR1JO",
      "metadata": {
        "id": "8GaTDipuR1JO"
      },
      "source": [
        "That view shows that some blocks have zero people, while others have hundreds.  Let's get a sense of the largest and smallest."
      ]
    },
    {
      "cell_type": "code",
      "execution_count": null,
      "id": "Oq8_h4rgPl6r",
      "metadata": {
        "id": "Oq8_h4rgPl6r"
      },
      "outputs": [],
      "source": [
        "# sorts by total population, largest to smallest\n",
        "race_with_pcts_df.sort_values(\"total\",ascending=False)"
      ]
    },
    {
      "cell_type": "code",
      "execution_count": null,
      "id": "424ca256-7227-42e3-a07d-d90386db6906",
      "metadata": {
        "id": "424ca256-7227-42e3-a07d-d90386db6906"
      },
      "outputs": [],
      "source": [
        "# now we'll create a geodataframe with race and filter out the zero-population blocks\n",
        "county_block_with_race_gdf = county_block_gdf.join(race_with_pcts_df)\n",
        "county_block_with_race_populated_gdf = county_block_with_race_gdf[county_block_with_race_gdf.total > 0]"
      ]
    },
    {
      "cell_type": "code",
      "execution_count": null,
      "id": "4027a70b-3108-40d2-95f6-fae35007d401",
      "metadata": {
        "id": "4027a70b-3108-40d2-95f6-fae35007d401"
      },
      "outputs": [],
      "source": [
        "# here are some choropleth style parameters for the plots below\n",
        "choropleth_style = dict(\n",
        "    edgecolor=\"0.1\",\n",
        "    linewidth=0.2,\n",
        "    cmap=\"Blues\",\n",
        "    legend=True,\n",
        "    legend_kwds={'shrink': 0.4},\n",
        ")"
      ]
    },
    {
      "cell_type": "code",
      "execution_count": null,
      "id": "5dfda296-61ea-47f8-ae79-939511803f72",
      "metadata": {
        "id": "5dfda296-61ea-47f8-ae79-939511803f72"
      },
      "outputs": [],
      "source": [
        "fig, ax = plt.subplots(figsize=(40, 20))\n",
        "ax.axis('off')\n",
        "ax.set_title(f\"{county_name} BPOP/TOTPOP (block level)\", fontsize=18)\n",
        "county_block_with_race_populated_gdf.plot(\n",
        "    ax=ax,\n",
        "    column=\"black_pct\",\n",
        "    vmin=0,\n",
        "    vmax=100,\n",
        "    **choropleth_style,\n",
        ")\n",
        "plt.show()"
      ]
    },
    {
      "cell_type": "markdown",
      "id": "211d1ec8-981e-4c62-afe9-41741f19e773",
      "metadata": {
        "id": "211d1ec8-981e-4c62-afe9-41741f19e773"
      },
      "source": [
        "## Scale effects: blocks vs. tracts"
      ]
    },
    {
      "cell_type": "code",
      "execution_count": null,
      "id": "287ea8ef-9631-42b1-a943-2104e09cb7c6",
      "metadata": {
        "id": "287ea8ef-9631-42b1-a943-2104e09cb7c6"
      },
      "outputs": [],
      "source": [
        "tract_gdf = gpd.read_file(f\"https://www2.census.gov/geo/tiger/TIGER2024/TRACT/tl_2024_{state_fips}_tract.zip\")\n",
        "tract_gdf = tract_gdf.to_crs(\"EPSG:2263\").set_index(\"GEOID\")"
      ]
    },
    {
      "cell_type": "code",
      "execution_count": null,
      "id": "02c56390-f696-49ba-8d6f-e24e736af0b3",
      "metadata": {
        "id": "02c56390-f696-49ba-8d6f-e24e736af0b3"
      },
      "outputs": [],
      "source": [
        "county_tract_gdf = tract_gdf[tract_gdf.COUNTYFP == county_fips]"
      ]
    },
    {
      "cell_type": "markdown",
      "id": "n47Uf93jUVFM",
      "metadata": {
        "id": "n47Uf93jUVFM"
      },
      "source": [
        "We know that tracts are larger, and now let's draw the map to see how much."
      ]
    },
    {
      "cell_type": "code",
      "execution_count": null,
      "id": "37b474f4-b0e7-4a74-b633-53586ada7e46",
      "metadata": {
        "id": "37b474f4-b0e7-4a74-b633-53586ada7e46"
      },
      "outputs": [],
      "source": [
        "fig, ax = plt.subplots(figsize=(40, 20))\n",
        "ax.axis('off')\n",
        "ax.set_title(f\"{county_name} (tracts)\", fontsize=18)\n",
        "county_tract_gdf.plot(ax=ax, edgecolor=\"0.1\", linewidth=1, color=\"#e1f1fd\")\n",
        "plt.axis('off')\n",
        "plt.show()"
      ]
    },
    {
      "cell_type": "code",
      "execution_count": null,
      "id": "9002c30e-4323-4c2d-a520-6a923e117264",
      "metadata": {
        "id": "9002c30e-4323-4c2d-a520-6a923e117264"
      },
      "outputs": [],
      "source": [
        "# just to see what is in the dataframe, here's the first row.\n",
        "county_tract_gdf.iloc[0]"
      ]
    },
    {
      "cell_type": "code",
      "execution_count": null,
      "id": "1a6be1b8-b4e2-4c5d-ae1a-d51804a69361",
      "metadata": {
        "id": "1a6be1b8-b4e2-4c5d-ae1a-d51804a69361"
      },
      "outputs": [],
      "source": [
        "# to get the tract GEOID, we take digits 1-10 of the full 15-digit identifier\n",
        "county_block_with_race_gdf[\"tract\"] = county_block_with_race_gdf.index.str.slice(0, 11)"
      ]
    },
    {
      "cell_type": "code",
      "execution_count": null,
      "id": "944cd61f-ed15-415f-90ec-e2aebe6dc27f",
      "metadata": {
        "id": "944cd61f-ed15-415f-90ec-e2aebe6dc27f"
      },
      "outputs": [],
      "source": [
        "# now we'll group the block data by tract, to produce tract totals\n",
        "county_tract_race_df = county_block_with_race_gdf[[*categories, \"total\", \"tract\"]].groupby(\"tract\").sum()\n",
        "county_tract_race_df"
      ]
    },
    {
      "cell_type": "code",
      "execution_count": null,
      "id": "b424c153-e9f8-4c2e-a348-2e1ce09668b1",
      "metadata": {
        "id": "b424c153-e9f8-4c2e-a348-2e1ce09668b1"
      },
      "outputs": [],
      "source": [
        "# joining the race data, at the tract level\n",
        "county_tract_with_race_gdf = county_tract_gdf.join(county_tract_race_df)\n",
        "county_tract_with_race_gdf"
      ]
    },
    {
      "cell_type": "code",
      "execution_count": null,
      "id": "988730cd-9e9a-46f8-88bc-ebf10ee81287",
      "metadata": {
        "id": "988730cd-9e9a-46f8-88bc-ebf10ee81287"
      },
      "outputs": [],
      "source": [
        "# recomputing percents at the tract level\n",
        "for col in categories:\n",
        "    county_tract_with_race_gdf[f\"{col}_pct\"] = (100 * county_tract_with_race_gdf[col] / county_tract_with_race_gdf[\"total\"]).fillna(0)"
      ]
    },
    {
      "cell_type": "markdown",
      "id": "3NJuaQXQVFqC",
      "metadata": {
        "id": "3NJuaQXQVFqC"
      },
      "source": [
        "Now when we plot the tract-level choropleth, we expect smoother colors because some of the variation gets averaged out."
      ]
    },
    {
      "cell_type": "code",
      "execution_count": null,
      "id": "d891e440-250d-46f3-95fe-e6fdc862940d",
      "metadata": {
        "id": "d891e440-250d-46f3-95fe-e6fdc862940d"
      },
      "outputs": [],
      "source": [
        "fig, ax = plt.subplots(figsize=(40, 20))\n",
        "ax.axis('off')\n",
        "ax.set_title(f\"{county_name} Black population % (tracts)\", fontsize=18)\n",
        "county_tract_with_race_gdf.plot(\n",
        "    ax=ax,\n",
        "    column=\"asian_pct\",\n",
        "    vmin=0,\n",
        "    vmax=100,\n",
        "    **choropleth_style,\n",
        ")\n",
        "plt.show()"
      ]
    },
    {
      "cell_type": "markdown",
      "id": "T0RidGErV0Xm",
      "metadata": {
        "id": "T0RidGErV0Xm"
      },
      "source": [
        "Now let's look at the race groups one by one.  The color scale is the same for the blocks and tracts, but it's different from one group to another -- the darkest color is the highest level observed.  "
      ]
    },
    {
      "cell_type": "code",
      "execution_count": null,
      "id": "0a52e245-87bc-42f4-96fc-2a55c7c3546f",
      "metadata": {
        "id": "0a52e245-87bc-42f4-96fc-2a55c7c3546f"
      },
      "outputs": [],
      "source": [
        "for col in categories:\n",
        "    fig, axes = plt.subplots(1, 2, figsize=(15, 8))\n",
        "    axes[0].axis('off')\n",
        "    axes[0].set_title(f\"{col} % (blocks)\", fontsize=18)\n",
        "\n",
        "    vmax = county_block_with_race_populated_gdf[f\"{col}_pct\"].quantile(.999)\n",
        "\n",
        "    county_block_with_race_populated_gdf.plot(\n",
        "        ax=axes[0],\n",
        "        column=f\"{col}_pct\",\n",
        "        vmin=0,\n",
        "        vmax=vmax,\n",
        "        **choropleth_style,\n",
        "    )\n",
        "\n",
        "    axes[1].axis('off')\n",
        "    axes[1].set_title(f\"{col} % (tracts)\", fontsize=18)\n",
        "    county_tract_with_race_gdf.plot(\n",
        "        ax=axes[1],\n",
        "        column=f\"{col}_pct\",\n",
        "        vmin=0,\n",
        "        vmax=vmax,\n",
        "        **choropleth_style,\n",
        "    )\n",
        "\n",
        "    plt.show()"
      ]
    },
    {
      "cell_type": "markdown",
      "id": "0fc2bedb-6476-439d-a3c0-2374cf2b638c",
      "metadata": {
        "id": "0fc2bedb-6476-439d-a3c0-2374cf2b638c"
      },
      "source": [
        "## Introduction to the American Community Survey (ACS)"
      ]
    },
    {
      "cell_type": "markdown",
      "id": "9pVIbTyqWihV",
      "metadata": {
        "id": "9pVIbTyqWihV"
      },
      "source": [
        "Now we'll move to the ACS, which has much richer socio-economic variables.  We'll start by making a tract-level dataframe that includes the median age and the median income."
      ]
    },
    {
      "cell_type": "code",
      "execution_count": null,
      "id": "cc8842e8-1974-47a1-934c-0461bca12e75",
      "metadata": {
        "id": "cc8842e8-1974-47a1-934c-0461bca12e75"
      },
      "outputs": [],
      "source": [
        "# Estimate!!Median age --!!Total:\n",
        "median_age_column = \"B01002_001E\"\n",
        "\n",
        "# Estimate!!Median income in the past 12 months --!!Total:\n",
        "median_income_column = \"B06011_001E\""
      ]
    },
    {
      "cell_type": "code",
      "execution_count": null,
      "id": "beff0e24-8275-405f-bf9a-aca5e0f3b68b",
      "metadata": {
        "id": "beff0e24-8275-405f-bf9a-aca5e0f3b68b"
      },
      "outputs": [],
      "source": [
        "county_tract_acs_df = pd.DataFrame(\n",
        "    census.acs5.get(\n",
        "        (median_age_column, median_income_column),\n",
        "        geo={\n",
        "            \"for\": \"tract:*\",\n",
        "            \"in\": f\"county:{county_fips} state:{state_fips}\",\n",
        "        },\n",
        "        year=2023,\n",
        "    )\n",
        ")\n",
        "county_tract_acs_df[\"GEOID20\"] = (\n",
        "    county_tract_acs_df[\"state\"]\n",
        "    + county_tract_acs_df[\"county\"]\n",
        "    + county_tract_acs_df[\"tract\"]\n",
        ")\n",
        "county_tract_acs_df = county_tract_acs_df.set_index(\"GEOID20\").drop(\n",
        "    columns=[\"state\", \"county\", \"tract\"]\n",
        ").rename(\n",
        "    columns={\n",
        "        median_age_column: \"median_age\",\n",
        "        median_income_column: \"median_income\",\n",
        "    }\n",
        ")\n",
        "county_tract_acs_df"
      ]
    },
    {
      "cell_type": "markdown",
      "id": "2SN8PDqPXAon",
      "metadata": {
        "id": "2SN8PDqPXAon"
      },
      "source": [
        "Something very strange has happened!  there's a tract with negative values in the millions.  This is sometimes called a \"sentinel value,\" which is dummy data used to flag when something doesn't fit.  (It's an alternative to `NaN`, or \"not a number.\")"
      ]
    },
    {
      "cell_type": "code",
      "execution_count": null,
      "id": "vsJI8OtuXI30",
      "metadata": {
        "id": "vsJI8OtuXI30"
      },
      "outputs": [],
      "source": [
        "# how many of these are negative?\n",
        "print('median age negative in',(county_tract_acs_df[\"median_age\"]<0).sum(),'tracts')\n",
        "print('median income negative in',(county_tract_acs_df[\"median_income\"]<0).sum(),'tracts')"
      ]
    },
    {
      "cell_type": "code",
      "execution_count": null,
      "id": "b3747514-5ff2-4d93-85a9-f1bc1b2ae4c7",
      "metadata": {
        "id": "b3747514-5ff2-4d93-85a9-f1bc1b2ae4c7"
      },
      "outputs": [],
      "source": [
        "county_tract_with_acs_gdf = county_tract_with_race_gdf.join(county_tract_acs_df)"
      ]
    },
    {
      "cell_type": "code",
      "execution_count": null,
      "id": "f929b569-834f-4869-8b4d-e8a29a78f474",
      "metadata": {
        "id": "f929b569-834f-4869-8b4d-e8a29a78f474"
      },
      "outputs": [],
      "source": [
        "# we'll use the vmin parameter to avoid plotting those negatives\n",
        "\n",
        "fig, axes = plt.subplots(1, 2, figsize=(15, 8))\n",
        "axes[0].axis('off')\n",
        "axes[0].set_title(f\"{county_name}: median age\", fontsize=18)\n",
        "\n",
        "county_tract_with_acs_gdf.plot(\n",
        "    ax=axes[0],\n",
        "    column=\"median_age\",\n",
        "    **choropleth_style,\n",
        "    vmin=0,\n",
        ")\n",
        "\n",
        "axes[1].axis('off')\n",
        "axes[1].set_title(f\"{county_name}: median income ($)\", fontsize=18)\n",
        "county_tract_with_acs_gdf.plot(\n",
        "    ax=axes[1],\n",
        "    column=\"median_income\",\n",
        "    **choropleth_style,\n",
        "    vmin=0,\n",
        ")\n",
        "\n",
        "plt.show()"
      ]
    },
    {
      "cell_type": "markdown",
      "id": "ed047c8d-5b87-4025-ab50-b379e7cd62ff",
      "metadata": {
        "id": "ed047c8d-5b87-4025-ab50-b379e7cd62ff"
      },
      "source": [
        "## Introduction to precincts"
      ]
    },
    {
      "cell_type": "markdown",
      "id": "MXPxiG9OeKkP",
      "metadata": {
        "id": "MXPxiG9OeKkP"
      },
      "source": [
        "Here, we'll pull in a precinct shapefile.  (Currently sourced to Ben Rosenblatt, [link](https://www.benjrosenblatt.com/new-york-2022-election-district-level-data).)  The point of using precincts is to be able to join election results."
      ]
    },
    {
      "cell_type": "code",
      "execution_count": null,
      "id": "aaf3679f-38ba-45bc-9c19-4154cde0f4e4",
      "metadata": {
        "id": "aaf3679f-38ba-45bc-9c19-4154cde0f4e4"
      },
      "outputs": [],
      "source": [
        "!curl -OL https://github.com/PUBPOL-2130/notebooks/raw/refs/heads/main/data/week3-NY-precincts.zip\n",
        "!unzip week3-NY-precincts.zip"
      ]
    },
    {
      "cell_type": "code",
      "execution_count": null,
      "id": "87d0c43c-13b1-44c1-b63d-3e6b839c4565",
      "metadata": {
        "id": "87d0c43c-13b1-44c1-b63d-3e6b839c4565"
      },
      "outputs": [],
      "source": [
        "ny_precinct_gdf = gpd.read_file(\"week3-NY-precincts\")"
      ]
    },
    {
      "cell_type": "code",
      "execution_count": null,
      "id": "b047577d-5238-4cce-823c-67623315d2e5",
      "metadata": {
        "id": "b047577d-5238-4cce-823c-67623315d2e5"
      },
      "outputs": [],
      "source": [
        "ny_precinct_gdf"
      ]
    },
    {
      "cell_type": "code",
      "execution_count": null,
      "id": "d91c0d98-f417-41a0-a1a0-07b9eb955a7b",
      "metadata": {
        "id": "d91c0d98-f417-41a0-a1a0-07b9eb955a7b"
      },
      "outputs": [],
      "source": [
        "sen_columns = [col for col in ny_precinct_gdf if col.startswith(\"USSen_\")]"
      ]
    },
    {
      "cell_type": "code",
      "execution_count": null,
      "id": "819bf4f5-6a5c-4c47-8d66-b79d9d740ace",
      "metadata": {
        "id": "819bf4f5-6a5c-4c47-8d66-b79d9d740ace"
      },
      "outputs": [],
      "source": [
        "ny_precinct_gdf[\"USSen_total\"] = ny_precinct_gdf[sen_columns].sum(axis=1)\n",
        "sen_columns.append(\"USSen_total\")"
      ]
    },
    {
      "cell_type": "code",
      "execution_count": null,
      "id": "1d6daddc-86bc-4562-b367-1753ac72c20a",
      "metadata": {
        "id": "1d6daddc-86bc-4562-b367-1753ac72c20a"
      },
      "outputs": [],
      "source": [
        "# there was an invalid geometry error in this shapefile, and this was a quick fix\n",
        "county_precinct_gdf = ny_precinct_gdf[ny_precinct_gdf.CountyFP == county_fips]\n",
        "county_precinct_gdf.geometry = county_precinct_gdf.geometry.buffer(0)"
      ]
    },
    {
      "cell_type": "markdown",
      "id": "H5cMib9WfrLJ",
      "metadata": {
        "id": "H5cMib9WfrLJ"
      },
      "source": [
        "OK, now we'll take a look at the votes by party.  Chuck Schumer ran on both the Dem and Working Parties line; Joe Pinion challenged him as both a Republican and Constitutional Party nominee; and Diane Sare picked up a handful of votes on the LaRouche Party line.  (Look up Lyndon LaRouche, it's quite a story!)"
      ]
    },
    {
      "cell_type": "code",
      "execution_count": null,
      "id": "aee2964b-1fca-45c6-91a8-f74f2bdb8ab8",
      "metadata": {
        "id": "aee2964b-1fca-45c6-91a8-f74f2bdb8ab8"
      },
      "outputs": [],
      "source": [
        "county_precinct_gdf"
      ]
    },
    {
      "cell_type": "code",
      "execution_count": null,
      "id": "17c34363-a20b-4c64-ad07-c8bc813fdc0f",
      "metadata": {
        "id": "17c34363-a20b-4c64-ad07-c8bc813fdc0f"
      },
      "outputs": [],
      "source": [
        "fig, ax = plt.subplots(figsize=(40, 20))\n",
        "ax.set_title(f\"{county_name} (precincts)\", fontsize=18)\n",
        "ax.axis('off')\n",
        "county_precinct_gdf.plot(ax=ax, edgecolor=\"0.1\", linewidth=1, color=\"#e1f1fd\")\n",
        "plt.axis('off')\n",
        "plt.show()"
      ]
    },
    {
      "cell_type": "markdown",
      "id": "gIHLtsQHg42j",
      "metadata": {
        "id": "gIHLtsQHg42j"
      },
      "source": [
        "The MAUP package will let us query the blocks and figure out what precinct they are in.  That way, we can take stats on the blocks and aggregate them up to precincts -- this will let us compare race to voting."
      ]
    },
    {
      "cell_type": "code",
      "execution_count": null,
      "id": "2268462e-4b33-45d2-8d5c-321656eaab05",
      "metadata": {
        "id": "2268462e-4b33-45d2-8d5c-321656eaab05"
      },
      "outputs": [],
      "source": [
        "# maup.assign will take each block and figure out what precinct it is in\n",
        "block_to_precinct_assignment = maup.assign(county_block_gdf, county_precinct_gdf)\n",
        "block_to_precinct_assignment = block_to_precinct_assignment[~pd.isna(block_to_precinct_assignment)].astype(int)\n",
        "block_to_precinct_assignment"
      ]
    },
    {
      "cell_type": "code",
      "execution_count": null,
      "id": "44f1ac87-434c-4be8-983f-6967a7c5d019",
      "metadata": {
        "id": "44f1ac87-434c-4be8-983f-6967a7c5d019"
      },
      "outputs": [],
      "source": [
        "pop_weights = (\n",
        "    county_block_with_race_populated_gdf[\"total\"]\n",
        "    / block_to_precinct_assignment.map(county_block_with_race_populated_gdf[\"total\"].groupby(block_to_precinct_assignment).sum())\n",
        ").fillna(0)"
      ]
    },
    {
      "cell_type": "code",
      "execution_count": null,
      "id": "9f744cb0-0be1-49fa-b6f3-a0527ea03de3",
      "metadata": {
        "id": "9f744cb0-0be1-49fa-b6f3-a0527ea03de3"
      },
      "outputs": [],
      "source": [
        "pop_weights"
      ]
    },
    {
      "cell_type": "code",
      "execution_count": null,
      "id": "9313e919-a49e-4747-88ff-4c10174cc639",
      "metadata": {
        "id": "9313e919-a49e-4747-88ff-4c10174cc639"
      },
      "outputs": [],
      "source": [
        "aggregated_votes_df = maup.prorate(block_to_precinct_assignment, county_precinct_gdf[sen_columns], weights=pop_weights)"
      ]
    },
    {
      "cell_type": "code",
      "execution_count": null,
      "id": "d9801d8f-5dbc-4dfc-aaa8-5cbe519c78cb",
      "metadata": {
        "id": "d9801d8f-5dbc-4dfc-aaa8-5cbe519c78cb"
      },
      "outputs": [],
      "source": [
        "aggregated_votes_df"
      ]
    },
    {
      "cell_type": "code",
      "execution_count": null,
      "id": "8b633e35-97f4-4be0-89ae-ca05f5d8eb7c",
      "metadata": {
        "id": "8b633e35-97f4-4be0-89ae-ca05f5d8eb7c"
      },
      "outputs": [],
      "source": [
        "county_block_with_election_gdf = county_block_with_race_gdf.join(aggregated_votes_df[[\"USSen_DEM\",\"USSen_WOR\",\"USSen_total\"]])\n",
        "county_block_with_election_gdf[\"sen_demwor_pct\"] = (\n",
        "    100 * (county_block_with_election_gdf[\"USSen_DEM\"]+county_block_with_election_gdf[\"USSen_WOR\"])\n",
        "    / county_block_with_election_gdf[\"USSen_total\"]\n",
        ")"
      ]
    },
    {
      "cell_type": "code",
      "execution_count": null,
      "id": "77f7fa9d-bf80-4f86-b1ab-18e58d9e445c",
      "metadata": {
        "id": "77f7fa9d-bf80-4f86-b1ab-18e58d9e445c"
      },
      "outputs": [],
      "source": [
        "fig, ax = plt.subplots(figsize=(20, 10))\n",
        "ax.axis('off')\n",
        "ax.set_title(f\"{county_name} 2022 Senate Dem+WorkingFam % (disaggregated to blocks)\", fontsize=18)\n",
        "county_block_with_election_gdf[~pd.isna(county_block_with_election_gdf[\"sen_demwor_pct\"])].plot(\n",
        "    ax=ax,\n",
        "    column=\"sen_demwor_pct\",\n",
        "    vmin=0,\n",
        "    vmax=100,\n",
        "    **choropleth_style,\n",
        ")\n",
        "county_precinct_gdf.boundary.plot(\n",
        "    ax=ax,\n",
        "    edgecolor=\"0.1\",\n",
        "    linewidth=1.5,\n",
        ")\n",
        "plt.show()"
      ]
    },
    {
      "cell_type": "code",
      "execution_count": null,
      "id": "9af7240f-27a9-4b70-a9ec-93b655eb06bd",
      "metadata": {
        "id": "9af7240f-27a9-4b70-a9ec-93b655eb06bd"
      },
      "outputs": [],
      "source": [
        "aggregated_votes_df[\"tract\"] = aggregated_votes_df.index.str.slice(0, 11)"
      ]
    },
    {
      "cell_type": "code",
      "execution_count": null,
      "id": "76028dbf-a13c-45ea-9616-d762bd701a59",
      "metadata": {
        "id": "76028dbf-a13c-45ea-9616-d762bd701a59"
      },
      "outputs": [],
      "source": [
        "aggregated_tract_votes_df = aggregated_votes_df.groupby(\"tract\")[sen_columns].sum()\n",
        "aggregated_tract_votes_df"
      ]
    },
    {
      "cell_type": "code",
      "execution_count": null,
      "id": "8033f3f3-9c73-47ab-913e-b645b4b33667",
      "metadata": {
        "id": "8033f3f3-9c73-47ab-913e-b645b4b33667"
      },
      "outputs": [],
      "source": [
        "aggregated_tract_votes_df[\"sen_demwor_pct\"] = (\n",
        "    100 * aggregated_tract_votes_df[[\"USSen_DEM\",\"USSen_WOR\"]].sum(axis=1)\n",
        "    / aggregated_tract_votes_df[\"USSen_total\"]\n",
        ")"
      ]
    },
    {
      "cell_type": "code",
      "execution_count": null,
      "id": "91d43d66-5f06-40d6-b219-3ff4ffa47c1b",
      "metadata": {
        "id": "91d43d66-5f06-40d6-b219-3ff4ffa47c1b"
      },
      "outputs": [],
      "source": [
        "fig, ax = plt.subplots(figsize=(20, 10))\n",
        "ax.axis('off')\n",
        "ax.set_title(f\"{county_name} 2022 Senate Dem+WorkingFam % (aggregated up to tracts)\", fontsize=18)\n",
        "county_tract_gdf.join(aggregated_tract_votes_df).plot(\n",
        "    ax=ax,\n",
        "    column=\"sen_demwor_pct\",\n",
        "    vmin=0,\n",
        "    vmax=100,\n",
        "    **choropleth_style,\n",
        ")\n",
        "plt.show()"
      ]
    },
    {
      "cell_type": "markdown",
      "id": "_KesYI19oOGU",
      "metadata": {
        "id": "_KesYI19oOGU"
      },
      "source": [
        "Kind of interesting that the southern half of Brooklyn doesn't seem to have supported Chuck Schumer.  Let's see if that's predicted by age or income."
      ]
    },
    {
      "cell_type": "code",
      "execution_count": null,
      "id": "40f77b93-749f-472c-b618-3915035feb92",
      "metadata": {
        "id": "40f77b93-749f-472c-b618-3915035feb92"
      },
      "outputs": [],
      "source": [
        "fig, axes = plt.subplots(1, 3, figsize=(15, 8))\n",
        "axes[0].axis('off')\n",
        "axes[0].set_title(f\"{county_name}: median age\", fontsize=10)\n",
        "\n",
        "county_tract_with_acs_gdf.plot(\n",
        "    ax=axes[0],\n",
        "    column=\"median_age\",\n",
        "    vmin=0,\n",
        "    **choropleth_style,\n",
        ")\n",
        "\n",
        "axes[1].axis('off')\n",
        "axes[1].set_title(f\"{county_name}: median income ($)\", fontsize=10)\n",
        "county_tract_with_acs_gdf.plot(\n",
        "    ax=axes[1],\n",
        "    column=\"median_income\",\n",
        "    vmin=0,\n",
        "    **choropleth_style,\n",
        ")\n",
        "\n",
        "axes[2].axis('off')\n",
        "axes[2].set_title(f\"{county_name}: 2022 Senate Dem+WF %\", fontsize=10)\n",
        "county_tract_gdf.join(aggregated_tract_votes_df).plot(\n",
        "    ax=axes[2],\n",
        "    column=\"sen_demwor_pct\",\n",
        "    **choropleth_style,\n",
        ")\n",
        "plt.show()"
      ]
    },
    {
      "cell_type": "markdown",
      "id": "ZPXyRLeroXvk",
      "metadata": {
        "id": "ZPXyRLeroXvk"
      },
      "source": [
        "Not really -- how about race?"
      ]
    },
    {
      "cell_type": "code",
      "execution_count": null,
      "id": "LKZIx7Von5Ie",
      "metadata": {
        "id": "LKZIx7Von5Ie"
      },
      "outputs": [],
      "source": [
        "fig, axes = plt.subplots(1, 2, figsize=(15, 8))\n",
        "axes[0].axis('off')\n",
        "axes[0].set_title(f\"{county_name}: WPOP/TOTPOP\", fontsize=10)\n",
        "\n",
        "county_tract_with_acs_gdf.plot(\n",
        "    ax=axes[0],\n",
        "    column=\"white_pct\",\n",
        "    vmin=0,\n",
        "    **choropleth_style,\n",
        ")\n",
        "\n",
        "\n",
        "\n",
        "axes[1].axis('off')\n",
        "axes[1].set_title(f\"{county_name}: 2022 Senate Dem+WF %\", fontsize=10)\n",
        "county_tract_gdf.join(aggregated_tract_votes_df).plot(\n",
        "    ax=axes[1],\n",
        "    column=\"sen_demwor_pct\",\n",
        "    **choropleth_style,\n",
        ")\n",
        "plt.show()"
      ]
    }
  ],
  "metadata": {
    "colab": {
      "provenance": [],
      "include_colab_link": true
    },
    "kernelspec": {
      "display_name": "Python 3 (ipykernel)",
      "language": "python",
      "name": "python3"
    },
    "language_info": {
      "codemirror_mode": {
        "name": "ipython",
        "version": 3
      },
      "file_extension": ".py",
      "mimetype": "text/x-python",
      "name": "python",
      "nbconvert_exporter": "python",
      "pygments_lexer": "ipython3",
      "version": "3.10.2"
    }
  },
  "nbformat": 4,
  "nbformat_minor": 5
}