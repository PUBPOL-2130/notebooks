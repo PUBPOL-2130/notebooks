{
 "cells": [
  {
   "cell_type": "code",
   "execution_count": null,
   "id": "c7c3ddcf-c386-4ba2-86bd-fe6db09eb092",
   "metadata": {},
   "outputs": [],
   "source": [
    "%config InlineBackend.figure_formats = [\"retina\"]"
   ]
  },
  {
   "cell_type": "markdown",
   "id": "06434b27-45b2-45b4-a3ec-75eaa613693c",
   "metadata": {},
   "source": [
    "# Week 6: flows of people, people over time"
   ]
  },
  {
   "cell_type": "code",
   "execution_count": null,
   "id": "99f2e7ad-5d72-44ea-ac75-e66a6603dc02",
   "metadata": {},
   "outputs": [],
   "source": [
    "!pip install -q geopandas networkx us census xlrd"
   ]
  },
  {
   "cell_type": "code",
   "execution_count": null,
   "id": "1c1eef81-3119-4ca6-8f56-b6361da7fd69",
   "metadata": {},
   "outputs": [],
   "source": [
    "import json\n",
    "\n",
    "import geopandas as gpd\n",
    "import pandas as pd\n",
    "import networkx as nx\n",
    "import matplotlib.pyplot as plt\n",
    "import requests\n",
    "import us\n",
    "\n",
    "from census import Census\n",
    "from shapely.geometry import Point"
   ]
  },
  {
   "cell_type": "code",
   "execution_count": null,
   "id": "c4cdfeb9-c2ea-4bca-b4c5-13a7640852cb",
   "metadata": {},
   "outputs": [],
   "source": [
    "census = Census(\"\", year=2020)"
   ]
  },
  {
   "cell_type": "markdown",
   "id": "1d6121a7-cf6d-4221-9259-2bf5f6686cf8",
   "metadata": {},
   "source": [
    "## ACS migration flows"
   ]
  },
  {
   "cell_type": "code",
   "execution_count": null,
   "id": "e0dce692-a38b-48ce-b9b1-5986bd1823d4",
   "metadata": {},
   "outputs": [],
   "source": [
    "state_fips = \"36\""
   ]
  },
  {
   "cell_type": "code",
   "execution_count": null,
   "id": "26cb761a-89b7-407b-9a28-aa8edd99be6e",
   "metadata": {},
   "outputs": [],
   "source": [
    "# alternate source: https://web.archive.org/web/20241226165446if_/https://www2.census.gov/programs-surveys/demo/tables/geographic-mobility/2020/county-to-county-migration-2016-2020/county-to-county-migration-flows/Net_Gross_US.txt\n",
    "\n",
    "raw_flows = requests.get(\n",
    "    \"https://www2.census.gov/programs-surveys/demo/tables/geographic-mobility/2020/county-to-county-migration-2016-2020/county-to-county-migration-flows/Net_Gross_US.txt\"\n",
    ").content.decode(\"latin1\").split(\"\\n\")"
   ]
  },
  {
   "cell_type": "code",
   "execution_count": null,
   "id": "c5767f55-7a09-4218-9418-3bd4620e1117",
   "metadata": {},
   "outputs": [],
   "source": [
    "raw_flows[0]"
   ]
  },
  {
   "cell_type": "code",
   "execution_count": null,
   "id": "98b1ca2a-744b-469e-83de-64d10773f6a6",
   "metadata": {},
   "outputs": [],
   "source": [
    "# from equivalent Excel spreadsheet\n",
    "place_columns = (\n",
    "    \"a_fips\",\n",
    "    \"b_fips\",\n",
    "    \"a_state\",\n",
    "    \"a_county\",\n",
    "    \"b_state\",\n",
    "    \"b_county\",\n",
    ")\n",
    "\n",
    "flow_columns = (\n",
    "    \"b_to_a_flow_est\",\n",
    "    \"b_to_a_flow_moe\",\n",
    "    \"a_to_b_flow_est\",\n",
    "    \"a_to_b_moe\",\n",
    "    \"net_flow_est\",\n",
    "    \"net_flow_moe\",\n",
    "    \"gross_flow_est\",\n",
    "    \"gross_flow_moe\",\n",
    ")\n",
    "\n",
    "columns = (*place_columns, *flow_columns)"
   ]
  },
  {
   "cell_type": "code",
   "execution_count": null,
   "id": "0d3f147e-f520-49e5-8da3-58f0a2b97204",
   "metadata": {},
   "outputs": [],
   "source": [
    "flows = []\n",
    "for raw_flow in raw_flows[:-1]:\n",
    "    flow_id = raw_flow[:raw_flow.index(\" \")]\n",
    "    if not all(c.isdigit() for c in flow_id):\n",
    "        continue  # skip non-county flows\n",
    "        \n",
    "    assert len(flow_id) == 12, flow_id\n",
    "    a_fips = flow_id[1:6]\n",
    "    b_fips = flow_id[7:]\n",
    "\n",
    "    remainder = raw_flow[raw_flow.index(\" \"):]\n",
    "    parts = [a_fips, b_fips] + [part.strip() for part in remainder.split(\"  \") if part.strip()]\n",
    "    flows.append({col: val for col, val in zip(columns, parts)})"
   ]
  },
  {
   "cell_type": "code",
   "execution_count": null,
   "id": "81645b38-d47a-48a9-ba2f-746babfefc93",
   "metadata": {},
   "outputs": [],
   "source": [
    "flow_df = pd.DataFrame(flows).set_index([\"a_fips\", \"b_fips\"])\n",
    "for col in flow_columns:\n",
    "    flow_df[col] = flow_df[col].astype(int)"
   ]
  },
  {
   "cell_type": "code",
   "execution_count": null,
   "id": "690ae06a-20ac-44b9-a204-b8dc98a241ce",
   "metadata": {},
   "outputs": [],
   "source": [
    "assert not flow_df[\"a_to_b_flow_est\"].isna().sum()"
   ]
  },
  {
   "cell_type": "code",
   "execution_count": null,
   "id": "3dbb697b-f327-4da7-817a-06a132b32cb0",
   "metadata": {},
   "outputs": [],
   "source": [
    "nyc_county_fips_codes = {\n",
    "    \"The Bronx\": \"36005\",      # Bronx County\n",
    "    \"Brooklyn\": \"36047\",       # Kings County\n",
    "    \"Manhattan\": \"36061\",      # New York County\n",
    "    \"Queens\": \"36081\",         # Queens County\n",
    "    \"Staten Island\": \"36085\",  # Richmond\n",
    "}"
   ]
  },
  {
   "cell_type": "code",
   "execution_count": null,
   "id": "6d985a49-0fc4-4d1a-b893-a1fee62e918b",
   "metadata": {},
   "outputs": [],
   "source": [
    "county_gdf = gpd.read_file(\"https://www2.census.gov/geo/tiger/TIGER2020/COUNTY/tl_2020_us_county.zip\").set_index(\"GEOID\").to_crs(\"EPSG:2163\")"
   ]
  },
  {
   "cell_type": "code",
   "execution_count": null,
   "id": "4e929260-1012-443d-b729-2aea817b0366",
   "metadata": {},
   "outputs": [],
   "source": [
    "nyc_county_gdf = county_gdf.loc[nyc_county_fips_codes.values()]"
   ]
  },
  {
   "cell_type": "code",
   "execution_count": null,
   "id": "9100d836-5fc9-48b1-9d96-cdcda6ef0f06",
   "metadata": {},
   "outputs": [],
   "source": [
    "migration_graph = nx.DiGraph()\n",
    "net_migration_graph = nx.DiGraph()\n",
    "\n",
    "for a_county, a_county_fips in nyc_county_fips_codes.items():\n",
    "    for b_county, b_county_fips in nyc_county_fips_codes.items():\n",
    "        if a_county == b_county:\n",
    "            continue\n",
    "            \n",
    "        flow = flow_df.loc[(a_county_fips, b_county_fips)]        \n",
    "        net_flow = flow[\"net_flow_est\"]\n",
    "        if net_flow >= 0:\n",
    "            net_migration_graph.add_edge(\n",
    "                a_county,\n",
    "                b_county,\n",
    "                weight=net_flow,\n",
    "            )\n",
    "        else:\n",
    "            net_migration_graph.add_edge(\n",
    "                b_county,\n",
    "                a_county,\n",
    "                weight=-net_flow,\n",
    "            )"
   ]
  },
  {
   "cell_type": "code",
   "execution_count": null,
   "id": "4e462165-7931-4b50-bc72-c4da12fa3345",
   "metadata": {},
   "outputs": [],
   "source": [
    "def cast_point(p):\n",
    "    return (p.xy[0][0], p.xy[1][0])"
   ]
  },
  {
   "cell_type": "code",
   "execution_count": null,
   "id": "3281f722-d7bc-4a3e-8977-81fe285d371f",
   "metadata": {},
   "outputs": [],
   "source": [
    "fig, ax = plt.subplots(figsize=(10, 20))\n",
    "ax.axis(\"off\")\n",
    "nyc_county_gdf.plot(ax=ax, edgecolor=\"0.1\", linewidth=1, color=\"#e1f1fd\", alpha=0.5)\n",
    "\n",
    "pos = {\n",
    "    borough: cast_point(nyc_county_gdf.loc[county_fips].geometry.representative_point())\n",
    "    for borough, county_fips in nyc_county_fips_codes.items()\n",
    "}   \n",
    "#nx.draw_networkx_nodes(net_migration_graph, pos, ax=ax)\n",
    "nx.draw_networkx_labels(net_migration_graph, pos, ax=ax)\n",
    "\n",
    "for edge in net_migration_graph.edges(data='weight'):\n",
    "    nx.draw_networkx_edges(net_migration_graph, pos, edgelist=[edge], width=0.0015 * edge[2], ax=ax, edge_color=\"red\")"
   ]
  },
  {
   "cell_type": "markdown",
   "id": "876fa5b2-e391-4cd6-a1d2-f4d17072d8e6",
   "metadata": {},
   "source": [
    "## PUMS migration flows"
   ]
  },
  {
   "cell_type": "code",
   "execution_count": null,
   "id": "a254b41e-03ed-474c-8cc5-140b61cf9d81",
   "metadata": {},
   "outputs": [],
   "source": [
    "rac1p = {\n",
    "    \"1\": \"white\",  # White alone\n",
    "    \"2\": \"black\",  # Black or African American alone\n",
    "    \"3\": \"amin\",   # \"American Indian alone\",\n",
    "    \"4\": \"amin\",   # Alaska Native alone\n",
    "    \"5\": \"amin\",   # \"American Indian and Alaska Native tribes specified; or American Indian or Alaska Native, not specified and no other races\",\n",
    "    \"6\": \"aapi\",   # \"Asian alone\",\n",
    "    \"7\": \"aapi\",   # \"Native Hawaiian and Other Pacific Islander alone\",\n",
    "    \"8\": \"other\",  # \"Some other race alone\",\n",
    "    \"9\": \"two_or_more\",  # \"Two or More Races\"\n",
    "}"
   ]
  },
  {
   "cell_type": "code",
   "execution_count": null,
   "id": "77071c4a-8d82-4e6c-aadf-fc65ebbd7955",
   "metadata": {},
   "outputs": [],
   "source": [
    "pums_results = []\n",
    "puma_gdfs = []\n",
    "\n",
    "for state in us.states.STATES:\n",
    "    print(state)\n",
    "\n",
    "    state_pums_response = requests.get(\n",
    "        \"https://api.census.gov/data/2023/acs/acs1/pums\"\n",
    "        f\"?get=MIGSP,MIGPUMA,RAC1P&for=public%20use%20microdata%20area:*&in=state:{state.fips}\"\n",
    "    ).json()\n",
    "    pums_results += state_pums_response[1:]\n",
    "    \n",
    "    puma_gdfs.append(\n",
    "        gpd.read_file(\n",
    "            f\"https://www2.census.gov/geo/tiger/TIGER2024/PUMA20/tl_2024_{state.fips}_puma20.zip\"\n",
    "        )\n",
    "    )"
   ]
  },
  {
   "cell_type": "code",
   "execution_count": null,
   "id": "8812afda-10d2-4c45-a60a-2f6e018f69a2",
   "metadata": {},
   "outputs": [],
   "source": [
    "json.dump(pums_results, open(\"data_archive/pums_results.json\", \"w\"))"
   ]
  },
  {
   "cell_type": "code",
   "execution_count": null,
   "id": "8a2f72b5-eb15-4646-b6f3-e138adda0212",
   "metadata": {},
   "outputs": [],
   "source": [
    "pumas_gdf = gpd.GeoDataFrame(pd.concat(puma_gdfs), crs=puma_gdfs[0].crs).set_index(\"GEOID20\")"
   ]
  },
  {
   "cell_type": "code",
   "execution_count": null,
   "id": "99f41f30-6505-47ee-b270-5f518892249e",
   "metadata": {},
   "outputs": [],
   "source": [
    "pumas_gdf.to_file(\"data_archive/pumas\")"
   ]
  },
  {
   "cell_type": "code",
   "execution_count": null,
   "id": "a28c6586-7892-4223-a86b-63b771af072e",
   "metadata": {},
   "outputs": [],
   "source": [
    "puma_points_gdf = gpd.GeoDataFrame(\n",
    "    {\n",
    "        \"geometry\": pumas_gdf.apply(\n",
    "            lambda row: Point(float(row[\"INTPTLON20\"]), float(row[\"INTPTLAT20\"])),\n",
    "            axis=1,\n",
    "        ),\n",
    "        \"name\": pumas_gdf[\"NAMELSAD20\"],\n",
    "        \"lat\": pumas_gdf[\"INTPTLAT20\"].astype(float),\n",
    "        \"lon\": pumas_gdf[\"INTPTLON20\"].astype(float),\n",
    "    },\n",
    "    crs=pumas_gdf.crs,\n",
    ")"
   ]
  },
  {
   "cell_type": "code",
   "execution_count": null,
   "id": "0d2c232a-72e1-4e39-9594-34dd1d78d364",
   "metadata": {},
   "outputs": [],
   "source": [
    "puma_points_gdf"
   ]
  },
  {
   "cell_type": "code",
   "execution_count": null,
   "id": "0ebb6fd8-b08a-4b9f-b0aa-f71a4559e96d",
   "metadata": {},
   "outputs": [],
   "source": [
    "excluded_migpumas = (\n",
    "    \"00001\",  # Did not live in the United States or in Puerto Rico one year ago\n",
    "    \"00002\",  # Lived in Puerto Rico one year ago and current residence is in the United States\n",
    "    \"N\",      # N/A (person less than 1 year old/lived in same house 1 year ago)\n",
    ")"
   ]
  },
  {
   "cell_type": "code",
   "execution_count": null,
   "id": "d6f5bf02-44a3-4860-93c3-7bd05105bd3b",
   "metadata": {},
   "outputs": [],
   "source": [
    "puma_df = pd.DataFrame(pums_results, columns=[\"migsp\", \"migpuma\", \"race\", \"state\", \"puma\"])\n",
    "puma_df[\"race\"] = puma_df[\"race\"].map(rac1p)"
   ]
  },
  {
   "cell_type": "code",
   "execution_count": null,
   "id": "b5b0c3d8-3f90-46d0-af2c-3dee7e552f42",
   "metadata": {},
   "outputs": [],
   "source": [
    "puma_flows_df = puma_df[puma_df[\"migsp\"].str.startswith(\"0\")].copy()\n",
    "puma_flows_df[\"from\"] = puma_flows_df[\"migsp\"].str.slice(1) + puma_flows_df[\"migpuma\"]\n",
    "puma_flows_df[\"to\"] = puma_df[\"state\"] + puma_flows_df[\"puma\"]\n",
    "puma_flows_df = puma_flows_df[[\"from\", \"to\", \"race\"]]\n",
    "puma_flows_df"
   ]
  },
  {
   "cell_type": "code",
   "execution_count": null,
   "id": "ff0512eb-1ea5-4c07-abc5-cd653c5aaa1e",
   "metadata": {},
   "outputs": [],
   "source": [
    "state_gdf = gpd.read_file(\"https://www2.census.gov/geo/tiger/TIGER2024/STATE/tl_2024_us_state.zip\").set_index(\"GEOID\").to_crs(\"EPSG:2163\")"
   ]
  },
  {
   "cell_type": "code",
   "execution_count": null,
   "id": "a8dbda7e-92c9-41cf-858d-cc9c27970cac",
   "metadata": {},
   "outputs": [],
   "source": [
    "proj_puma_points = dict(puma_points_gdf.to_crs(\"EPSG:2163\")[\"geometry\"])"
   ]
  },
  {
   "cell_type": "code",
   "execution_count": null,
   "id": "78515ed5-0726-49f8-825d-53d9b73652ea",
   "metadata": {},
   "outputs": [],
   "source": [
    "flow_state = \"06\""
   ]
  },
  {
   "cell_type": "code",
   "execution_count": null,
   "id": "117de3bc-f18f-4c29-950a-8db198ffd8c6",
   "metadata": {},
   "outputs": [],
   "source": [
    "for race in puma_flows_df[\"race\"].unique():\n",
    "        race_flows_df = puma_flows_df[puma_flows_df[\"race\"] == race]\n",
    "        in_flow_counts = race_flows_df[race_flows_df[\"to\"].str.startswith(flow_state)].groupby(by=[\"from\", \"to\"]).size()\n",
    "        out_flow_counts = race_flows_df[race_flows_df[\"from\"].str.startswith(flow_state)].groupby(by=[\"from\", \"to\"]).size()\n",
    "\n",
    "        ax = state_gdf.plot(\n",
    "            figsize=(40, 20),\n",
    "            edgecolor=\"0.1\",\n",
    "            linewidth=0.4,\n",
    "            color=\"#e1f1fd\",\n",
    "        )\n",
    "\n",
    "        for flow_counts, color in zip((in_flow_counts, out_flow_counts), (\"red\", \"blue\")):\n",
    "            for (flow_from, flow_to), count in flow_counts.items():\n",
    "                try:\n",
    "                    from_x, from_y = proj_puma_points[flow_from].coords.xy\n",
    "                    to_x, to_y = proj_puma_points[flow_to].coords.xy\n",
    "                except KeyError:\n",
    "                    continue\n",
    "\n",
    "                ax.plot([from_x[0], to_x[0]], [from_y[0], to_y[0]], color=color, linewidth=0.5 * count, alpha=0.3)\n",
    "\n",
    "        ax.axis(\"off\")\n",
    "        ax.set_title(f\"{race} migration (in: red, out: blue)\")\n",
    "        plt.show()"
   ]
  },
  {
   "cell_type": "markdown",
   "id": "b981a832-a6b0-4bc8-90f8-1221f34db5f5",
   "metadata": {
    "tags": []
   },
   "source": [
    "## Advanced flow visualizations with FlowmapBlue"
   ]
  },
  {
   "cell_type": "code",
   "execution_count": null,
   "id": "90893222-58fe-4b82-a3ba-395e756dfdad",
   "metadata": {},
   "outputs": [],
   "source": [
    "#!pip install \"git+https://github.com/PUBPOL-2130/notebooks#egg=pubpol2130&subdirectory=lib\""
   ]
  },
  {
   "cell_type": "code",
   "execution_count": null,
   "id": "c46d8f12-3edb-487b-9352-132bfaeb4955",
   "metadata": {},
   "outputs": [],
   "source": [
    "from pubpol2130 import google_sheets_credentials, generate_flow_sheet"
   ]
  },
  {
   "cell_type": "code",
   "execution_count": null,
   "id": "f339f64d-3fb4-4cd7-bdd2-310ba2e019a7",
   "metadata": {},
   "outputs": [],
   "source": [
    "sheet_creds = google_sheets_credentials()"
   ]
  },
  {
   "cell_type": "markdown",
   "id": "77a1eaee-ab2f-4ad9-83a5-ab7173c88198",
   "metadata": {},
   "source": [
    "### ACS"
   ]
  },
  {
   "cell_type": "code",
   "execution_count": null,
   "id": "e769e3d1-8d4f-463b-b699-3b370e027894",
   "metadata": {},
   "outputs": [],
   "source": [
    "county_flowmap_locations_df = county_gdf[[\"NAMELSAD\", \"INTPTLON\", \"INTPTLAT\"]].reset_index().rename(\n",
    "    columns={\"NAMELSAD\": \"name\", \"INTPTLON\": \"lon\", \"INTPTLAT\": \"lat\", \"GEOID\": \"id\"}\n",
    ")\n",
    "county_flowmap_locations_df"
   ]
  },
  {
   "cell_type": "code",
   "execution_count": null,
   "id": "bf366d5b-ab83-4b4d-a776-2d78749c0643",
   "metadata": {},
   "outputs": [],
   "source": [
    "a_to_b_acs_flow_counts = flow_df.reset_index()[[\"a_fips\", \"b_fips\", \"a_to_b_flow_est\"]].rename(\n",
    "    columns={\"a_fips\": \"origin\", \"b_fips\": \"dest\", \"a_to_b_flow_est\": \"count\"}\n",
    ")\n",
    "b_to_a_acs_flow_counts = flow_df.reset_index()[[\"a_fips\", \"b_fips\", \"b_to_a_flow_est\"]].rename(\n",
    "    columns={\"b_fips\": \"origin\", \"a_fips\": \"dest\", \"b_to_a_flow_est\": \"count\"}\n",
    ")\n",
    "acs_flow_counts = pd.concat([a_to_b_acs_flow_counts, b_to_a_acs_flow_counts])"
   ]
  },
  {
   "cell_type": "code",
   "execution_count": null,
   "id": "330e2855-ce53-43d4-ba6f-1bb910e3af3c",
   "metadata": {},
   "outputs": [],
   "source": [
    "acs_flow_sheet = generate_flow_sheet(\n",
    "    sheet_creds=sheet_creds,\n",
    "    locations_df=county_flowmap_locations_df.sort_values(by=[\"id\"]),\n",
    "    sheet_title=\"PUBPOL 2130: ACS migration flows\",\n",
    "    flow_title=\"U.S. Census ACS county-to-county migration flows, 2016-2020\",\n",
    "    incoming_tooltip=\"People in\",\n",
    "    outgoing_tooltip=\"People out\",\n",
    "    flow_tooltip=\"People\",\n",
    "    total_unit=\"people\",\n",
    "    data_source_name=\"U.S. Census ACS county-to-county migration flows, 2016-2020\",\n",
    "    data_source_url=\"https://www.census.gov/programs-surveys/acs\",\n",
    "    flows={\"2016-2020\": acs_flow_counts},\n",
    ")"
   ]
  },
  {
   "cell_type": "code",
   "execution_count": null,
   "id": "c5268a40-b3f3-4add-858f-1c4d9c0af547",
   "metadata": {},
   "outputs": [],
   "source": [
    "print(acs_flow_sheet.url)"
   ]
  },
  {
   "cell_type": "code",
   "execution_count": null,
   "id": "38b7d0d3-bc03-459b-a988-a3953defdbc6",
   "metadata": {},
   "outputs": [],
   "source": [
    "print(f\"https://www.flowmap.blue/{acs_flow_sheet.url.split('/')[-1]}\")"
   ]
  },
  {
   "cell_type": "markdown",
   "id": "b2445724-eedd-4a4c-8997-3c363cf96d55",
   "metadata": {},
   "source": [
    "#### Aggregating up to the state level"
   ]
  },
  {
   "cell_type": "code",
   "execution_count": null,
   "id": "27c3ed09-b14e-4c57-aa42-ec97f6749ac0",
   "metadata": {},
   "outputs": [],
   "source": [
    "state_flowmap_locations_df = state_gdf[[\"NAME\", \"INTPTLON\", \"INTPTLAT\"]].reset_index().rename(\n",
    "    columns={\"NAME\": \"name\", \"INTPTLON\": \"lon\", \"INTPTLAT\": \"lat\", \"GEOID\": \"id\"}\n",
    ")"
   ]
  },
  {
   "cell_type": "code",
   "execution_count": null,
   "id": "e68f32df-61d4-4e60-a843-7498fcf6ef86",
   "metadata": {},
   "outputs": [],
   "source": [
    "state_acs_flow_counts = acs_flow_counts.copy()\n",
    "state_acs_flow_counts[\"origin\"] = state_acs_flow_counts[\"origin\"].str[:2]\n",
    "state_acs_flow_counts[\"dest\"] = state_acs_flow_counts[\"dest\"].str[:2]\n",
    "state_acs_flow_counts = state_acs_flow_counts.groupby(by=[\"origin\", \"dest\"]).sum().reset_index()\n",
    "\n",
    "# Exclude intra-state flows.\n",
    "state_acs_flow_counts = state_acs_flow_counts[\n",
    "    state_acs_flow_counts[\"origin\"] != state_acs_flow_counts[\"dest\"]\n",
    "]\n",
    "state_acs_flow_counts"
   ]
  },
  {
   "cell_type": "code",
   "execution_count": null,
   "id": "dd67b81b-d81d-4afc-a790-49589a0b72cf",
   "metadata": {},
   "outputs": [],
   "source": [
    "state_acs_flow_sheet = generate_flow_sheet(\n",
    "    sheet_creds=sheet_creds,\n",
    "    locations_df=state_flowmap_locations_df,\n",
    "    sheet_title=\"PUBPOL 2130: ACS migration flows (interstate)\",\n",
    "    flow_title=\"U.S. Census ACS interstate migration flows, 2016-2020\",\n",
    "    incoming_tooltip=\"People in\",\n",
    "    outgoing_tooltip=\"People out\",\n",
    "    flow_tooltip=\"People\",\n",
    "    total_unit=\"people\",\n",
    "    data_source_name=\"U.S. Census ACS state-to-state migration flows, 2016-2020\",\n",
    "    data_source_url=\"https://www.census.gov/programs-surveys/acs\",\n",
    "    flows={\"2016-2020\": state_acs_flow_counts},\n",
    ")"
   ]
  },
  {
   "cell_type": "code",
   "execution_count": null,
   "id": "420eba07-93a5-4f8f-89fa-2d0da8442a47",
   "metadata": {},
   "outputs": [],
   "source": [
    "print(state_acs_flow_sheet.url)"
   ]
  },
  {
   "cell_type": "code",
   "execution_count": null,
   "id": "e3115623-2100-4122-b0c9-56e30ec095f4",
   "metadata": {},
   "outputs": [],
   "source": [
    "print(f\"https://www.flowmap.blue/{state_acs_flow_sheet.url.split('/')[-1]}\")"
   ]
  },
  {
   "cell_type": "markdown",
   "id": "aaef45a4-cb52-4048-b189-32eecebf6fa2",
   "metadata": {},
   "source": [
    "### PUMS"
   ]
  },
  {
   "cell_type": "code",
   "execution_count": null,
   "id": "073cb938-db29-4df8-96f5-f60f8a8437f0",
   "metadata": {},
   "outputs": [],
   "source": [
    "migpuma_by_puma_df = pd.read_excel(\"https://usa.ipums.org/usa/resources/volii/puma_migpuma1_pwpuma00_2020.xls\", dtype=str)\n",
    "\n",
    "migpuma_by_puma_df[\"puma_geoid\"] = (\n",
    "    migpuma_by_puma_df[\"State of Residence (ST)\"]\n",
    "    + migpuma_by_puma_df[\"PUMA\"]\n",
    ")\n",
    "\n",
    "migpuma_by_puma_df[\"migpuma_geoid\"] = (\n",
    "    migpuma_by_puma_df[\"Place of Work State (PWSTATE2) or Migration State (MIGPLAC1)\"]\n",
    "    + migpuma_by_puma_df[\"PWPUMA00 or MIGPUMA1\"]\n",
    ").str[1:]\n",
    "\n",
    "migpuma_by_puma_df = migpuma_by_puma_df[[\"puma_geoid\", \"migpuma_geoid\"]].set_index(\"migpuma_geoid\").sort_values(by=\"puma_geoid\")"
   ]
  },
  {
   "cell_type": "code",
   "execution_count": null,
   "id": "4bcfa53f-5ac0-4c2f-8bdf-ff4f515f0a0a",
   "metadata": {},
   "outputs": [],
   "source": [
    "exclude_migpumas = {\"7200002\", \"1100100\"}\n",
    "exclude_pumas = {\"1100101\"}"
   ]
  },
  {
   "cell_type": "code",
   "execution_count": null,
   "id": "8cde4c9d-a3cd-4f6b-aabb-ffdd76f8260c",
   "metadata": {},
   "outputs": [],
   "source": [
    "puma_flowmap_locations_df = puma_points_gdf.drop(columns=[\"geometry\"])\n",
    "puma_flowmap_locations_df.index.names = [\"id\"]\n",
    "puma_flowmap_locations_df"
   ]
  },
  {
   "cell_type": "code",
   "execution_count": null,
   "id": "d8344fac-51aa-435a-9c8a-8f7ff308ccff",
   "metadata": {},
   "outputs": [],
   "source": [
    "# For the purposes of visualization, arbitrarily assign ambiguous MIGPUMAs to the\n",
    "# first corresponding PUMA (in lexographic order).\n",
    "missing_migpumas = (set(puma_flows_df[\"from\"]) | set(puma_flows_df[\"to\"])) - set(proj_puma_points)\n",
    "migpuma_rows = []\n",
    "\n",
    "for missing_migpuma in missing_migpumas - exclude_migpumas:\n",
    "    puma_geoid = migpuma_by_puma_df.loc[missing_migpuma].iloc[0][\"puma_geoid\"]\n",
    "    if puma_geoid in exclude_pumas:\n",
    "        continue\n",
    "    \n",
    "    migpuma_rows.append({\n",
    "        \"id\": missing_migpuma,\n",
    "        **puma_flowmap_locations_df.loc[puma_geoid],\n",
    "    })\n",
    "    \n",
    "puma_flowmap_locations_df = pd.concat([\n",
    "    puma_flowmap_locations_df,\n",
    "    pd.DataFrame(migpuma_rows).set_index(\"id\"),\n",
    "])"
   ]
  },
  {
   "cell_type": "code",
   "execution_count": null,
   "id": "627b4783-819a-4b9b-9c1d-9e9aef36e325",
   "metadata": {},
   "outputs": [],
   "source": [
    "filtered_puma_flows_df = puma_flows_df[\n",
    "    ~puma_flows_df[\"from\"].isin(exclude_migpumas)\n",
    "    & ~puma_flows_df[\"to\"].isin(exclude_pumas)\n",
    "]"
   ]
  },
  {
   "cell_type": "code",
   "execution_count": null,
   "id": "79fb12cb-d562-4527-aa8d-ad6026df24e2",
   "metadata": {},
   "outputs": [],
   "source": [
    "display_names = {\n",
    "    \"white\": \"White\",\n",
    "    \"black\": \"Black or African American\",\n",
    "    \"amin\": \"American Indian or Alaska Native\",\n",
    "    \"aapi\": \"Asian; Native Hawaiian or Other Pacific Islander\",\n",
    "    \"other\": \"Some Other Race\",\n",
    "    \"two_or_more\": \"Two or More Races\",\n",
    "}"
   ]
  },
  {
   "cell_type": "code",
   "execution_count": null,
   "id": "c73f24a8-65a0-4de4-8a27-5804fe0e4237",
   "metadata": {},
   "outputs": [],
   "source": [
    "puma_flows_df"
   ]
  },
  {
   "cell_type": "code",
   "execution_count": null,
   "id": "a0238475-a55c-4432-a1ed-00e10a4b3c4e",
   "metadata": {},
   "outputs": [],
   "source": [
    "flows_by_race = {}\n",
    "\n",
    "for race in puma_flows_df[\"race\"].unique():\n",
    "        race_flows_df = filtered_puma_flows_df[filtered_puma_flows_df[\"race\"] == race].groupby(\n",
    "            by=[\"from\", \"to\"]\n",
    "        ).size()\n",
    "        flows_by_race[display_names[race]] = race_flows_df.reset_index().rename(\n",
    "            columns={\"from\": \"origin\", \"to\": \"dest\", 0: \"count\"}\n",
    "        )"
   ]
  },
  {
   "cell_type": "code",
   "execution_count": null,
   "id": "6cc970d4-1845-4fa8-be9a-9db4e483b2a8",
   "metadata": {},
   "outputs": [],
   "source": [
    "flow_by_race_sheet = generate_flow_sheet(\n",
    "    sheet_creds=sheet_creds,\n",
    "    locations_df=puma_flowmap_locations_df.reset_index(),\n",
    "    sheet_title=\"PUBPOL 2130: PUMS migration flows\",\n",
    "    flow_title=\"U.S. Census PUMS migration flows, 2023\",\n",
    "    incoming_tooltip=\"People in\",\n",
    "    outgoing_tooltip=\"People out\",\n",
    "    flow_tooltip=\"People\",\n",
    "    total_unit=\"people\",\n",
    "    data_source_name=\"U.S. Census PUMS migration flows, 2023\",\n",
    "    data_source_url=\"https://www.census.gov/programs-surveys/acs/microdata.html\",\n",
    "    flows=flows_by_race,\n",
    ")"
   ]
  },
  {
   "cell_type": "code",
   "execution_count": null,
   "id": "00561ec3-b793-41bd-bc20-59aae00606b3",
   "metadata": {},
   "outputs": [],
   "source": [
    "print(flow_by_race_sheet.url)"
   ]
  },
  {
   "cell_type": "code",
   "execution_count": null,
   "id": "7748fe7a-a296-46e0-8b12-9f0baa0a6fe0",
   "metadata": {},
   "outputs": [],
   "source": [
    "print(f\"https://www.flowmap.blue/{flow_by_race_sheet.url.split('/')[-1]}\")"
   ]
  },
  {
   "cell_type": "markdown",
   "id": "fd39e4c6-1c0f-421b-8499-4a6feca35537",
   "metadata": {},
   "source": [
    "#### Reduction: showing only high-volume flows"
   ]
  },
  {
   "cell_type": "code",
   "execution_count": null,
   "id": "0bb81d31-a147-49bb-af10-615daf86dcc8",
   "metadata": {},
   "outputs": [],
   "source": [
    "min_people = 10"
   ]
  },
  {
   "cell_type": "code",
   "execution_count": null,
   "id": "d769266e-6a29-40f6-bbb2-cd6028a732b9",
   "metadata": {},
   "outputs": [],
   "source": [
    "flows_by_race_reduced = {}\n",
    "\n",
    "for race in puma_flows_df[\"race\"].unique():\n",
    "        race_flows_df = filtered_puma_flows_df[filtered_puma_flows_df[\"race\"] == race].groupby(\n",
    "            by=[\"from\", \"to\"]\n",
    "        ).size().reset_index().rename(\n",
    "            columns={\"from\": \"origin\", \"to\": \"dest\", 0: \"count\"}\n",
    "        )\n",
    "        race_flows_df = race_flows_df[race_flows_df[\"count\"] >= min_people]\n",
    "        flows_by_race_reduced[display_names[race]] = race_flows_df"
   ]
  },
  {
   "cell_type": "code",
   "execution_count": null,
   "id": "75d6bd98-1ee6-4ba1-9232-9d2236671b36",
   "metadata": {},
   "outputs": [],
   "source": [
    "flow_by_race_reduced_sheet = generate_flow_sheet(\n",
    "    sheet_creds=sheet_creds,\n",
    "    locations_df=puma_flowmap_locations_df.reset_index(),\n",
    "    sheet_title=f\"PUBPOL 2130: PUMS migration flows (reduced: min. {min_people} people)\",\n",
    "    flow_title=f\"U.S. Census PUMS migration flows, 2023 (reduced: min. {min_people} people)\",\n",
    "    incoming_tooltip=\"People in\",\n",
    "    outgoing_tooltip=\"People out\",\n",
    "    flow_tooltip=\"People\",\n",
    "    total_unit=\"people\",\n",
    "    data_source_name=\"U.S. Census PUMS migration flows, 2023\",\n",
    "    data_source_url=\"https://www.census.gov/programs-surveys/acs/microdata.html\",\n",
    "    flows=flows_by_race_reduced,\n",
    ")"
   ]
  },
  {
   "cell_type": "code",
   "execution_count": null,
   "id": "e44eefc4-a572-443e-8033-aad81d2bbfb4",
   "metadata": {},
   "outputs": [],
   "source": [
    "print(flow_by_race_reduced_sheet.url)"
   ]
  },
  {
   "cell_type": "code",
   "execution_count": null,
   "id": "98b9e4a6-46db-4920-9739-7f841cabcbeb",
   "metadata": {},
   "outputs": [],
   "source": [
    "print(f\"https://www.flowmap.blue/{flow_by_race_reduced_sheet.url.split('/')[-1]}\")"
   ]
  },
  {
   "cell_type": "code",
   "execution_count": null,
   "id": "37e762a8-c213-4885-9da4-cbda27e6fa0d",
   "metadata": {},
   "outputs": [],
   "source": []
  }
 ],
 "metadata": {
  "kernelspec": {
   "display_name": "Python 3 (ipykernel)",
   "language": "python",
   "name": "python3"
  },
  "language_info": {
   "codemirror_mode": {
    "name": "ipython",
    "version": 3
   },
   "file_extension": ".py",
   "mimetype": "text/x-python",
   "name": "python",
   "nbconvert_exporter": "python",
   "pygments_lexer": "ipython3",
   "version": "3.10.2"
  }
 },
 "nbformat": 4,
 "nbformat_minor": 5
}
