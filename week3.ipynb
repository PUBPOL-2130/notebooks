{
 "cells": [
  {
   "cell_type": "markdown",
   "id": "a3e587da-66c9-4a26-ac30-9b9d059d32b2",
   "metadata": {},
   "source": [
    "# Week 3: the modifiable areal unit problem (MAUP), change over time"
   ]
  },
  {
   "cell_type": "code",
   "execution_count": null,
   "id": "3fe3f168-6f25-4f4d-831f-0cf4e43f1a42",
   "metadata": {},
   "outputs": [],
   "source": [
    "!pip -q install maup census"
   ]
  },
  {
   "cell_type": "code",
   "execution_count": null,
   "id": "0bd8a506-e499-47f1-8c69-aa6cf0c2a7af",
   "metadata": {},
   "outputs": [],
   "source": [
    "%config InlineBackend.figure_formats = [\"retina\"]\n",
    "\n",
    "import matplotlib.pyplot as plt\n",
    "import maup\n",
    "import pandas as pd\n",
    "import geopandas as gpd\n",
    "\n",
    "from math import isnan\n",
    "from census import Census\n",
    "from collections import Counter"
   ]
  },
  {
   "cell_type": "markdown",
   "id": "6f2f7271-2f84-4f18-b333-ee6d8d8d603c",
   "metadata": {},
   "source": [
    "## Introduction to Census blocks"
   ]
  },
  {
   "cell_type": "code",
   "execution_count": null,
   "id": "ddfab922-8ccf-4915-a2d6-a7bb9dc9a308",
   "metadata": {},
   "outputs": [],
   "source": [
    "state_fips = \"36\"    # New York\n",
    "county_fips = \"047\"\n",
    "county_name = \"Kings County\"  # contains Ithaca"
   ]
  },
  {
   "cell_type": "code",
   "execution_count": null,
   "id": "700b97dc-4361-405a-9b00-a172badd6474",
   "metadata": {},
   "outputs": [],
   "source": [
    "census = Census(\"\", year=2020)"
   ]
  },
  {
   "cell_type": "code",
   "execution_count": null,
   "id": "1ff1fefe-21c4-480c-b5d9-baf45bd609f6",
   "metadata": {},
   "outputs": [],
   "source": [
    "block_gdf = gpd.read_file(f\"https://www2.census.gov/geo/tiger/TIGER2024/TABBLOCK20/tl_2024_{state_fips}_tabblock20.zip\")\n",
    "block_gdf = block_gdf.to_crs(\"EPSG:2263\").set_index(\"GEOID20\")"
   ]
  },
  {
   "cell_type": "code",
   "execution_count": null,
   "id": "5335ee25-54b7-40eb-a940-16c9f526768d",
   "metadata": {},
   "outputs": [],
   "source": [
    "county_block_gdf = block_gdf[block_gdf.COUNTYFP20 == county_fips]"
   ]
  },
  {
   "cell_type": "code",
   "execution_count": null,
   "id": "5f4356f7-c1a8-41a0-afb3-677c255a5e45",
   "metadata": {},
   "outputs": [],
   "source": [
    "fig, ax = plt.subplots(figsize=(40, 20))\n",
    "ax.set_title(f\"{county_name} (blocks)\", fontsize=18)\n",
    "ax.axis('off')\n",
    "county_block_gdf.plot(ax=ax, edgecolor=\"0.1\", linewidth=1, color=\"#e1f1fd\")\n",
    "plt.axis('off')\n",
    "plt.show()"
   ]
  },
  {
   "cell_type": "markdown",
   "id": "76aed710-1e72-4731-aa2f-e275f1c8b8b9",
   "metadata": {
    "tags": []
   },
   "source": [
    "### Block-level population data"
   ]
  },
  {
   "cell_type": "code",
   "execution_count": null,
   "id": "c372daac-c15e-4969-b931-164c0c519e73",
   "metadata": {},
   "outputs": [],
   "source": [
    "p1_population_columns = {\n",
    "    \"P1_003N\": \"white\",\t      # White alone\n",
    "    \"P1_004N\": \"black\",\t      # Black or African American alone\n",
    "    \"P1_005N\": \"amin\",        # American Indian and Alaska Native alone\n",
    "    \"P1_006N\": \"asian\",       # Asian alone\n",
    "    \"P1_007N\": \"nhpi\",        # Native Hawaiian and Other Pacific Islander alone\n",
    "    \"P1_008N\": \"other\",       # Some Other Race alone\n",
    "    \"P1_009N\": \"two_or_more\", # Two or more races\n",
    "}"
   ]
  },
  {
   "cell_type": "code",
   "execution_count": null,
   "id": "7d5d450e-60f3-4027-96c1-9726f1d7bd47",
   "metadata": {},
   "outputs": [],
   "source": [
    "block_populations = census.pl.get(\n",
    "    (\"NAME\", *p1_population_columns),\n",
    "    geo={\n",
    "        \"for\": \"block:*\",\n",
    "        \"in\": f\"county:{county_fips} state:{state_fips}\",\n",
    "    }\n",
    ")"
   ]
  },
  {
   "cell_type": "code",
   "execution_count": null,
   "id": "2a9f8bf9-9933-496a-b0c9-b6aaa127e634",
   "metadata": {},
   "outputs": [],
   "source": [
    "race_df = pd.DataFrame(block_populations).rename(\n",
    "    columns={\"NAME\": \"name\", **p1_population_columns}\n",
    ")"
   ]
  },
  {
   "cell_type": "code",
   "execution_count": null,
   "id": "60c0f49f-0052-4292-ab8c-8ba0254e3887",
   "metadata": {},
   "outputs": [],
   "source": [
    "race_df[\"GEOID20\"] = (\n",
    "    race_df[\"state\"]\n",
    "    + race_df[\"county\"]\n",
    "    + race_df[\"tract\"]\n",
    "    + race_df[\"block\"]\n",
    ")\n",
    "race_df = race_df.set_index(\"GEOID20\").drop(columns=[\"name\", \"state\", \"county\", \"tract\", \"block\"])"
   ]
  },
  {
   "cell_type": "code",
   "execution_count": null,
   "id": "0fb6e54d-f1dd-417a-a84c-06f132163a1b",
   "metadata": {},
   "outputs": [],
   "source": [
    "categories = list(p1_population_columns.values())"
   ]
  },
  {
   "cell_type": "code",
   "execution_count": null,
   "id": "35714f4d-466b-4bee-b31b-37b14b54f2ee",
   "metadata": {},
   "outputs": [],
   "source": [
    "race_df[\"total\"] = race_df[categories].sum(axis=1)"
   ]
  },
  {
   "cell_type": "code",
   "execution_count": null,
   "id": "e030a0ba-cdbb-4b6c-a3ba-e3afa26e7688",
   "metadata": {},
   "outputs": [],
   "source": [
    "race_df"
   ]
  },
  {
   "cell_type": "code",
   "execution_count": null,
   "id": "5bada678-8bf6-4659-aed2-ffd9db9ae02e",
   "metadata": {},
   "outputs": [],
   "source": [
    "race_with_pcts_df = race_df.copy()"
   ]
  },
  {
   "cell_type": "code",
   "execution_count": null,
   "id": "35593d34-a893-4e25-b7fd-2dae3939a4e4",
   "metadata": {},
   "outputs": [],
   "source": [
    "for col in categories:\n",
    "    race_with_pcts_df[f\"{col}_pct\"] = (100 * race_df[col] / race_df[\"total\"]).fillna(0)"
   ]
  },
  {
   "cell_type": "code",
   "execution_count": null,
   "id": "3e375777-1118-4086-be69-ecc9c5afd5a7",
   "metadata": {},
   "outputs": [],
   "source": [
    "race_with_pcts_df"
   ]
  },
  {
   "cell_type": "code",
   "execution_count": null,
   "id": "424ca256-7227-42e3-a07d-d90386db6906",
   "metadata": {},
   "outputs": [],
   "source": [
    "county_block_with_race_gdf = county_block_gdf.join(race_with_pcts_df)\n",
    "county_block_with_race_populated_gdf = county_block_with_race_gdf[county_block_with_race_gdf.total > 0]"
   ]
  },
  {
   "cell_type": "code",
   "execution_count": null,
   "id": "4027a70b-3108-40d2-95f6-fae35007d401",
   "metadata": {},
   "outputs": [],
   "source": [
    "choropleth_style = dict(\n",
    "    edgecolor=\"0.1\",\n",
    "    linewidth=0.2,\n",
    "    cmap=\"Blues\",\n",
    "    legend=True,\n",
    "    legend_kwds={'shrink': 0.4},\n",
    ")"
   ]
  },
  {
   "cell_type": "code",
   "execution_count": null,
   "id": "5dfda296-61ea-47f8-ae79-939511803f72",
   "metadata": {},
   "outputs": [],
   "source": [
    "fig, ax = plt.subplots(figsize=(40, 20))\n",
    "ax.axis('off')\n",
    "ax.set_title(f\"{county_name} Black population % (blocks)\", fontsize=18)\n",
    "county_block_with_race_populated_gdf.plot(\n",
    "    ax=ax,\n",
    "    column=\"black_pct\",\n",
    "    vmin=0,\n",
    "    vmax=100,\n",
    "    **choropleth_style,\n",
    ")\n",
    "plt.show()"
   ]
  },
  {
   "cell_type": "markdown",
   "id": "211d1ec8-981e-4c62-afe9-41741f19e773",
   "metadata": {},
   "source": [
    "## Scale effects: blocks vs. tracts"
   ]
  },
  {
   "cell_type": "code",
   "execution_count": null,
   "id": "287ea8ef-9631-42b1-a943-2104e09cb7c6",
   "metadata": {},
   "outputs": [],
   "source": [
    "tract_gdf = gpd.read_file(f\"https://www2.census.gov/geo/tiger/TIGER2024/TRACT/tl_2024_{state_fips}_tract.zip\")\n",
    "tract_gdf = tract_gdf.to_crs(\"EPSG:2263\").set_index(\"GEOID\")"
   ]
  },
  {
   "cell_type": "code",
   "execution_count": null,
   "id": "02c56390-f696-49ba-8d6f-e24e736af0b3",
   "metadata": {},
   "outputs": [],
   "source": [
    "county_tract_gdf = tract_gdf[tract_gdf.COUNTYFP == county_fips]"
   ]
  },
  {
   "cell_type": "code",
   "execution_count": null,
   "id": "37b474f4-b0e7-4a74-b633-53586ada7e46",
   "metadata": {},
   "outputs": [],
   "source": [
    "fig, ax = plt.subplots(figsize=(40, 20))\n",
    "ax.axis('off')\n",
    "ax.set_title(f\"{county_name} (tracts)\", fontsize=18)\n",
    "county_tract_gdf.plot(ax=ax, edgecolor=\"0.1\", linewidth=1, color=\"#e1f1fd\")\n",
    "plt.axis('off')\n",
    "plt.show()"
   ]
  },
  {
   "cell_type": "code",
   "execution_count": null,
   "id": "9002c30e-4323-4c2d-a520-6a923e117264",
   "metadata": {},
   "outputs": [],
   "source": [
    "county_tract_gdf.iloc[0]"
   ]
  },
  {
   "cell_type": "code",
   "execution_count": null,
   "id": "1a6be1b8-b4e2-4c5d-ae1a-d51804a69361",
   "metadata": {},
   "outputs": [],
   "source": [
    "county_block_with_race_gdf[\"tract\"] = county_block_with_race_gdf.index.str.slice(0, 11)"
   ]
  },
  {
   "cell_type": "code",
   "execution_count": null,
   "id": "944cd61f-ed15-415f-90ec-e2aebe6dc27f",
   "metadata": {},
   "outputs": [],
   "source": [
    "county_tract_race_df = county_block_with_race_gdf[[*categories, \"total\", \"tract\"]].groupby(\"tract\").sum()\n",
    "county_tract_race_df"
   ]
  },
  {
   "cell_type": "code",
   "execution_count": null,
   "id": "b424c153-e9f8-4c2e-a348-2e1ce09668b1",
   "metadata": {},
   "outputs": [],
   "source": [
    "county_tract_with_race_gdf = county_tract_gdf.join(county_tract_race_df)\n",
    "county_tract_with_race_gdf"
   ]
  },
  {
   "cell_type": "code",
   "execution_count": null,
   "id": "988730cd-9e9a-46f8-88bc-ebf10ee81287",
   "metadata": {},
   "outputs": [],
   "source": [
    "for col in categories:\n",
    "    county_tract_with_race_gdf[f\"{col}_pct\"] = (100 * county_tract_with_race_gdf[col] / county_tract_with_race_gdf[\"total\"]).fillna(0)"
   ]
  },
  {
   "cell_type": "code",
   "execution_count": null,
   "id": "d891e440-250d-46f3-95fe-e6fdc862940d",
   "metadata": {},
   "outputs": [],
   "source": [
    "fig, ax = plt.subplots(figsize=(40, 20))\n",
    "ax.axis('off')\n",
    "ax.set_title(f\"{county_name} Black population % (tracts)\", fontsize=18)\n",
    "county_tract_with_race_gdf.plot(\n",
    "    ax=ax,\n",
    "    column=\"asian_pct\",\n",
    "    vmin=0,\n",
    "    vmax=100,\n",
    "    **choropleth_style,\n",
    ")\n",
    "plt.show()"
   ]
  },
  {
   "cell_type": "code",
   "execution_count": null,
   "id": "0a52e245-87bc-42f4-96fc-2a55c7c3546f",
   "metadata": {},
   "outputs": [],
   "source": [
    "for col in categories:\n",
    "    fig, axes = plt.subplots(1, 2, figsize=(40, 20))\n",
    "    axes[0].axis('off')\n",
    "    axes[0].set_title(f\"{col} % (blocks)\", fontsize=18)\n",
    "    \n",
    "    vmax = county_block_with_race_populated_gdf[f\"{col}_pct\"].quantile(.999)\n",
    "    \n",
    "    county_block_with_race_populated_gdf.plot(\n",
    "        ax=axes[0],\n",
    "        column=f\"{col}_pct\",\n",
    "        vmin=0,\n",
    "        vmax=vmax,\n",
    "        **choropleth_style,\n",
    "    )\n",
    "    \n",
    "    axes[1].axis('off')\n",
    "    axes[1].set_title(f\"{col} % (block groups)\", fontsize=18)\n",
    "    county_tract_with_race_gdf.plot(\n",
    "        ax=axes[1],\n",
    "        column=f\"{col}_pct\",\n",
    "        vmin=0,\n",
    "        vmax=vmax,\n",
    "        **choropleth_style,\n",
    "    )\n",
    "    \n",
    "    plt.show()"
   ]
  },
  {
   "cell_type": "markdown",
   "id": "0fc2bedb-6476-439d-a3c0-2374cf2b638c",
   "metadata": {},
   "source": [
    "## Introduction to the American Community Survey (ACS)"
   ]
  },
  {
   "cell_type": "code",
   "execution_count": null,
   "id": "cc8842e8-1974-47a1-934c-0461bca12e75",
   "metadata": {},
   "outputs": [],
   "source": [
    "# Estimate!!Median age --!!Total:\t\n",
    "median_age_column = \"B01002_001E\"\n",
    "\n",
    "# Estimate!!Median income in the past 12 months --!!Total:\t\n",
    "median_income_column = \"B06011_001E\""
   ]
  },
  {
   "cell_type": "code",
   "execution_count": null,
   "id": "beff0e24-8275-405f-bf9a-aca5e0f3b68b",
   "metadata": {},
   "outputs": [],
   "source": [
    "county_tract_acs_df = pd.DataFrame(\n",
    "    census.acs5.get(\n",
    "        (median_age_column, median_income_column),\n",
    "        geo={\n",
    "            \"for\": \"tract:*\",\n",
    "            \"in\": f\"county:{county_fips} state:{state_fips}\",\n",
    "        },\n",
    "        year=2023,\n",
    "    )\n",
    ")\n",
    "county_tract_acs_df[\"GEOID20\"] = (\n",
    "    county_tract_acs_df[\"state\"]\n",
    "    + county_tract_acs_df[\"county\"]\n",
    "    + county_tract_acs_df[\"tract\"]\n",
    ")\n",
    "county_tract_acs_df = county_tract_acs_df.set_index(\"GEOID20\").drop(\n",
    "    columns=[\"state\", \"county\", \"tract\"]\n",
    ").rename(\n",
    "    columns={\n",
    "        median_age_column: \"median_age\",\n",
    "        median_income_column: \"median_income\",\n",
    "    }\n",
    ")\n",
    "county_tract_acs_df"
   ]
  },
  {
   "cell_type": "code",
   "execution_count": null,
   "id": "b3747514-5ff2-4d93-85a9-f1bc1b2ae4c7",
   "metadata": {},
   "outputs": [],
   "source": [
    "county_tract_with_acs_gdf = county_tract_with_race_gdf.join(county_tract_acs_df)"
   ]
  },
  {
   "cell_type": "code",
   "execution_count": null,
   "id": "f929b569-834f-4869-8b4d-e8a29a78f474",
   "metadata": {},
   "outputs": [],
   "source": [
    "fig, axes = plt.subplots(1, 2, figsize=(40, 20))\n",
    "axes[0].axis('off')\n",
    "axes[0].set_title(f\"{county_name}: median age\", fontsize=18)\n",
    "\n",
    "county_tract_with_acs_gdf.plot(\n",
    "    ax=axes[0],\n",
    "    column=\"median_age\",\n",
    "    **choropleth_style,\n",
    "    vmin=0,\n",
    ")\n",
    "\n",
    "axes[1].axis('off')\n",
    "axes[1].set_title(f\"{county_name}: median income ($)\", fontsize=18)\n",
    "county_tract_with_acs_gdf.plot(\n",
    "    ax=axes[1],\n",
    "    column=\"median_income\",\n",
    "    **choropleth_style,\n",
    "    vmin=0,\n",
    ")\n",
    "\n",
    "plt.show()"
   ]
  },
  {
   "cell_type": "markdown",
   "id": "ed047c8d-5b87-4025-ab50-b379e7cd62ff",
   "metadata": {},
   "source": [
    "## Introduction to precincts"
   ]
  },
  {
   "cell_type": "code",
   "execution_count": null,
   "id": "aaf3679f-38ba-45bc-9c19-4154cde0f4e4",
   "metadata": {},
   "outputs": [],
   "source": [
    "!curl -OL https://github.com/PUBPOL-2130/notebooks/raw/refs/heads/main/data/week3-NY-precincts.zip\n",
    "!unzip week3-NY-precincts.zip"
   ]
  },
  {
   "cell_type": "code",
   "execution_count": null,
   "id": "87d0c43c-13b1-44c1-b63d-3e6b839c4565",
   "metadata": {},
   "outputs": [],
   "source": [
    "ny_precinct_gdf = gpd.read_file(\"week3-NY-precincts\")"
   ]
  },
  {
   "cell_type": "code",
   "execution_count": null,
   "id": "b047577d-5238-4cce-823c-67623315d2e5",
   "metadata": {},
   "outputs": [],
   "source": [
    "ny_precinct_gdf"
   ]
  },
  {
   "cell_type": "code",
   "execution_count": null,
   "id": "d91c0d98-f417-41a0-a1a0-07b9eb955a7b",
   "metadata": {},
   "outputs": [],
   "source": [
    "sen_columns = [col for col in ny_precinct_gdf if col.startswith(\"USSen_\")]"
   ]
  },
  {
   "cell_type": "code",
   "execution_count": null,
   "id": "819bf4f5-6a5c-4c47-8d66-b79d9d740ace",
   "metadata": {},
   "outputs": [],
   "source": [
    "ny_precinct_gdf[\"USSen_total\"] = ny_precinct_gdf[sen_columns].sum(axis=1)\n",
    "sen_columns.append(\"USSen_total\")"
   ]
  },
  {
   "cell_type": "code",
   "execution_count": null,
   "id": "1d6daddc-86bc-4562-b367-1753ac72c20a",
   "metadata": {},
   "outputs": [],
   "source": [
    "county_precinct_gdf = ny_precinct_gdf[ny_precinct_gdf.CountyFP == county_fips]\n",
    "county_precinct_gdf.geometry = county_precinct_gdf.geometry.buffer(0)"
   ]
  },
  {
   "cell_type": "code",
   "execution_count": null,
   "id": "aee2964b-1fca-45c6-91a8-f74f2bdb8ab8",
   "metadata": {},
   "outputs": [],
   "source": [
    "county_precinct_gdf"
   ]
  },
  {
   "cell_type": "code",
   "execution_count": null,
   "id": "17c34363-a20b-4c64-ad07-c8bc813fdc0f",
   "metadata": {},
   "outputs": [],
   "source": [
    "fig, ax = plt.subplots(figsize=(40, 20))\n",
    "ax.set_title(f\"{county_name} (precincts)\", fontsize=18)\n",
    "ax.axis('off')\n",
    "county_precinct_gdf.plot(ax=ax, edgecolor=\"0.1\", linewidth=1, color=\"#e1f1fd\")\n",
    "plt.axis('off')\n",
    "plt.show()"
   ]
  },
  {
   "cell_type": "code",
   "execution_count": null,
   "id": "2268462e-4b33-45d2-8d5c-321656eaab05",
   "metadata": {},
   "outputs": [],
   "source": [
    "block_to_precinct_assignment = maup.assign(county_block_gdf, county_precinct_gdf)\n",
    "block_to_precinct_assignment = block_to_precinct_assignment[~pd.isna(block_to_precinct_assignment)].astype(int)\n",
    "block_to_precinct_assignment"
   ]
  },
  {
   "cell_type": "code",
   "execution_count": null,
   "id": "44f1ac87-434c-4be8-983f-6967a7c5d019",
   "metadata": {},
   "outputs": [],
   "source": [
    "pop_weights = (\n",
    "    county_block_with_race_populated_gdf[\"total\"]\n",
    "    / block_to_precinct_assignment.map(county_block_with_race_populated_gdf[\"total\"].groupby(block_to_precinct_assignment).sum())\n",
    ").fillna(0)"
   ]
  },
  {
   "cell_type": "code",
   "execution_count": null,
   "id": "9f744cb0-0be1-49fa-b6f3-a0527ea03de3",
   "metadata": {},
   "outputs": [],
   "source": [
    "pop_weights"
   ]
  },
  {
   "cell_type": "code",
   "execution_count": null,
   "id": "9313e919-a49e-4747-88ff-4c10174cc639",
   "metadata": {},
   "outputs": [],
   "source": [
    "prorated_votes_df = maup.prorate(block_to_precinct_assignment, county_precinct_gdf[sen_columns], weights=pop_weights)"
   ]
  },
  {
   "cell_type": "code",
   "execution_count": null,
   "id": "d9801d8f-5dbc-4dfc-aaa8-5cbe519c78cb",
   "metadata": {},
   "outputs": [],
   "source": [
    "prorated_votes_df"
   ]
  },
  {
   "cell_type": "code",
   "execution_count": null,
   "id": "8b633e35-97f4-4be0-89ae-ca05f5d8eb7c",
   "metadata": {},
   "outputs": [],
   "source": [
    "county_block_with_election_gdf = county_block_with_race_gdf.join(prorated_votes_df[[\"USSen_DEM\", \"USSen_total\"]])\n",
    "county_block_with_election_gdf[\"sen_dem_pct\"] = (\n",
    "    100 * county_block_with_election_gdf[\"USSen_DEM\"]\n",
    "    / county_block_with_election_gdf[\"USSen_total\"]\n",
    ")"
   ]
  },
  {
   "cell_type": "code",
   "execution_count": null,
   "id": "77f7fa9d-bf80-4f86-b1ab-18e58d9e445c",
   "metadata": {},
   "outputs": [],
   "source": [
    "fig, ax = plt.subplots(figsize=(40, 20))\n",
    "ax.axis('off')\n",
    "ax.set_title(f\"{county_name} 2022 Senate Dem % (disaggregated to blocks)\", fontsize=18)\n",
    "county_block_with_election_gdf[~pd.isna(county_block_with_election_gdf[\"sen_dem_pct\"])].plot(\n",
    "    ax=ax,\n",
    "    column=\"sen_dem_pct\",\n",
    "    vmin=0,\n",
    "    vmax=100,\n",
    "    **choropleth_style,\n",
    ")\n",
    "county_precinct_gdf.boundary.plot(\n",
    "    ax=ax,\n",
    "    edgecolor=\"0.1\",\n",
    "    linewidth=2.5,\n",
    ")\n",
    "plt.show()"
   ]
  },
  {
   "cell_type": "code",
   "execution_count": null,
   "id": "9af7240f-27a9-4b70-a9ec-93b655eb06bd",
   "metadata": {},
   "outputs": [],
   "source": [
    "prorated_votes_df[\"tract\"] = prorated_votes_df.index.str.slice(0, 11)"
   ]
  },
  {
   "cell_type": "code",
   "execution_count": null,
   "id": "76028dbf-a13c-45ea-9616-d762bd701a59",
   "metadata": {},
   "outputs": [],
   "source": [
    "prorated_tract_votes_df = prorated_votes_df.groupby(\"tract\")[sen_columns].sum()\n",
    "prorated_tract_votes_df"
   ]
  },
  {
   "cell_type": "code",
   "execution_count": null,
   "id": "8033f3f3-9c73-47ab-913e-b645b4b33667",
   "metadata": {},
   "outputs": [],
   "source": [
    "prorated_tract_votes_df[\"sen_dem_pct\"] = (\n",
    "    100 * prorated_tract_votes_df[\"USSen_DEM\"]\n",
    "    / prorated_tract_votes_df[\"USSen_total\"]\n",
    ")"
   ]
  },
  {
   "cell_type": "code",
   "execution_count": null,
   "id": "91d43d66-5f06-40d6-b219-3ff4ffa47c1b",
   "metadata": {},
   "outputs": [],
   "source": [
    "fig, ax = plt.subplots(figsize=(40, 20))\n",
    "ax.axis('off')\n",
    "ax.set_title(f\"{county_name} 2022 Senate Dem % (aggregated up to tracts)\", fontsize=18)\n",
    "county_tract_gdf.join(prorated_tract_votes_df).plot(\n",
    "    ax=ax,\n",
    "    column=\"sen_dem_pct\",\n",
    "    vmin=0,\n",
    "    vmax=100,\n",
    "    **choropleth_style,\n",
    ")\n",
    "plt.show()"
   ]
  },
  {
   "cell_type": "code",
   "execution_count": null,
   "id": "40f77b93-749f-472c-b618-3915035feb92",
   "metadata": {},
   "outputs": [],
   "source": [
    "fig, axes = plt.subplots(1, 3, figsize=(40, 20))\n",
    "axes[0].axis('off')\n",
    "axes[0].set_title(f\"{county_name}: median age\", fontsize=18)\n",
    "\n",
    "county_tract_with_acs_gdf.plot(\n",
    "    ax=axes[0],\n",
    "    column=\"median_age\",\n",
    "    vmin=0,\n",
    "    **choropleth_style,\n",
    ")\n",
    "\n",
    "axes[1].axis('off')\n",
    "axes[1].set_title(f\"{county_name}: median income ($)\", fontsize=18)\n",
    "county_tract_with_acs_gdf.plot(\n",
    "    ax=axes[1],\n",
    "    column=\"median_income\",\n",
    "    vmin=0,\n",
    "    **choropleth_style,\n",
    ")\n",
    "\n",
    "axes[2].axis('off')\n",
    "axes[2].set_title(f\"{county_name}: 2022 Senate Dem %\", fontsize=18)\n",
    "county_tract_gdf.join(prorated_tract_votes_df).plot(\n",
    "    ax=axes[2],\n",
    "    column=\"sen_dem_pct\",\n",
    "    **choropleth_style,\n",
    ")\n",
    "plt.show()"
   ]
  }
 ],
 "metadata": {
  "kernelspec": {
   "display_name": "Python 3 (ipykernel)",
   "language": "python",
   "name": "python3"
  },
  "language_info": {
   "codemirror_mode": {
    "name": "ipython",
    "version": 3
   },
   "file_extension": ".py",
   "mimetype": "text/x-python",
   "name": "python",
   "nbconvert_exporter": "python",
   "pygments_lexer": "ipython3",
   "version": "3.10.2"
  }
 },
 "nbformat": 4,
 "nbformat_minor": 5
}
