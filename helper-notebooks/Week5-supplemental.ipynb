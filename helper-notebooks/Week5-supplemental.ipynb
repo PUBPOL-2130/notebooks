{
  "cells": [
    {
      "cell_type": "markdown",
      "metadata": {
        "colab_type": "text",
        "id": "view-in-github"
      },
      "source": [
        "<a href=\"https://colab.research.google.com/github/PUBPOL-2130/notebooks/blob/main/Week5.ipynb\" target=\"_parent\"><img src=\"https://colab.research.google.com/assets/colab-badge.svg\" alt=\"Open In Colab\"/></a>"
      ]
    },
    {
      "cell_type": "code",
      "execution_count": 1,
      "id": "6beea860-984e-402e-b389-aacee4ec52f6",
      "metadata": {
        "id": "6beea860-984e-402e-b389-aacee4ec52f6"
      },
      "outputs": [],
      "source": [
        "!pip install -q geopandas networkx"
      ]
    },
    {
      "cell_type": "code",
      "execution_count": 2,
      "id": "8eb8fd4e-da4f-4f7e-a764-84c69b478893",
      "metadata": {
        "id": "8eb8fd4e-da4f-4f7e-a764-84c69b478893"
      },
      "outputs": [],
      "source": [
        "%config InlineBackend.figure_formats = [\"svg\"]\n",
        "import base64\n",
        "import io\n",
        "import json\n",
        "import requests\n",
        "\n",
        "import pandas as pd; pd.set_option('display.max_rows', 500)\n",
        "import geopandas as gpd\n",
        "import matplotlib.pyplot as plt\n",
        "import networkx as nx\n",
        "\n",
        "from shapely import Point"
      ]
    },
    {
      "cell_type": "markdown",
      "id": "ccab8940-a621-4f63-acc3-06263f8b1d3a",
      "metadata": {
        "id": "ccab8940-a621-4f63-acc3-06263f8b1d3a"
      },
      "source": [
        "# Week 5: Supplemental Materials"
      ]
    },
    {
      "cell_type": "markdown",
      "id": "47a3e0d6-01ac-4a94-8af1-a594b813121c",
      "metadata": {
        "id": "47a3e0d6-01ac-4a94-8af1-a594b813121c"
      },
      "source": [
        "In this notebook, we will first load the SIPRI data and then cut it down considerably to avoid timeout errors when creating our own Google sheet. This may help you with creating your own Google sheet when creating a flow map with Flowmapblue."
      ]
    },
    {
      "cell_type": "markdown",
      "id": "11e55162",
      "metadata": {},
      "source": [
        "## Data cleaning\n",
        "\n",
        "We'll start with preparing our data exactly as in the Week 5 lab."
      ]
    },
    {
      "cell_type": "markdown",
      "id": "1c90fc67",
      "metadata": {},
      "source": [
        "**Note: We have received reports of errors in the next cell. Some of these errors are due to the fact that the SIPRI data may have gone offline. If you are encountering errors, you can use a backup version of the data.**\n",
        "\n",
        "Please set the following variable `download_raw_data` to `False` if you want to use a backup version of the data."
      ]
    },
    {
      "cell_type": "code",
      "execution_count": 15,
      "id": "fa6d56ca",
      "metadata": {},
      "outputs": [],
      "source": [
        "# set the following variable to false if using backup data\n",
        "download_raw_data=False"
      ]
    },
    {
      "cell_type": "code",
      "execution_count": 4,
      "id": "f3f8c05f-0f29-497c-863c-6464cafe6c56",
      "metadata": {
        "id": "f3f8c05f-0f29-497c-863c-6464cafe6c56"
      },
      "outputs": [],
      "source": [
        "# loading raw data\n",
        "if download_raw_data:\n",
        "    raw_data = requests.post(\n",
        "        \"https://github.com/PUBPOL-2130/notebooks/blob/main/data/sipri_arms_transfers.json\",\n",
        "        json={\"filters\": []},\n",
        "    ).json()"
      ]
    },
    {
      "cell_type": "code",
      "execution_count": 5,
      "id": "95b13bad-4900-4d74-8fb3-d582a0a60f76",
      "metadata": {
        "colab": {
          "base_uri": "https://localhost:8080/"
        },
        "id": "95b13bad-4900-4d74-8fb3-d582a0a60f76",
        "outputId": "5b17274d-bda6-4334-8ac7-33d168803ef2"
      },
      "outputs": [],
      "source": [
        "# converting from base6\n",
        "if download_raw_data:\n",
        "    csv_lines = base64.b64decode(raw_data[\"bytes\"]).decode(\"iso-8859-1\").split(\"\\n\")\n",
        "    csv_lines[:15]"
      ]
    },
    {
      "cell_type": "code",
      "execution_count": 16,
      "id": "6ab9649f",
      "metadata": {},
      "outputs": [],
      "source": [
        "if download_raw_data:\n",
        "    first_line_index = next(idx for idx, line in enumerate(csv_lines) if line.startswith(\"Recipient,\"))\n",
        "    first_line_index"
      ]
    },
    {
      "cell_type": "code",
      "execution_count": 17,
      "id": "8f89972d-2dda-4bdb-9116-ae97030205ce",
      "metadata": {
        "colab": {
          "base_uri": "https://localhost:8080/",
          "height": 895
        },
        "id": "8f89972d-2dda-4bdb-9116-ae97030205ce",
        "outputId": "97b9d573-1422-45df-88ef-d293ac607691"
      },
      "outputs": [],
      "source": [
        "# setting up the data frame, saving locally\n",
        "if download_raw_data:\n",
        "    arms_df = pd.read_csv(io.StringIO(\"\\n\".join(csv_lines[first_line_index:])))\n",
        "    arms_df.to_csv(\"fulldata.csv\")\n",
        "    arms_df\n",
        "else:\n",
        "    arms_df = pd.read_json('https://github.com/PUBPOL-2130/notebooks/blob/main/data/sipri_arms_transfers.json?raw=true')\n",
        "    arms_df.to_csv(\"fulldata.csv\")\n",
        "    arms_df"
      ]
    },
    {
      "cell_type": "code",
      "execution_count": 9,
      "id": "eX5TufWIGWr-",
      "metadata": {
        "id": "eX5TufWIGWr-"
      },
      "outputs": [],
      "source": [
        "# data cleaning -- mapping transfers to general locations we can use\n",
        "capitals_map = {\n",
        "    \"ANC (South Africa)*\": \"South Africa\",\n",
        "    \"Anti-Castro rebels (Cuba)*\": \"Cuba\",\n",
        "    \"Amal (Lebanon)*\": \"Lebanon\",\n",
        "    \"Armas (Guatemala)*\": \"Guatemala\",\n",
        "    \"Contras (Nicaragua)*\": \"Nicaragua\",\n",
        "    \"Darfur rebels (Sudan)*\": \"Sudan\",\n",
        "    \"ELF (Ethiopia)*\": \"Ethiopia\",\n",
        "    \"EPLF (Ethiopia)*\": \"Ethiopia\",\n",
        "    \"FRELIMO (Portugal)*\": \"Portugal\",\n",
        "    \"Haiti rebels*\": \"Haiti\",\n",
        "    \"Hezbollah (Lebanon)*\": \"Lebanon\",\n",
        "    \"Houthi rebels (Yemen)*\": \"Yemen\",\n",
        "    \"Indonesia rebels*\": \"Indonesia\",\n",
        "    \"Khmer Rouge (Cambodia)*\": \"Cambodia\",\n",
        "    \"Kurdistan Regional Government (Iraq)*\": \"Iraq\",\n",
        "    \"LF (Lebanon)*\": \"Lebanon\",\n",
        "    \"LRA (Uganda)*\": \"Uganda\",\n",
        "    \"LTTE (Sri Lanka)*\": \"Sri Lanka\",\n",
        "    \"Libya GNC\": \"Libya\",\n",
        "    \"Libya HoR*\": \"Libya\",\n",
        "    \"Congo\": \"Congo (Brazzaville)\",\n",
        "    \"DR Congo\": \"Congo (Kinshasa)\",\n",
        "    \"MNLF (Philippines)*\": \"Philippines\",\n",
        "    \"MPLA (Portugal)*\": \"Portugal\",\n",
        "    \"MTA (Myanmar)*\": \"Myanmar\",\n",
        "    \"Micronesia\": \"Federated States of Micronesia\",\n",
        "    \"Mujahedin (Afghanistan)*\": \"Afghanistan\",\n",
        "    \"NLA (Macedonia)*\": \"North Macedonia\",\n",
        "    \"NTC (Libya)*\": \"Libya\",\n",
        "    \"Northern Alliance (Afghanistan)*\": \"Afghanistan\",\n",
        "    \"Northern Cyprus\": \"Cyprus\",\n",
        "    \"PAIGC (Portugal)*\": \"Portugal\",\n",
        "    \"PIJ (Israel/Palestine)*\": \"Israel\",\n",
        "    \"PKK (Turkiye)*\": \"Turkey\",\n",
        "    \"PLO (Israel)*\": \"Israel\",\n",
        "    \"PRC (Israel/Palestine)*\": \"Israel\",\n",
        "    \"Pathet Lao (Laos)*\": \"Laos\",\n",
        "    \"Provisional IRA (UK)*\": \"United Kingdom\",\n",
        "    \"RPF (Rwanda)*\": \"Rwanda\",\n",
        "    \"RUF (Sierra Leone)*\": \"United Kingdom\",\n",
        "    \"SLA (Lebanon)*\": \"Lebanon\",\n",
        "    \"SNA (Somalia)*\": \"Somalia\",\n",
        "    \"SPLA (Sudan)*\": \"Sudan\",\n",
        "    \"Southern rebels (Yemen)*\": \"Yemen\",\n",
        "    \"Syria rebels*\": \"Syria\",\n",
        "    \"Turkiye\": \"Turkey\",\n",
        "    \"UAE\": \"United Arab Emirates\",\n",
        "    \"UIC (Somalia)*\": \"Somalia\",\n",
        "    \"UNITA (Angola)*\": \"Angola\",\n",
        "    \"Ukraine Rebels*\": \"Ukraine\",\n",
        "    \"United States\": \"United States of America\",\n",
        "    \"United Wa State (Myanmar)*\": \"Myanmar\",\n",
        "    \"Viet Minh (France)*\": \"France\",\n",
        "    \"Viet Nam\": \"Vietnam\",\n",
        "    \"ZAPU (Zimbabwe)*\": \"Zimbabwe\",\n",
        "    \"GUNT (Chad)*\": \"Chad\",\n",
        "    \"FAN (Chad)*\": \"Chad\",\n",
        "    \"FMLN (El Salvador)*\": \"El Salvador\",\n",
        "    \"Gambia\": \"The Gambia\",\n",
        "    \"Lebanon Palestinian rebels*\": \"Lebanon\",\n",
        "    \"Cote d'Ivoire\": \"Ivory Coast\",\n",
        "    \"Bahamas\": \"The Bahamas\",\n",
        "    \"FNLA (Angola)*\": \"Angola\",\n",
        "    \"Cabo Verde\": \"Cape Verde\",\n",
        "    \"Timor-Leste\": \"East Timor\",\n",
        "    \"Saint Vincent\": \"Saint Vincent and the Grenadines\",\n",
        "    \"Guinea-Bissau\": \"Guinea Bissau\",\n",
        "    \"South Vietnam\": \"Vietnam\",  # Saigon is now Ho Chi Minh City\n",
        "    \"Viet Cong (South Vietnam)*\": \"Vietnam\",\n",
        "    \"Hamas (Palestine)*\": \"Palestine\",\n",
        "    \"Soviet Union\": \"Russia\",\n",
        "    \"NATO**\": \"Belgium\",  # NATO headquarters in Brussels\n",
        "    'European Union**': \"Belgium\",  # EU headquarters in Brussels\n",
        "    \"OSCE**\": \"Austria\",  # secretariat in Vienna\n",
        "    \"Yemen Arab Republic (North Yemen)\": \"Yemen\",  # same capital as Yemen (Sanaa)\n",
        "    \"North Yemen\": \"Yemen\",  # same capital as Yemen (Sanaa)\n",
        "    \"Czechoslovakia\": \"Czechia\",  # same capital as the modern Czech Republic (Prague)\n",
        "    \"Yugoslavia\": \"Serbia\",  # same capital as Serbia (Belgrade)\n",
        "    \"East Germany (GDR)\": \"Germany\",  # for large-scale flow maps, approximate East Berlin with Berlin\n",
        "    \"Western Sahara\": \"Morocco\",  # largely under Moroccan occupation,\n",
        "}\n",
        "\n",
        "exclude_flows = {\n",
        "    \"nan\",\n",
        "    \"unknown rebel group*\",\n",
        "    \"unknown recipient(s)\",\n",
        "    'unknown supplier(s)',\n",
        "    \"United Nations**\",\n",
        "    \"Regional Security System**\",\n",
        "    \"African Union**\",\n",
        "    '0.25',\n",
        "    '3',\n",
        "}\n",
        "\n",
        "# (long, lat) coordinates for capitals of entities not included in the places shapefile.\n",
        "# Several of these entities are countries that no longer exist.\n",
        "extra_capitals = {\n",
        "    \"Biafra\": (\"Enugu\", 7.5139, 6.4483),  # 1967 capital (now part of Nigeria)\n",
        "    \"Bosnia-Herzegovina\": (\"Sarajevo\", 18.4131, 43.8563),\n",
        "    \"South Yemen\": (\"Aden\", 45.0176, 12.7906),\n",
        "    \"Katanga\": (\"Lubumbashi\", 27.5026, -11.6876),\n",
        "    \"South Sudan\": (\"Juba\",  31.5825, 4.8539),\n",
        "    \"Palestine\": (\"East Jerusalem\", 35.217018, 31.771959),\n",
        "    \"Aruba\": (\"Oranjestad\", -70.0353, 12.5227),\n",
        "}"
      ]
    },
    {
      "cell_type": "code",
      "execution_count": 11,
      "id": "102e5fad-8ddd-4f63-8df0-843a235f03ae",
      "metadata": {
        "colab": {
          "base_uri": "https://localhost:8080/",
          "height": 300
        },
        "id": "102e5fad-8ddd-4f63-8df0-843a235f03ae",
        "outputId": "4cc5ce4c-b07e-478f-8254-3123c57eb819"
      },
      "outputs": [
        {
          "data": {
            "text/html": [
              "<div>\n",
              "<style scoped>\n",
              "    .dataframe tbody tr th:only-of-type {\n",
              "        vertical-align: middle;\n",
              "    }\n",
              "\n",
              "    .dataframe tbody tr th {\n",
              "        vertical-align: top;\n",
              "    }\n",
              "\n",
              "    .dataframe thead th {\n",
              "        text-align: right;\n",
              "    }\n",
              "</style>\n",
              "<table border=\"1\" class=\"dataframe\">\n",
              "  <thead>\n",
              "    <tr style=\"text-align: right;\">\n",
              "      <th></th>\n",
              "      <th>name</th>\n",
              "      <th>longitude</th>\n",
              "      <th>latitude</th>\n",
              "      <th>geometry</th>\n",
              "    </tr>\n",
              "    <tr>\n",
              "      <th>adm0name</th>\n",
              "      <th></th>\n",
              "      <th></th>\n",
              "      <th></th>\n",
              "      <th></th>\n",
              "    </tr>\n",
              "  </thead>\n",
              "  <tbody>\n",
              "    <tr>\n",
              "      <th>Biafra</th>\n",
              "      <td>Enugu</td>\n",
              "      <td>7.513900</td>\n",
              "      <td>6.448300</td>\n",
              "      <td>POINT (7.5139 6.4483)</td>\n",
              "    </tr>\n",
              "    <tr>\n",
              "      <th>Bosnia-Herzegovina</th>\n",
              "      <td>Sarajevo</td>\n",
              "      <td>18.413100</td>\n",
              "      <td>43.856300</td>\n",
              "      <td>POINT (18.4131 43.8563)</td>\n",
              "    </tr>\n",
              "    <tr>\n",
              "      <th>South Yemen</th>\n",
              "      <td>Aden</td>\n",
              "      <td>45.017600</td>\n",
              "      <td>12.790600</td>\n",
              "      <td>POINT (45.0176 12.7906)</td>\n",
              "    </tr>\n",
              "    <tr>\n",
              "      <th>Katanga</th>\n",
              "      <td>Lubumbashi</td>\n",
              "      <td>27.502600</td>\n",
              "      <td>-11.687600</td>\n",
              "      <td>POINT (27.5026 -11.6876)</td>\n",
              "    </tr>\n",
              "    <tr>\n",
              "      <th>South Sudan</th>\n",
              "      <td>Juba</td>\n",
              "      <td>31.582500</td>\n",
              "      <td>4.853900</td>\n",
              "      <td>POINT (31.5825 4.8539)</td>\n",
              "    </tr>\n",
              "    <tr>\n",
              "      <th>Palestine</th>\n",
              "      <td>East Jerusalem</td>\n",
              "      <td>35.217018</td>\n",
              "      <td>31.771959</td>\n",
              "      <td>POINT (35.21702 31.77196)</td>\n",
              "    </tr>\n",
              "    <tr>\n",
              "      <th>Aruba</th>\n",
              "      <td>Oranjestad</td>\n",
              "      <td>-70.035300</td>\n",
              "      <td>12.522700</td>\n",
              "      <td>POINT (-70.0353 12.5227)</td>\n",
              "    </tr>\n",
              "  </tbody>\n",
              "</table>\n",
              "</div>"
            ],
            "text/plain": [
              "                              name  longitude   latitude  \\\n",
              "adm0name                                                   \n",
              "Biafra                       Enugu   7.513900   6.448300   \n",
              "Bosnia-Herzegovina        Sarajevo  18.413100  43.856300   \n",
              "South Yemen                   Aden  45.017600  12.790600   \n",
              "Katanga                 Lubumbashi  27.502600 -11.687600   \n",
              "South Sudan                   Juba  31.582500   4.853900   \n",
              "Palestine           East Jerusalem  35.217018  31.771959   \n",
              "Aruba                   Oranjestad -70.035300  12.522700   \n",
              "\n",
              "                                     geometry  \n",
              "adm0name                                       \n",
              "Biafra                  POINT (7.5139 6.4483)  \n",
              "Bosnia-Herzegovina    POINT (18.4131 43.8563)  \n",
              "South Yemen           POINT (45.0176 12.7906)  \n",
              "Katanga              POINT (27.5026 -11.6876)  \n",
              "South Sudan            POINT (31.5825 4.8539)  \n",
              "Palestine           POINT (35.21702 31.77196)  \n",
              "Aruba                POINT (-70.0353 12.5227)  "
            ]
          },
          "execution_count": 11,
          "metadata": {},
          "output_type": "execute_result"
        }
      ],
      "source": [
        "# putting into geodataframe format\n",
        "extra_capitals_gdf = gpd.GeoDataFrame(\n",
        "    [\n",
        "        {\n",
        "            \"adm0name\": entity,\n",
        "            \"name\": capital,\n",
        "            \"longitude\": long,\n",
        "            \"latitude\": lat,\n",
        "            \"geometry\": Point(long, lat),\n",
        "        }\n",
        "        for entity, (capital, long, lat) in extra_capitals.items()\n",
        "    ],\n",
        "    crs=\"epsg:4326\",\n",
        ").set_index(\"adm0name\")"
      ]
    },
    {
      "cell_type": "code",
      "execution_count": 12,
      "id": "G-_9MuCqBGvi",
      "metadata": {
        "id": "G-_9MuCqBGvi"
      },
      "outputs": [],
      "source": [
        "# reading in simple shapefiles for visualizations\n",
        "places_gdf = gpd.read_file(\"https://naciscdn.org/naturalearth/110m/cultural/ne_110m_populated_places_simple.zip\")\n",
        "capitals_gdf = places_gdf[places_gdf[\"adm0cap\"] == 1].set_index(\"adm0name\")\n",
        "# force each nation to have exactly one capital\n",
        "capitals_gdf = capitals_gdf[~capitals_gdf[\"name\"].isin([\"Sucre\", \"Yamoussoukro\", \"Bloemfontein\", \"Pretoria\"])][[\"name\", \"latitude\", \"longitude\", \"geometry\"]]\n",
        "capitals_gdf = gpd.GeoDataFrame(pd.concat([capitals_gdf, extra_capitals_gdf]), crs=\"epsg:4326\")"
      ]
    },
    {
      "cell_type": "markdown",
      "id": "MKeY3WeQ7VbN",
      "metadata": {
        "id": "MKeY3WeQ7VbN"
      },
      "source": [
        "## Integrating with FlowmapBlue"
      ]
    },
    {
      "cell_type": "markdown",
      "id": "jdFgp9tSQq2U",
      "metadata": {
        "id": "jdFgp9tSQq2U"
      },
      "source": [
        "Here, we load FlowmapBlue to create beautiful and interactive flowmaps. The steps are broadly similar to what you saw in Week 5. However, now we'll explore different ways that you can filter the data."
      ]
    },
    {
      "cell_type": "code",
      "execution_count": null,
      "id": "618a031d-8d8f-4ec7-9a55-2d12a4482869",
      "metadata": {
        "colab": {
          "base_uri": "https://localhost:8080/"
        },
        "id": "618a031d-8d8f-4ec7-9a55-2d12a4482869",
        "outputId": "e278bfc7-6b6e-462d-a4b8-01baf4bfd6ec"
      },
      "outputs": [],
      "source": [
        "!pip install \"git+https://github.com/PUBPOL-2130/notebooks#egg=pubpol2130&subdirectory=lib\""
      ]
    },
    {
      "cell_type": "markdown",
      "id": "HKGepJ8TgXCb",
      "metadata": {
        "id": "HKGepJ8TgXCb"
      },
      "source": [
        "This line will pop up a dialog asking for permission to generate Google Sheets credentials using your Google login.  If you're doing this in Colab, it should be particularly seamless."
      ]
    },
    {
      "cell_type": "code",
      "execution_count": null,
      "id": "21cd7541-d5d8-4f9a-8b35-47f0f8741b7e",
      "metadata": {
        "id": "21cd7541-d5d8-4f9a-8b35-47f0f8741b7e"
      },
      "outputs": [],
      "source": [
        "from pubpol2130 import google_sheets_credentials, generate_flow_sheet"
      ]
    },
    {
      "cell_type": "code",
      "execution_count": null,
      "id": "79X9WVImGyj2",
      "metadata": {
        "colab": {
          "base_uri": "https://localhost:8080/",
          "height": 206
        },
        "id": "79X9WVImGyj2",
        "outputId": "c8c43fa5-9a3a-42b6-90bd-baf0e7eea085"
      },
      "outputs": [],
      "source": [
        "flowmap_locations_df = pd.DataFrame(\n",
        "    [\n",
        "        {\n",
        "            \"id\": loc,\n",
        "            \"name\": loc,\n",
        "            \"lat\": capitals_gdf.loc[capitals_map.get(loc, loc), \"latitude\"],\n",
        "            \"lon\": capitals_gdf.loc[capitals_map.get(loc, loc), \"longitude\"],\n",
        "        }\n",
        "        for loc in set(flowmap_arms_df[\"supplier\"]) | set(flowmap_arms_df[\"recipient\"])\n",
        "    ]\n",
        ")\n",
        "flowmap_locations_df.head(5)"
      ]
    },
    {
      "cell_type": "markdown",
      "id": "e930579a-1390-4526-9f59-3a6fde0fc153",
      "metadata": {
        "id": "e930579a-1390-4526-9f59-3a6fde0fc153"
      },
      "source": [
        "If you don't want to go through the whole Google permissions thing, read this [Medium article](https://medium.com/@a.marenkov/how-to-get-credentials-for-google-sheets-456b7e88c430) for info about getting credentials."
      ]
    },
    {
      "cell_type": "code",
      "execution_count": null,
      "id": "d7a72881-9b68-42b4-8155-22ca29d7f387",
      "metadata": {
        "id": "d7a72881-9b68-42b4-8155-22ca29d7f387"
      },
      "outputs": [],
      "source": [
        "sheet_creds = google_sheets_credentials()"
      ]
    },
    {
      "cell_type": "code",
      "execution_count": null,
      "id": "W1gzHp_7GKGa",
      "metadata": {
        "colab": {
          "base_uri": "https://localhost:8080/"
        },
        "id": "W1gzHp_7GKGa",
        "outputId": "ebc49fae-eec3-49aa-d08d-0ba88845c3da"
      },
      "outputs": [],
      "source": [
        "flow_sheet = generate_flow_sheet(\n",
        "    sheet_creds=sheet_creds,\n",
        "    locations_df=flowmap_locations_df,\n",
        "    created_by_name=\"\",  # YOUR NAME HERE\n",
        "    created_by_email=\"\", # YOUR EMAIL HERE\n",
        "    data_source_name=\"SIPRI Arms Transfers Database\",\n",
        "    data_source_url=\"https://www.sipri.org/databases/armstransfers\",\n",
        "    incoming_tooltip=\"Inbound arms transfers (TIV)\",\n",
        "    outgoing_tooltip=\"Outbound arms transfers (TIV)\",\n",
        "    flow_tooltip=\"Arms transfer (TIV)\",\n",
        "    total_unit=\"TIVs\",\n",
        "    sheet_title=\"PUBPOL 2130: SIPRI arms transfers (orders over time)\",\n",
        "    flow_title=\"SIPRI Arms Transfers Database: orders over time\",\n",
        "    flows={\n",
        "        f\"Year: {year}\": year_df.reset_index().rename(columns={\n",
        "            \"supplier\": \"origin\",\n",
        "            \"recipient\": \"dest\",\n",
        "            \"order_sipri_tiv\": \"count\",\n",
        "        })\n",
        "        for year, year_df in orders_by_year_df.groupby(level=0)\n",
        "    }\n",
        ")"
      ]
    },
    {
      "cell_type": "code",
      "execution_count": null,
      "id": "0bc235d2-56d4-4009-8dd6-ecfce9909b3c",
      "metadata": {
        "colab": {
          "base_uri": "https://localhost:8080/"
        },
        "id": "0bc235d2-56d4-4009-8dd6-ecfce9909b3c",
        "outputId": "916b6213-40b8-491f-ee0d-3a089a200247"
      },
      "outputs": [],
      "source": [
        "print(flow_sheet.url)"
      ]
    },
    {
      "cell_type": "code",
      "execution_count": null,
      "id": "d1e048a9-4fc8-43fb-8bfa-3ecc2140c44d",
      "metadata": {
        "colab": {
          "base_uri": "https://localhost:8080/"
        },
        "id": "d1e048a9-4fc8-43fb-8bfa-3ecc2140c44d",
        "outputId": "eade16c8-3bee-49a1-ef8d-71f960e4711d"
      },
      "outputs": [],
      "source": [
        "print(f\"https://www.flowmap.blue/{flow_sheet.url.split('/')[-1]}\")"
      ]
    },
    {
      "cell_type": "markdown",
      "id": "0MdeYNGYiLu7",
      "metadata": {
        "id": "0MdeYNGYiLu7"
      },
      "source": [
        "#Homework 4, due Tuesday March 4, 1:25pm\n",
        "\n",
        "Your homework this week starts with creating a flowmap.  Then you should (1) choose a question about arms flows, (2) read a SIPRI background paper connected to that topic, and (3) make a data product (typically a plot, like in previous weeks) to illustrate a key fact of your choice.\n",
        "\n",
        "To access SIPRI's background papers, go to their [publications page](https://www.sipri.org/publications) and put \"SIPRI background papers\" in the publication type, and use the keyword to get closer to your topic.  (Note that most of these are regional rather than related to particular weapons.)"
      ]
    }
  ],
  "metadata": {
    "colab": {
      "include_colab_link": true,
      "provenance": []
    },
    "kernelspec": {
      "display_name": "Python 3 (ipykernel)",
      "language": "python",
      "name": "python3"
    },
    "language_info": {
      "codemirror_mode": {
        "name": "ipython",
        "version": 3
      },
      "file_extension": ".py",
      "mimetype": "text/x-python",
      "name": "python",
      "nbconvert_exporter": "python",
      "pygments_lexer": "ipython3",
      "version": "3.13.0"
    }
  },
  "nbformat": 4,
  "nbformat_minor": 5
}
